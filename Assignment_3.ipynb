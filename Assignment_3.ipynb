{
  "cells": [
    {
      "cell_type": "markdown",
      "metadata": {
        "id": "view-in-github",
        "colab_type": "text"
      },
      "source": [
        "<a href=\"https://colab.research.google.com/github/mohamedabdelaty74/amit/blob/main/Assignment_3.ipynb\" target=\"_parent\"><img src=\"https://colab.research.google.com/assets/colab-badge.svg\" alt=\"Open In Colab\"/></a>"
      ]
    },
    {
      "cell_type": "markdown",
      "metadata": {
        "id": "Y6mAh5dkuxJM"
      },
      "source": [
        "# Assignment 3"
      ]
    },
    {
      "cell_type": "markdown",
      "metadata": {
        "id": "5EZfjbmAuxJP"
      },
      "source": [
        "\\### Write a function to count the number 4 in a given list."
      ]
    },
    {
      "cell_type": "code",
      "execution_count": 1,
      "metadata": {
        "collapsed": true,
        "id": "dotVPmAauxJQ"
      },
      "outputs": [],
      "source": [
        "def count_four(nums):\n",
        "  return nums.count(4)\n",
        "\n"
      ]
    },
    {
      "cell_type": "markdown",
      "metadata": {
        "id": "-w-jUwa2uxJQ"
      },
      "source": [
        "### write a  function to check whether a number is divisible by another number.\n",
        "\n",
        "\n"
      ]
    },
    {
      "cell_type": "code",
      "execution_count": 3,
      "metadata": {
        "collapsed": true,
        "id": "ROeml3gFuxJQ",
        "colab": {
          "base_uri": "https://localhost:8080/"
        },
        "outputId": "09cc9752-c268-4b11-af24-3cdb4e76ae57"
      },
      "outputs": [
        {
          "output_type": "execute_result",
          "data": {
            "text/plain": [
              "True"
            ]
          },
          "metadata": {},
          "execution_count": 3
        }
      ],
      "source": [
        "def is_divisible(n, k):\n",
        "  return n % k == 0\n",
        "is_divisible(10,5)"
      ]
    },
    {
      "cell_type": "markdown",
      "metadata": {
        "id": "00P1EcIDuxJR"
      },
      "source": [
        "### write a function to find the maximum and minimum numbers from a sequence of numbers."
      ]
    },
    {
      "cell_type": "code",
      "execution_count": 6,
      "metadata": {
        "collapsed": true,
        "id": "oSeRFC4LuxJR",
        "colab": {
          "base_uri": "https://localhost:8080/"
        },
        "outputId": "b28fa203-3661-4830-85f0-95e1f6706947"
      },
      "outputs": [
        {
          "output_type": "execute_result",
          "data": {
            "text/plain": [
              "(77, 2)"
            ]
          },
          "metadata": {},
          "execution_count": 6
        }
      ],
      "source": [
        "def max_min(i):\n",
        "  return max(i), min(i)\n",
        "\n",
        "max_min([2,5,4,77])\n"
      ]
    },
    {
      "cell_type": "markdown",
      "metadata": {
        "id": "NQY2lFDBuxJS"
      },
      "source": [
        "### Write a Python function that takes two lists and returns True if they have at least one common member."
      ]
    },
    {
      "cell_type": "code",
      "execution_count": 14,
      "metadata": {
        "collapsed": true,
        "id": "K4joG0-IuxJS",
        "colab": {
          "base_uri": "https://localhost:8080/"
        },
        "outputId": "f10e9877-35a7-4c6e-bcb9-fbdc61e580c5"
      },
      "outputs": [
        {
          "output_type": "execute_result",
          "data": {
            "text/plain": [
              "True"
            ]
          },
          "metadata": {},
          "execution_count": 14
        }
      ],
      "source": [
        "def common(x,y):\n",
        "  return bool(set(x)&set(y))\n",
        "x=[5,4,7,8]\n",
        "y=[4,8,9,6]\n",
        "common(x,y)\n"
      ]
    },
    {
      "cell_type": "markdown",
      "metadata": {
        "id": "yYyvuoS6uxJS"
      },
      "source": [
        "### Write a Python function to calculate the factorial of a number (a non-negative integer). The function accepts the number from the user"
      ]
    },
    {
      "cell_type": "code",
      "execution_count": 21,
      "metadata": {
        "collapsed": true,
        "id": "ZSEnpCapuxJT",
        "colab": {
          "base_uri": "https://localhost:8080/"
        },
        "outputId": "376e8927-970c-4e61-b790-b656d2edcd6a"
      },
      "outputs": [
        {
          "output_type": "stream",
          "name": "stdout",
          "text": [
            "please enter a number: 5\n",
            "the factorial of 5 is 120\n"
          ]
        }
      ],
      "source": [
        "\n",
        "def factorial(x):\n",
        "        if x == 0:\n",
        "            return 1\n",
        "        return x * factorial(x-1)\n",
        "\n",
        "x = int(input(\"please enter a number: \"))\n",
        "print(\"the factorial of\", x, \"is\", factorial(x))"
      ]
    },
    {
      "cell_type": "markdown",
      "metadata": {
        "id": "JjDvQQoWuxJT"
      },
      "source": [
        "### Write a Python function to check whether a number is in a given range.\n",
        "\n",
        "### The range is from 3 to 11\n"
      ]
    },
    {
      "cell_type": "code",
      "execution_count": 24,
      "metadata": {
        "collapsed": true,
        "id": "og-ltsORuxJT",
        "colab": {
          "base_uri": "https://localhost:8080/"
        },
        "outputId": "8797013c-1f3e-4d89-954c-d703a1a50478"
      },
      "outputs": [
        {
          "output_type": "execute_result",
          "data": {
            "text/plain": [
              "False"
            ]
          },
          "metadata": {},
          "execution_count": 24
        }
      ],
      "source": [
        "def in_range(x):\n",
        "  if x in range(3,12):\n",
        "    return True\n",
        "  return False\n",
        "in_range(2)"
      ]
    },
    {
      "cell_type": "markdown",
      "metadata": {
        "id": "a_aXOdFIuxJU"
      },
      "source": [
        "### Write a  program to create the multiplication table (from 1 to 10) of a number."
      ]
    },
    {
      "cell_type": "code",
      "execution_count": 33,
      "metadata": {
        "collapsed": true,
        "id": "fRGKEHcPuxJU",
        "colab": {
          "base_uri": "https://localhost:8080/"
        },
        "outputId": "5c8eae85-e3d7-41f5-9b9d-f4453a617157"
      },
      "outputs": [
        {
          "output_type": "stream",
          "name": "stdout",
          "text": [
            "Enter a number: 5\n",
            "5 x 1 = 5\n",
            "5 x 2 = 10\n",
            "5 x 3 = 15\n",
            "5 x 4 = 20\n",
            "5 x 5 = 25\n",
            "5 x 6 = 30\n",
            "5 x 7 = 35\n",
            "5 x 8 = 40\n",
            "5 x 9 = 45\n",
            "5 x 10 = 50\n"
          ]
        }
      ],
      "source": [
        "def mult(num):\n",
        "  for i in range(1, 11):\n",
        "    print(num, \"x\", i, \"=\", num * i)\n",
        "\n",
        "num = int(input(\"Enter a number: \"))\n",
        "\n",
        "mult(num)\n"
      ]
    },
    {
      "cell_type": "markdown",
      "metadata": {
        "id": "vz9iOOpmuxJU"
      },
      "source": [
        "#### LESSER OF TWO EVENS: Write a function that returns the lesser of two given numbers *if* both numbers are even, but returns the greater if one or both numbers are odd\n",
        "    lesser_of_two_evens(2,4) --> 2\n",
        "    lesser_of_two_evens(2,5) --> 5"
      ]
    },
    {
      "cell_type": "code",
      "execution_count": 37,
      "metadata": {
        "id": "nyvhEdDcuxJU",
        "colab": {
          "base_uri": "https://localhost:8080/"
        },
        "outputId": "a215321b-ac64-4b4a-f7da-c9f96ab8e577"
      },
      "outputs": [
        {
          "output_type": "execute_result",
          "data": {
            "text/plain": [
              "2"
            ]
          },
          "metadata": {},
          "execution_count": 37
        }
      ],
      "source": [
        "def lesser_of_two_evens(a, b):\n",
        "  if a % 2 == 0 and b % 2 == 0:\n",
        "    return min(a, b)\n",
        "  else:\n",
        "    return max(a, b)\n",
        "lesser_of_two_evens(2,4)\n",
        "\n"
      ]
    },
    {
      "cell_type": "markdown",
      "metadata": {
        "id": "xdhU9J9duxJV"
      },
      "source": [
        "#### ANIMAL CRACKERS: Write a function takes a two-word string and returns True if both words begin with same letter\n",
        "    animal_crackers('Levelheaded Llama') --> True\n",
        "    animal_crackers('Crazy Kangaroo') --> False"
      ]
    },
    {
      "cell_type": "code",
      "execution_count": 47,
      "metadata": {
        "id": "oH_Sgb36uxJV",
        "colab": {
          "base_uri": "https://localhost:8080/"
        },
        "outputId": "2a5de808-0574-4f3c-ac0f-8df948b86412"
      },
      "outputs": [
        {
          "output_type": "execute_result",
          "data": {
            "text/plain": [
              "False"
            ]
          },
          "metadata": {},
          "execution_count": 47
        }
      ],
      "source": [
        "def animal_crackers(string):\n",
        "  first_letter = string.split()[0][0]\n",
        "  second_letter = string.split()[1][0]\n",
        "  return first_letter == second_letter\n",
        "animal_crackers(\"cat barar\")\n"
      ]
    },
    {
      "cell_type": "markdown",
      "metadata": {
        "id": "1yi8SBGIuxJV"
      },
      "source": [
        "#### MAKES TWENTY: Given two integers, return True if the sum of the integers is 20 *or* if one of the integers is 20. If not, return False\n",
        "\n",
        "    makes_twenty(20,10) --> True\n",
        "    makes_twenty(12,8) --> True\n",
        "    makes_twenty(2,3) --> False"
      ]
    },
    {
      "cell_type": "code",
      "execution_count": 53,
      "metadata": {
        "id": "u1r_Y51QuxJV",
        "colab": {
          "base_uri": "https://localhost:8080/"
        },
        "outputId": "fd752c9f-3cd6-41ab-8c60-c290c4bfee4e"
      },
      "outputs": [
        {
          "output_type": "execute_result",
          "data": {
            "text/plain": [
              "True"
            ]
          },
          "metadata": {},
          "execution_count": 53
        }
      ],
      "source": [
        "def makes_20(x,y):\n",
        "  return x + y == 20 or x == 20 or y == 20\n",
        "makes_20(12,8)"
      ]
    },
    {
      "cell_type": "markdown",
      "metadata": {
        "id": "rA6_ORKuuxJW"
      },
      "source": [
        "#### ALMOST THERE: Given an integer n, return True if n is within 10 of either 100 or 200\n",
        "\n",
        "    almost_there(90) --> True\n",
        "    almost_there(104) --> True\n",
        "    almost_there(150) --> False\n",
        "    almost_there(209) --> True\n",
        "    \n",
        "NOTE: `abs(num)` returns the absolute value of a number"
      ]
    },
    {
      "cell_type": "code",
      "execution_count": 57,
      "metadata": {
        "id": "1TohsgDnuxJW",
        "colab": {
          "base_uri": "https://localhost:8080/"
        },
        "outputId": "96ed0231-8328-4542-8282-d24bbf5d2a95"
      },
      "outputs": [
        {
          "output_type": "execute_result",
          "data": {
            "text/plain": [
              "True"
            ]
          },
          "metadata": {},
          "execution_count": 57
        }
      ],
      "source": [
        "def almost_there(n):\n",
        "  return ( n-100  <=10  or n-200   <=10)\n",
        "almost_there(90)"
      ]
    },
    {
      "cell_type": "markdown",
      "metadata": {
        "id": "39DQxR6FuxJW"
      },
      "source": [
        "#### BLACKJACK: Given three integers between 1 and 11, if their sum is less than or equal to 21, return their sum. If their sum exceeds 21 *and* there's an eleven, reduce the total sum by 10. Finally, if the sum  exceeds 21, return 'BUST'\n",
        "    blackjack(5,6,7) --> 18\n",
        "    blackjack(9,9,9) --> 'BUST'\n",
        "    blackjack(9,9,11) --> 19"
      ]
    },
    {
      "cell_type": "code",
      "execution_count": 80,
      "metadata": {
        "id": "BBkGEqZYuxJW",
        "colab": {
          "base_uri": "https://localhost:8080/"
        },
        "outputId": "8fb81d65-3a8f-4ab1-f315-a4be0bf3fcb5"
      },
      "outputs": [
        {
          "output_type": "execute_result",
          "data": {
            "text/plain": [
              "12"
            ]
          },
          "metadata": {},
          "execution_count": 80
        }
      ],
      "source": [
        "def blackjack(a, b, c):\n",
        "  total = a + b + c\n",
        "  if total <= 21:\n",
        "    return total\n",
        "  elif total > 21 and 11 in (a, b, c):\n",
        "    return total - 10\n",
        "    if total > 21:\n",
        "      return 'BUST'\n",
        "    else:\n",
        "      pass\n",
        "  else:\n",
        "    return 'BUST'\n",
        "\n",
        "blackjack(11,6,5)\n"
      ]
    },
    {
      "cell_type": "code",
      "source": [],
      "metadata": {
        "id": "pXP2wXNqCIks"
      },
      "execution_count": null,
      "outputs": []
    }
  ],
  "metadata": {
    "kernelspec": {
      "display_name": "Python 3",
      "language": "python",
      "name": "python3"
    },
    "language_info": {
      "codemirror_mode": {
        "name": "ipython",
        "version": 3
      },
      "file_extension": ".py",
      "mimetype": "text/x-python",
      "name": "python",
      "nbconvert_exporter": "python",
      "pygments_lexer": "ipython3",
      "version": "3.8.5"
    },
    "colab": {
      "provenance": [],
      "include_colab_link": true
    }
  },
  "nbformat": 4,
  "nbformat_minor": 0
}