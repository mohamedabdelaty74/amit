{
  "nbformat": 4,
  "nbformat_minor": 0,
  "metadata": {
    "colab": {
      "provenance": [],
      "authorship_tag": "ABX9TyOudq2ggvUCb5gu1Xvlq9Cm",
      "include_colab_link": true
    },
    "kernelspec": {
      "name": "python3",
      "display_name": "Python 3"
    },
    "language_info": {
      "name": "python"
    }
  },
  "cells": [
    {
      "cell_type": "markdown",
      "metadata": {
        "id": "view-in-github",
        "colab_type": "text"
      },
      "source": [
        "<a href=\"https://colab.research.google.com/github/mohamedabdelaty74/amit/blob/main/assi2.ipynb\" target=\"_parent\"><img src=\"https://colab.research.google.com/assets/colab-badge.svg\" alt=\"Open In Colab\"/></a>"
      ]
    },
    {
      "cell_type": "markdown",
      "source": [
        "use for, .split(), and if to create a Statement that will print out words that start with 's':\n",
        "\n",
        "st = 'Print only the words that start with s in this sentence\"**"
      ],
      "metadata": {
        "id": "C77sxmIBwUL4"
      }
    },
    {
      "cell_type": "code",
      "execution_count": 2,
      "metadata": {
        "colab": {
          "base_uri": "https://localhost:8080/"
        },
        "id": "gW11a_TfutFn",
        "outputId": "d24b5ac8-b11b-47d2-fd3b-23b3a6c97b04"
      },
      "outputs": [
        {
          "output_type": "stream",
          "name": "stdout",
          "text": [
            "start\n",
            "s\n",
            "sentence\n"
          ]
        }
      ],
      "source": [
        "st = 'Print only the words that start with s in this sentence'\n",
        "for i in st.split():\n",
        "    if i.startswith('s'):\n",
        "        print(i)"
      ]
    },
    {
      "cell_type": "code",
      "source": [
        "st = 'Print only the words that start with s in this sentence'\n",
        "for i in st.split():\n",
        "    if i[0] == 's':\n",
        "        print(i)\n"
      ],
      "metadata": {
        "colab": {
          "base_uri": "https://localhost:8080/"
        },
        "id": "Fbt8lwXfxQEX",
        "outputId": "356c64ad-d15b-44a9-f798-4ba9a53d150e"
      },
      "execution_count": 10,
      "outputs": [
        {
          "output_type": "stream",
          "name": "stdout",
          "text": [
            "start\n",
            "s\n",
            "sentence\n"
          ]
        }
      ]
    },
    {
      "cell_type": "markdown",
      "source": [
        "**EVEN NUMBERS**"
      ],
      "metadata": {
        "id": "U-HyHp-Eyb-e"
      }
    },
    {
      "cell_type": "code",
      "source": [
        "for i in range(0,11):\n",
        "  if i%2==0:\n",
        "    print(i)\n",
        "\n"
      ],
      "metadata": {
        "colab": {
          "base_uri": "https://localhost:8080/"
        },
        "id": "ZZIVgvB4x5TK",
        "outputId": "cf66dca8-378f-4c71-b15c-b7a70f4621dd"
      },
      "execution_count": 13,
      "outputs": [
        {
          "output_type": "stream",
          "name": "stdout",
          "text": [
            "0\n",
            "2\n",
            "4\n",
            "6\n",
            "8\n",
            "10\n"
          ]
        }
      ]
    },
    {
      "cell_type": "markdown",
      "source": [
        "\n",
        "\n",
        "---\n",
        "\n",
        "\n",
        "Use a List Comprehension to create a list of all numbers between 1 and 50 that are divisible by 3."
      ],
      "metadata": {
        "id": "qgO02ofmymm5"
      }
    },
    {
      "cell_type": "code",
      "source": [
        "for i in range (1,51):\n",
        "  if i%3==0:\n",
        "    print(i)\n"
      ],
      "metadata": {
        "colab": {
          "base_uri": "https://localhost:8080/"
        },
        "id": "q-TifH_hx5b7",
        "outputId": "9f994e72-fb62-4680-d918-01158263e8b6"
      },
      "execution_count": 15,
      "outputs": [
        {
          "output_type": "stream",
          "name": "stdout",
          "text": [
            "3\n",
            "6\n",
            "9\n",
            "12\n",
            "15\n",
            "18\n",
            "21\n",
            "24\n",
            "27\n",
            "30\n",
            "33\n",
            "36\n",
            "39\n",
            "42\n",
            "45\n",
            "48\n"
          ]
        }
      ]
    },
    {
      "cell_type": "markdown",
      "source": [
        "\n",
        "\n",
        "---\n",
        "\n",
        "\n",
        "Go through the string below and if the length of a word is even print \"even!\"\n",
        "\n",
        "st = 'Print every word in this sentence that has an even number of letters'"
      ],
      "metadata": {
        "id": "_Q0PARRvymCe"
      }
    },
    {
      "cell_type": "code",
      "source": [
        "st = 'Print every word in this sentence that has an even number of letters'\n",
        "\n",
        "for i in st.split() :\n",
        "  if len(i)%2==0:\n",
        "    print(i)"
      ],
      "metadata": {
        "colab": {
          "base_uri": "https://localhost:8080/"
        },
        "id": "OlCX_AyXx5ew",
        "outputId": "349fc3f6-81c1-4d5f-e7dd-f07278536e0b"
      },
      "execution_count": 22,
      "outputs": [
        {
          "output_type": "stream",
          "name": "stdout",
          "text": [
            "word\n",
            "in\n",
            "this\n",
            "sentence\n",
            "that\n",
            "an\n",
            "even\n",
            "number\n",
            "of\n"
          ]
        }
      ]
    },
    {
      "cell_type": "markdown",
      "source": [
        "\n",
        "\n",
        "---\n",
        "\n",
        "\n",
        "Write a program that prints the integers from 1 to 100. But for multiples of three print \"Fizz\" instead of the number, and for the multiples of five print \"Buzz\". For numbers which are multiples of both three and five print \"FizzBuzz\"."
      ],
      "metadata": {
        "id": "vRcn2x1k00N9"
      }
    },
    {
      "cell_type": "code",
      "source": [
        "for i in range(1, 101):\n",
        "  if i % 3 == 0:\n",
        "    print(\"fizz\")\n",
        "  elif i%5==0 :\n",
        "    print(\"buzz\")\n",
        "  else :\n",
        "    print(i)\n",
        "\n"
      ],
      "metadata": {
        "colab": {
          "base_uri": "https://localhost:8080/"
        },
        "id": "JJdBcL_Fx5hY",
        "outputId": "d3ad561e-22d6-471d-c675-7908720c78ca"
      },
      "execution_count": 26,
      "outputs": [
        {
          "output_type": "stream",
          "name": "stdout",
          "text": [
            "1\n",
            "2\n",
            "fizz\n",
            "4\n",
            "buzz\n",
            "fizz\n",
            "7\n",
            "8\n",
            "fizz\n",
            "buzz\n",
            "11\n",
            "fizz\n",
            "13\n",
            "14\n",
            "fizz\n",
            "16\n",
            "17\n",
            "fizz\n",
            "19\n",
            "buzz\n",
            "fizz\n",
            "22\n",
            "23\n",
            "fizz\n",
            "buzz\n",
            "26\n",
            "fizz\n",
            "28\n",
            "29\n",
            "fizz\n",
            "31\n",
            "32\n",
            "fizz\n",
            "34\n",
            "buzz\n",
            "fizz\n",
            "37\n",
            "38\n",
            "fizz\n",
            "buzz\n",
            "41\n",
            "fizz\n",
            "43\n",
            "44\n",
            "fizz\n",
            "46\n",
            "47\n",
            "fizz\n",
            "49\n",
            "buzz\n",
            "fizz\n",
            "52\n",
            "53\n",
            "fizz\n",
            "buzz\n",
            "56\n",
            "fizz\n",
            "58\n",
            "59\n",
            "fizz\n",
            "61\n",
            "62\n",
            "fizz\n",
            "64\n",
            "buzz\n",
            "fizz\n",
            "67\n",
            "68\n",
            "fizz\n",
            "buzz\n",
            "71\n",
            "fizz\n",
            "73\n",
            "74\n",
            "fizz\n",
            "76\n",
            "77\n",
            "fizz\n",
            "79\n",
            "buzz\n",
            "fizz\n",
            "82\n",
            "83\n",
            "fizz\n",
            "buzz\n",
            "86\n",
            "fizz\n",
            "88\n",
            "89\n",
            "fizz\n",
            "91\n",
            "92\n",
            "fizz\n",
            "94\n",
            "buzz\n",
            "fizz\n",
            "97\n",
            "98\n",
            "fizz\n",
            "buzz\n"
          ]
        }
      ]
    },
    {
      "cell_type": "markdown",
      "source": [
        "\n",
        "\n",
        "---\n",
        "\n",
        "\n",
        "Use List Comprehension to create a list of the first\n",
        "letters of every word in the string below:\n",
        "\n",
        "st = 'Create a list of the first letters of every word in this string'"
      ],
      "metadata": {
        "id": "Vcl9T4lY2EYL"
      }
    },
    {
      "cell_type": "code",
      "source": [
        "st = 'Create a list of the first letters of every word in this string'\n",
        "for i in st.split():\n",
        "  print (i[0])\n",
        "\n"
      ],
      "metadata": {
        "colab": {
          "base_uri": "https://localhost:8080/"
        },
        "id": "xxRPIWN5x5j1",
        "outputId": "bea94529-b428-483e-fe20-aae80ea20af2"
      },
      "execution_count": 37,
      "outputs": [
        {
          "output_type": "stream",
          "name": "stdout",
          "text": [
            "C\n",
            "a\n",
            "l\n",
            "o\n",
            "t\n",
            "f\n",
            "l\n",
            "o\n",
            "e\n",
            "w\n",
            "i\n",
            "t\n",
            "s\n"
          ]
        }
      ]
    },
    {
      "cell_type": "code",
      "source": [
        "x=[i[0]for i in st.split()]"
      ],
      "metadata": {
        "id": "hxycolsex5nZ"
      },
      "execution_count": 40,
      "outputs": []
    },
    {
      "cell_type": "code",
      "source": [
        "x"
      ],
      "metadata": {
        "colab": {
          "base_uri": "https://localhost:8080/"
        },
        "id": "-nyIZQ03x5ut",
        "outputId": "1d8e3886-aa08-424d-b752-95f3654992ca"
      },
      "execution_count": 41,
      "outputs": [
        {
          "output_type": "execute_result",
          "data": {
            "text/plain": [
              "['C', 'a', 'l', 'o', 't', 'f', 'l', 'o', 'e', 'w', 'i', 't', 's']"
            ]
          },
          "metadata": {},
          "execution_count": 41
        }
      ]
    },
    {
      "cell_type": "code",
      "source": [],
      "metadata": {
        "id": "_7bC3VHpx5yU"
      },
      "execution_count": null,
      "outputs": []
    },
    {
      "cell_type": "code",
      "source": [],
      "metadata": {
        "id": "9htD7iYgxnSb"
      },
      "execution_count": null,
      "outputs": []
    }
  ]
}