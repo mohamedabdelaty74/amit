{
  "cells": [
    {
      "cell_type": "markdown",
      "metadata": {
        "id": "view-in-github",
        "colab_type": "text"
      },
      "source": [
        "<a href=\"https://colab.research.google.com/github/mohamedabdelaty74/amit/blob/main/Graduation_project_1.ipynb\" target=\"_parent\"><img src=\"https://colab.research.google.com/assets/colab-badge.svg\" alt=\"Open In Colab\"/></a>"
      ]
    },
    {
      "cell_type": "markdown",
      "id": "05332683-9553-489b-871d-1c6203ba6312",
      "metadata": {
        "id": "05332683-9553-489b-871d-1c6203ba6312"
      },
      "source": [
        "# dataset link\n",
        "\n",
        "https://www.kaggle.com/datasets/kaggle/sf-salaries"
      ]
    },
    {
      "cell_type": "markdown",
      "id": "eff890f0-afa0-4617-ba86-092a4e0fe1af",
      "metadata": {
        "id": "eff890f0-afa0-4617-ba86-092a4e0fe1af"
      },
      "source": [
        "# Q1:  What is the average BasePay across all job titles?"
      ]
    },
    {
      "cell_type": "markdown",
      "id": "807a5fe7-8c72-475b-a159-4df4f20ee018",
      "metadata": {
        "id": "807a5fe7-8c72-475b-a159-4df4f20ee018"
      },
      "source": [
        "# PYTHON CODE"
      ]
    },
    {
      "cell_type": "code",
      "execution_count": 1,
      "id": "c440d0a8-8b44-4df8-9cd3-53080816d86d",
      "metadata": {
        "colab": {
          "base_uri": "https://localhost:8080/"
        },
        "id": "c440d0a8-8b44-4df8-9cd3-53080816d86d",
        "outputId": "76900c07-d5a7-4a30-d071-458b95076b81"
      },
      "outputs": [
        {
          "output_type": "stream",
          "name": "stderr",
          "text": [
            "<ipython-input-1-391a5bbcabe8>:3: DtypeWarning: Columns (3,4,5,6,12) have mixed types. Specify dtype option on import or set low_memory=False.\n",
            "  sal= pd.read_csv(\"Salaries.csv\")\n"
          ]
        },
        {
          "output_type": "execute_result",
          "data": {
            "text/plain": [
              "66325.4488404877"
            ]
          },
          "metadata": {},
          "execution_count": 1
        }
      ],
      "source": [
        "import pandas as pd\n",
        "\n",
        "sal= pd.read_csv(\"Salaries.csv\")\n",
        "\n",
        "sal['BasePay'] = pd.to_numeric(sal['BasePay'], errors='coerce')\n",
        "sal['BasePay'].mean()\n",
        "\n"
      ]
    },
    {
      "cell_type": "code",
      "source": [
        "sal.dropna(inplace=True)\n"
      ],
      "metadata": {
        "id": "tWVLLrYw31Nq"
      },
      "id": "tWVLLrYw31Nq",
      "execution_count": null,
      "outputs": []
    },
    {
      "cell_type": "markdown",
      "id": "394de29b-e298-4a13-9e22-6a0aa4d098e7",
      "metadata": {
        "id": "394de29b-e298-4a13-9e22-6a0aa4d098e7"
      },
      "source": [
        "# sql code"
      ]
    },
    {
      "cell_type": "code",
      "source": [
        "DELETE FROM Salaries\n",
        "WHERE BasePay = '';\n",
        "\n",
        "SELECT avg (BasePay) From Salaries\n"
      ],
      "metadata": {
        "id": "-2fiyF54v4yp"
      },
      "id": "-2fiyF54v4yp",
      "execution_count": null,
      "outputs": []
    },
    {
      "cell_type": "markdown",
      "id": "22a1af66-9bd1-405d-bbf1-63c529d14b21",
      "metadata": {
        "id": "22a1af66-9bd1-405d-bbf1-63c529d14b21"
      },
      "source": [
        "# Q2: Which job title has the highest BasePay?\n"
      ]
    },
    {
      "cell_type": "markdown",
      "id": "99f12855-1bd4-4710-bc9e-67a7b8d9f5f6",
      "metadata": {
        "id": "99f12855-1bd4-4710-bc9e-67a7b8d9f5f6"
      },
      "source": [
        "# PYTHON CODE"
      ]
    },
    {
      "cell_type": "code",
      "execution_count": null,
      "id": "097846cd-b927-4a37-bdc5-79adfcd4b0b2",
      "metadata": {
        "colab": {
          "base_uri": "https://localhost:8080/"
        },
        "id": "097846cd-b927-4a37-bdc5-79adfcd4b0b2",
        "outputId": "9ff075b7-7dc2-4c8b-c752-f7f7bed6c7da"
      },
      "outputs": [
        {
          "output_type": "stream",
          "name": "stdout",
          "text": [
            "Chief of Police\n",
            "319275.01\n"
          ]
        }
      ],
      "source": [
        "highest_basepay_job = sal.loc[sal['BasePay'].idxmax()]\n",
        "print(highest_basepay_job['JobTitle'])\n",
        "print(highest_basepay_job['BasePay'])\n"
      ]
    },
    {
      "cell_type": "markdown",
      "id": "9e04064d-b52e-458d-a78e-dc30c9acccb3",
      "metadata": {
        "id": "9e04064d-b52e-458d-a78e-dc30c9acccb3"
      },
      "source": [
        "# sql code"
      ]
    },
    {
      "cell_type": "code",
      "execution_count": null,
      "id": "8f66f072-ad6a-4a07-a654-6555077d84d3",
      "metadata": {
        "id": "8f66f072-ad6a-4a07-a654-6555077d84d3"
      },
      "outputs": [],
      "source": [
        "SELECT max(Basepay) FROM Salaries\n"
      ]
    },
    {
      "cell_type": "markdown",
      "id": "f483122c-55a0-40b0-9923-1c85efe49a4e",
      "metadata": {
        "id": "f483122c-55a0-40b0-9923-1c85efe49a4e"
      },
      "source": [
        "# Q3: How many unique job titles are there in the dataset?\n"
      ]
    },
    {
      "cell_type": "markdown",
      "id": "4dfa40d8-7692-45b4-8bc6-7705f460f3c4",
      "metadata": {
        "id": "4dfa40d8-7692-45b4-8bc6-7705f460f3c4"
      },
      "source": [
        "# PYTHON CODE"
      ]
    },
    {
      "cell_type": "code",
      "execution_count": null,
      "id": "13bea464-18c6-4292-a41d-84cf7bfd33fe",
      "metadata": {
        "colab": {
          "base_uri": "https://localhost:8080/"
        },
        "id": "13bea464-18c6-4292-a41d-84cf7bfd33fe",
        "outputId": "d62aabb2-7861-4bea-d650-67fe430a59d2"
      },
      "outputs": [
        {
          "output_type": "stream",
          "name": "stdout",
          "text": [
            "2159\n"
          ]
        }
      ],
      "source": [
        "unique_job_title=sal['JobTitle'].nunique()\n",
        "print(unique_job_title)"
      ]
    },
    {
      "cell_type": "markdown",
      "id": "86ffe2bc-3621-4cbe-be0f-47b129a2b3c9",
      "metadata": {
        "id": "86ffe2bc-3621-4cbe-be0f-47b129a2b3c9"
      },
      "source": [
        "# sql code"
      ]
    },
    {
      "cell_type": "code",
      "execution_count": null,
      "id": "e1a0da7a-d713-4955-9350-cdcc1065a389",
      "metadata": {
        "id": "e1a0da7a-d713-4955-9350-cdcc1065a389"
      },
      "outputs": [],
      "source": [
        "SELECT COUNT(DISTINCT JobTitle)\n",
        "FROM salaries;"
      ]
    },
    {
      "cell_type": "markdown",
      "id": "f34cdc8a-9374-4dbe-b2f0-9e5831abe142",
      "metadata": {
        "id": "f34cdc8a-9374-4dbe-b2f0-9e5831abe142"
      },
      "source": [
        "#### Q4: What is the total OvertimePay for each year?\n"
      ]
    },
    {
      "cell_type": "markdown",
      "id": "f87e5b8b-c6ad-4b56-890e-0237a6067167",
      "metadata": {
        "id": "f87e5b8b-c6ad-4b56-890e-0237a6067167"
      },
      "source": [
        "# PYTHON CODE"
      ]
    },
    {
      "cell_type": "code",
      "execution_count": 3,
      "id": "5431b6e8-53a0-4b0f-805d-4095f1df9f15",
      "metadata": {
        "colab": {
          "base_uri": "https://localhost:8080/"
        },
        "id": "5431b6e8-53a0-4b0f-805d-4095f1df9f15",
        "outputId": "36b2d601-b015-42d0-eb66-e3efc15aef22"
      },
      "outputs": [
        {
          "output_type": "execute_result",
          "data": {
            "text/plain": [
              "Year\n",
              "2011    1.638388e+08\n",
              "2012    1.846910e+08\n",
              "2013    1.986214e+08\n",
              "2014    2.059186e+08\n",
              "Name: OvertimePay, dtype: float64"
            ]
          },
          "metadata": {},
          "execution_count": 3
        }
      ],
      "source": [
        "sal['OvertimePay']=pd.to_numeric(sal['OvertimePay'],errors='coerce')\n",
        "total_overtime_by_year = sal.groupby('Year')['OvertimePay'].sum()\n",
        "total_overtime_by_year\n"
      ]
    },
    {
      "cell_type": "markdown",
      "id": "4c1f6cba-de43-41f7-8f02-800730c33b5a",
      "metadata": {
        "id": "4c1f6cba-de43-41f7-8f02-800730c33b5a"
      },
      "source": [
        "# sql code"
      ]
    },
    {
      "cell_type": "code",
      "execution_count": null,
      "id": "5f2353ae-221a-427e-96f3-aac434992363",
      "metadata": {
        "id": "5f2353ae-221a-427e-96f3-aac434992363"
      },
      "outputs": [],
      "source": [
        "select Year, sum(OvertimePay) from Salaries\n",
        "GROUP BY Year"
      ]
    },
    {
      "cell_type": "markdown",
      "id": "664886ef-8e66-4ea1-8071-879daf1d9f30",
      "metadata": {
        "id": "664886ef-8e66-4ea1-8071-879daf1d9f30"
      },
      "source": [
        "#### Q5: Which year had the highest average OtherPay?\n"
      ]
    },
    {
      "cell_type": "markdown",
      "id": "ded89aed-27b8-417a-8b9d-f4b7bbb3fbef",
      "metadata": {
        "id": "ded89aed-27b8-417a-8b9d-f4b7bbb3fbef"
      },
      "source": [
        "# PYTHON CODE"
      ]
    },
    {
      "cell_type": "code",
      "execution_count": 17,
      "id": "91cf1f38-1b16-498b-8e78-443defff4ef5",
      "metadata": {
        "colab": {
          "base_uri": "https://localhost:8080/"
        },
        "id": "91cf1f38-1b16-498b-8e78-443defff4ef5",
        "outputId": "bb665262-0116-4ea8-e8f2-edb24f58682f"
      },
      "outputs": [
        {
          "output_type": "execute_result",
          "data": {
            "text/plain": [
              "2013"
            ]
          },
          "metadata": {},
          "execution_count": 17
        }
      ],
      "source": [
        "sal['OtherPay']=pd.to_numeric(sal['OtherPay'], errors='coerce')\n",
        "sal.groupby('Year')['OtherPay'].mean().idxmax()\n",
        "\n"
      ]
    },
    {
      "cell_type": "markdown",
      "id": "8810d02e-87b9-4205-99c8-1eb02b29b371",
      "metadata": {
        "id": "8810d02e-87b9-4205-99c8-1eb02b29b371"
      },
      "source": [
        "# sql code"
      ]
    },
    {
      "cell_type": "code",
      "execution_count": null,
      "id": "b773e41d-bfac-44fe-8d80-3edfaa8593db",
      "metadata": {
        "id": "b773e41d-bfac-44fe-8d80-3edfaa8593db"
      },
      "outputs": [],
      "source": [
        "SELECT Year, AVG(OtherPay) AS AverageOtherPay\n",
        "FROM salaries\n",
        "GROUP BY Year\n",
        "ORDER BY AverageOtherPay DESC\n",
        "LIMIT 1;"
      ]
    },
    {
      "cell_type": "markdown",
      "id": "7f41d533-bcb3-4d73-ad18-c102ee71e160",
      "metadata": {
        "id": "7f41d533-bcb3-4d73-ad18-c102ee71e160"
      },
      "source": [
        "#### Q6: What is the median TotalPay for each job title?\n"
      ]
    },
    {
      "cell_type": "markdown",
      "id": "b31fa7ef-d7f1-431c-aab7-57b68654eead",
      "metadata": {
        "id": "b31fa7ef-d7f1-431c-aab7-57b68654eead"
      },
      "source": [
        "# PYTHON CODE"
      ]
    },
    {
      "cell_type": "code",
      "execution_count": null,
      "id": "a559eaf1-8219-4ac2-b68e-120fd0429bc2",
      "metadata": {
        "colab": {
          "base_uri": "https://localhost:8080/"
        },
        "id": "a559eaf1-8219-4ac2-b68e-120fd0429bc2",
        "outputId": "026ad9b5-b356-4e69-f095-0d7cace2d4d7"
      },
      "outputs": [
        {
          "output_type": "stream",
          "name": "stdout",
          "text": [
            "JobTitle\n",
            "ACCOUNT CLERK                                     49777.820\n",
            "ACCOUNTANT                                        60076.240\n",
            "ACCOUNTANT INTERN                                 17658.505\n",
            "ACPO,JuvP, Juv Prob (SFERS)                       62290.780\n",
            "ACUPUNCTURIST                                     67594.400\n",
            "                                                    ...    \n",
            "X-RAY LABORATORY AIDE                             60333.125\n",
            "X-Ray Laboratory Aide                             60047.290\n",
            "YOUTH COMMISSION ADVISOR, BOARD OF SUPERVISORS    53632.870\n",
            "Youth Comm Advisor                                44449.895\n",
            "ZOO CURATOR                                       66686.560\n",
            "Name: TotalPay, Length: 2159, dtype: float64\n"
          ]
        }
      ],
      "source": [
        "median_totalpay_by_jobtitle = sal.groupby('JobTitle')['TotalPay'].median()\n",
        "print(median_totalpay_by_jobtitle)"
      ]
    },
    {
      "cell_type": "markdown",
      "id": "a6f8219d-4610-4615-9f4c-f35b184eab39",
      "metadata": {
        "id": "a6f8219d-4610-4615-9f4c-f35b184eab39"
      },
      "source": [
        "# sql code"
      ]
    },
    {
      "cell_type": "code",
      "execution_count": null,
      "id": "cc061126-ca6b-4f37-b78b-1121ec9144ba",
      "metadata": {
        "id": "cc061126-ca6b-4f37-b78b-1121ec9144ba"
      },
      "outputs": [],
      "source": [
        "SELECT JobTitle, AVG(TotalPay) AS median_TotalPay\n",
        "FROM (\n",
        "    SELECT TotalPay, JobTitle,\n",
        "           ROW_NUMBER() OVER (PARTITION BY JobTitle ORDER BY TotalPay) AS RowAsc,\n",
        "           ROW_NUMBER() OVER (PARTITION BY JobTitle ORDER BY TotalPay DESC) AS RowDesc\n",
        "    FROM Salaries\n",
        ") AS OrderedData\n",
        "WHERE RowAsc IN (RowDesc, RowDesc + 1, RowDesc - 1)\n",
        "GROUP BY JobTitle\n"
      ]
    },
    {
      "cell_type": "markdown",
      "id": "1235b678-d6f3-4b50-accb-d8d7cb7c67aa",
      "metadata": {
        "id": "1235b678-d6f3-4b50-accb-d8d7cb7c67aa"
      },
      "source": [
        "#### Q7: How many employees are there in each agency?\n"
      ]
    },
    {
      "cell_type": "markdown",
      "id": "030bc2a1-bb58-461e-896c-895bf56a11a9",
      "metadata": {
        "id": "030bc2a1-bb58-461e-896c-895bf56a11a9"
      },
      "source": [
        "# PYTHON CODE"
      ]
    },
    {
      "cell_type": "code",
      "execution_count": 18,
      "id": "96929c35-ca82-49a7-89a0-bd2af8891760",
      "metadata": {
        "colab": {
          "base_uri": "https://localhost:8080/"
        },
        "id": "96929c35-ca82-49a7-89a0-bd2af8891760",
        "outputId": "b6cc5890-9b66-4e01-d101-7e7e72f610c6"
      },
      "outputs": [
        {
          "output_type": "stream",
          "name": "stdout",
          "text": [
            "Agency\n",
            "San Francisco    148654\n",
            "Name: count, dtype: int64\n"
          ]
        }
      ],
      "source": [
        "employee_count_per_agency = sal.groupby('Agency')['Agency'].value_counts()\n",
        "print(employee_count_per_agency)"
      ]
    },
    {
      "cell_type": "markdown",
      "id": "0c055c6f-b0d8-44af-a380-1ded806644b7",
      "metadata": {
        "id": "0c055c6f-b0d8-44af-a380-1ded806644b7"
      },
      "source": [
        "# sql code"
      ]
    },
    {
      "cell_type": "code",
      "execution_count": null,
      "id": "f1b63667-a68a-4290-b936-2fa3ada2e66c",
      "metadata": {
        "id": "f1b63667-a68a-4290-b936-2fa3ada2e66c"
      },
      "outputs": [],
      "source": [
        "SELECT agency, COUNT(id)\n",
        "FROM Salaries"
      ]
    },
    {
      "cell_type": "markdown",
      "id": "266151b2-5c72-4030-8554-20b62128cc23",
      "metadata": {
        "id": "266151b2-5c72-4030-8554-20b62128cc23"
      },
      "source": [
        "#### Q8: What is the maximum Benefits offered by any agency?\n"
      ]
    },
    {
      "cell_type": "markdown",
      "id": "e1459ce9-31c8-4d81-84ba-2a86131770e5",
      "metadata": {
        "id": "e1459ce9-31c8-4d81-84ba-2a86131770e5"
      },
      "source": [
        "# PYTHON CODE"
      ]
    },
    {
      "cell_type": "code",
      "execution_count": 33,
      "id": "7a4e2375-be69-4de8-b58a-e8f14ddf3362",
      "metadata": {
        "colab": {
          "base_uri": "https://localhost:8080/"
        },
        "id": "7a4e2375-be69-4de8-b58a-e8f14ddf3362",
        "outputId": "7c033fea-3efd-4cf5-a155-741c18474b82"
      },
      "outputs": [
        {
          "output_type": "stream",
          "name": "stdout",
          "text": [
            "96570.66\n",
            "110533    San Francisco\n",
            "Name: Agency, dtype: object\n"
          ]
        }
      ],
      "source": [
        "sal['Benefits'] = pd.to_numeric(sal['Benefits'], errors='coerce')\n",
        "max_benefits = sal['Benefits'].max()\n",
        "max_benefits_agency = sal.loc[sal['Benefits'] == max_benefits, 'Agency']\n",
        "\n",
        "print(max_benefits)\n",
        "print(max_benefits_agency)"
      ]
    },
    {
      "cell_type": "code",
      "source": [
        "sal['Benefits'].head()"
      ],
      "metadata": {
        "colab": {
          "base_uri": "https://localhost:8080/"
        },
        "id": "WA-Pb4sIdzBP",
        "outputId": "ee3e34ea-5116-4f63-be89-3d674a9e9696"
      },
      "id": "WA-Pb4sIdzBP",
      "execution_count": 21,
      "outputs": [
        {
          "output_type": "execute_result",
          "data": {
            "text/plain": [
              "0   NaN\n",
              "1   NaN\n",
              "2   NaN\n",
              "3   NaN\n",
              "4   NaN\n",
              "Name: Benefits, dtype: float64"
            ]
          },
          "metadata": {},
          "execution_count": 21
        }
      ]
    },
    {
      "cell_type": "markdown",
      "id": "fce862a1-83de-4e30-b37d-9f4a618e7c9f",
      "metadata": {
        "id": "fce862a1-83de-4e30-b37d-9f4a618e7c9f"
      },
      "source": [
        "# sql code"
      ]
    },
    {
      "cell_type": "code",
      "execution_count": null,
      "id": "87d7c757-2b50-420f-8d7f-edd0eabd35ee",
      "metadata": {
        "id": "87d7c757-2b50-420f-8d7f-edd0eabd35ee"
      },
      "outputs": [],
      "source": [
        "DELETE FROM Salaries\n",
        "WHERE Benefits = '';\n",
        "select Agency, max(benefits) from Salaries"
      ]
    },
    {
      "cell_type": "markdown",
      "id": "8a2a0bd1-8f66-4ea0-bd9e-5e9a5d750c9f",
      "metadata": {
        "id": "8a2a0bd1-8f66-4ea0-bd9e-5e9a5d750c9f"
      },
      "source": [
        "#### Q9: What is the total BasePay, OvertimePay, and OtherPay for each employee?\n"
      ]
    },
    {
      "cell_type": "markdown",
      "id": "e460920a-69ca-443b-8fdf-67d4a7a59f86",
      "metadata": {
        "id": "e460920a-69ca-443b-8fdf-67d4a7a59f86"
      },
      "source": [
        "# PYTHON CODE"
      ]
    },
    {
      "cell_type": "code",
      "execution_count": null,
      "id": "a8aeffa2-9f01-4ad4-9099-7f32d104235b",
      "metadata": {
        "colab": {
          "base_uri": "https://localhost:8080/"
        },
        "id": "a8aeffa2-9f01-4ad4-9099-7f32d104235b",
        "outputId": "fd6d3a37-7e48-46c5-b56a-7fbff4e98a76"
      },
      "outputs": [
        {
          "output_type": "stream",
          "name": "stdout",
          "text": [
            "<class 'pandas.core.frame.DataFrame'>\n",
            "RangeIndex: 148654 entries, 0 to 148653\n",
            "Data columns (total 13 columns):\n",
            " #   Column            Non-Null Count   Dtype  \n",
            "---  ------            --------------   -----  \n",
            " 0   Id                148654 non-null  int64  \n",
            " 1   EmployeeName      148654 non-null  object \n",
            " 2   JobTitle          148654 non-null  object \n",
            " 3   BasePay           148045 non-null  float64\n",
            " 4   OvertimePay       148650 non-null  float64\n",
            " 5   OtherPay          148650 non-null  float64\n",
            " 6   Benefits          112491 non-null  float64\n",
            " 7   TotalPay          148654 non-null  float64\n",
            " 8   TotalPayBenefits  148654 non-null  float64\n",
            " 9   Year              148654 non-null  int64  \n",
            " 10  Notes             0 non-null       float64\n",
            " 11  Agency            148654 non-null  object \n",
            " 12  Status            38119 non-null   object \n",
            "dtypes: float64(7), int64(2), object(4)\n",
            "memory usage: 14.7+ MB\n"
          ]
        }
      ],
      "source": [
        "sal.info()\n"
      ]
    },
    {
      "cell_type": "code",
      "source": [
        "comparison_result = sal['TotalPay'] == (sal['BasePay'] + sal['OvertimePay'] + sal['OtherPay'])\n",
        "true_count = comparison_result.sum()\n",
        "false_count = len(comparison_result) - true_count\n",
        "print(\"True:\", true_count)\n",
        "print(\"False:\", false_count)"
      ],
      "metadata": {
        "colab": {
          "base_uri": "https://localhost:8080/"
        },
        "id": "N4W4hqy7UJ0N",
        "outputId": "66d7d1e9-8540-4b8e-822b-edf97c2357a5"
      },
      "id": "N4W4hqy7UJ0N",
      "execution_count": null,
      "outputs": [
        {
          "output_type": "stream",
          "name": "stdout",
          "text": [
            "True: 120934\n",
            "False: 27720\n"
          ]
        }
      ]
    },
    {
      "cell_type": "code",
      "source": [
        "sal['tot'] = sal['BasePay'] + sal['OvertimePay'] + sal['OtherPay']\n",
        "print(sal[['EmployeeName', 'tot']])\n"
      ],
      "metadata": {
        "colab": {
          "base_uri": "https://localhost:8080/"
        },
        "id": "Luw5fDZsUZMy",
        "outputId": "84cbe94e-39b0-4095-9274-b8a96ef86833"
      },
      "id": "Luw5fDZsUZMy",
      "execution_count": null,
      "outputs": [
        {
          "output_type": "stream",
          "name": "stdout",
          "text": [
            "             EmployeeName        tot\n",
            "0          NATHANIEL FORD  567595.43\n",
            "1            GARY JIMENEZ  538909.28\n",
            "2          ALBERT PARDINI  335279.91\n",
            "3       CHRISTOPHER CHONG  332343.61\n",
            "4         PATRICK GARDNER  326373.19\n",
            "...                   ...        ...\n",
            "148649      Roy I Tillery       0.00\n",
            "148650       Not provided        NaN\n",
            "148651       Not provided        NaN\n",
            "148652       Not provided        NaN\n",
            "148653          Joe Lopez    -618.13\n",
            "\n",
            "[148654 rows x 2 columns]\n"
          ]
        }
      ]
    },
    {
      "cell_type": "markdown",
      "id": "01284115-6eb2-4544-bc07-b95c69b05ec3",
      "metadata": {
        "id": "01284115-6eb2-4544-bc07-b95c69b05ec3"
      },
      "source": [
        "# sql code"
      ]
    },
    {
      "cell_type": "code",
      "execution_count": null,
      "id": "1cf3e5dd-daab-47ff-a154-785b592385f2",
      "metadata": {
        "id": "1cf3e5dd-daab-47ff-a154-785b592385f2"
      },
      "outputs": [],
      "source": [
        "select EmployeeName , sum(BasePay), sum(OvertimePay), sum(OtherPay)\n",
        "from Salaries\n",
        "group by id"
      ]
    },
    {
      "cell_type": "markdown",
      "id": "51cab719-13e5-4520-b554-766a0993f68a",
      "metadata": {
        "id": "51cab719-13e5-4520-b554-766a0993f68a"
      },
      "source": [
        "#### Q10: Which employee has the highest TotalPayBenefits?\n"
      ]
    },
    {
      "cell_type": "markdown",
      "id": "643f4a2b-647c-4fdf-85de-1e8f0026b8a1",
      "metadata": {
        "id": "643f4a2b-647c-4fdf-85de-1e8f0026b8a1"
      },
      "source": [
        "# PYTHON CODE"
      ]
    },
    {
      "cell_type": "code",
      "execution_count": null,
      "id": "789d289a-13b9-46a6-8e6f-69f13562e1ac",
      "metadata": {
        "colab": {
          "base_uri": "https://localhost:8080/"
        },
        "id": "789d289a-13b9-46a6-8e6f-69f13562e1ac",
        "outputId": "8f2b8d8e-4733-4a05-fa79-89b8648c5e7c"
      },
      "outputs": [
        {
          "output_type": "stream",
          "name": "stdout",
          "text": [
            "NATHANIEL FORD 567595.43\n"
          ]
        }
      ],
      "source": [
        "sal['TotalPayBenefits'] = pd.to_numeric(sal['TotalPayBenefits'], errors='coerce')\n",
        "highest_paid_employee = sal.loc[sal['TotalPayBenefits'].idxmax()]['EmployeeName']\n",
        "print(highest_paid_employee,sal['TotalPayBenefits'].max())"
      ]
    },
    {
      "cell_type": "markdown",
      "id": "5f49a2f1-3596-4430-890e-e6f1e11d8410",
      "metadata": {
        "id": "5f49a2f1-3596-4430-890e-e6f1e11d8410"
      },
      "source": [
        "# sql code"
      ]
    },
    {
      "cell_type": "code",
      "execution_count": null,
      "id": "5c9d4755-2c63-48cd-a945-6192817f5c78",
      "metadata": {
        "id": "5c9d4755-2c63-48cd-a945-6192817f5c78"
      },
      "outputs": [],
      "source": [
        "SELECT EmployeeName, TotalPayBenefits\n",
        "FROM Salaries\n",
        "ORDER BY TotalPayBenefits DESC\n",
        "LIMIT 1;"
      ]
    },
    {
      "cell_type": "markdown",
      "id": "249a27c0-9bbc-49ae-b7e5-e7a4cec509e8",
      "metadata": {
        "id": "249a27c0-9bbc-49ae-b7e5-e7a4cec509e8"
      },
      "source": [
        "#### Q11: How does the average TotalPayBenefits vary across years?\n"
      ]
    },
    {
      "cell_type": "markdown",
      "id": "f2629638-d6a7-484a-ba03-55436f556a30",
      "metadata": {
        "id": "f2629638-d6a7-484a-ba03-55436f556a30"
      },
      "source": [
        "# PYTHON CODE"
      ]
    },
    {
      "cell_type": "code",
      "execution_count": null,
      "id": "d8930f87-395b-448a-ada1-4b0decec0345",
      "metadata": {
        "colab": {
          "base_uri": "https://localhost:8080/",
          "height": 175
        },
        "id": "d8930f87-395b-448a-ada1-4b0decec0345",
        "outputId": "66d17c42-7431-49fa-ae21-38bdcdfe8456"
      },
      "outputs": [
        {
          "output_type": "execute_result",
          "data": {
            "text/plain": [
              "   Year  TotalPayBenefits\n",
              "0  2011      71744.103871\n",
              "1  2012     100553.229232\n",
              "2  2013     101440.519714\n",
              "3  2014     100250.918884"
            ],
            "text/html": [
              "\n",
              "  <div id=\"df-32501000-bb31-4a74-be3f-ca7aea304998\" class=\"colab-df-container\">\n",
              "    <div>\n",
              "<style scoped>\n",
              "    .dataframe tbody tr th:only-of-type {\n",
              "        vertical-align: middle;\n",
              "    }\n",
              "\n",
              "    .dataframe tbody tr th {\n",
              "        vertical-align: top;\n",
              "    }\n",
              "\n",
              "    .dataframe thead th {\n",
              "        text-align: right;\n",
              "    }\n",
              "</style>\n",
              "<table border=\"1\" class=\"dataframe\">\n",
              "  <thead>\n",
              "    <tr style=\"text-align: right;\">\n",
              "      <th></th>\n",
              "      <th>Year</th>\n",
              "      <th>TotalPayBenefits</th>\n",
              "    </tr>\n",
              "  </thead>\n",
              "  <tbody>\n",
              "    <tr>\n",
              "      <th>0</th>\n",
              "      <td>2011</td>\n",
              "      <td>71744.103871</td>\n",
              "    </tr>\n",
              "    <tr>\n",
              "      <th>1</th>\n",
              "      <td>2012</td>\n",
              "      <td>100553.229232</td>\n",
              "    </tr>\n",
              "    <tr>\n",
              "      <th>2</th>\n",
              "      <td>2013</td>\n",
              "      <td>101440.519714</td>\n",
              "    </tr>\n",
              "    <tr>\n",
              "      <th>3</th>\n",
              "      <td>2014</td>\n",
              "      <td>100250.918884</td>\n",
              "    </tr>\n",
              "  </tbody>\n",
              "</table>\n",
              "</div>\n",
              "    <div class=\"colab-df-buttons\">\n",
              "\n",
              "  <div class=\"colab-df-container\">\n",
              "    <button class=\"colab-df-convert\" onclick=\"convertToInteractive('df-32501000-bb31-4a74-be3f-ca7aea304998')\"\n",
              "            title=\"Convert this dataframe to an interactive table.\"\n",
              "            style=\"display:none;\">\n",
              "\n",
              "  <svg xmlns=\"http://www.w3.org/2000/svg\" height=\"24px\" viewBox=\"0 -960 960 960\">\n",
              "    <path d=\"M120-120v-720h720v720H120Zm60-500h600v-160H180v160Zm220 220h160v-160H400v160Zm0 220h160v-160H400v160ZM180-400h160v-160H180v160Zm440 0h160v-160H620v160ZM180-180h160v-160H180v160Zm440 0h160v-160H620v160Z\"/>\n",
              "  </svg>\n",
              "    </button>\n",
              "\n",
              "  <style>\n",
              "    .colab-df-container {\n",
              "      display:flex;\n",
              "      gap: 12px;\n",
              "    }\n",
              "\n",
              "    .colab-df-convert {\n",
              "      background-color: #E8F0FE;\n",
              "      border: none;\n",
              "      border-radius: 50%;\n",
              "      cursor: pointer;\n",
              "      display: none;\n",
              "      fill: #1967D2;\n",
              "      height: 32px;\n",
              "      padding: 0 0 0 0;\n",
              "      width: 32px;\n",
              "    }\n",
              "\n",
              "    .colab-df-convert:hover {\n",
              "      background-color: #E2EBFA;\n",
              "      box-shadow: 0px 1px 2px rgba(60, 64, 67, 0.3), 0px 1px 3px 1px rgba(60, 64, 67, 0.15);\n",
              "      fill: #174EA6;\n",
              "    }\n",
              "\n",
              "    .colab-df-buttons div {\n",
              "      margin-bottom: 4px;\n",
              "    }\n",
              "\n",
              "    [theme=dark] .colab-df-convert {\n",
              "      background-color: #3B4455;\n",
              "      fill: #D2E3FC;\n",
              "    }\n",
              "\n",
              "    [theme=dark] .colab-df-convert:hover {\n",
              "      background-color: #434B5C;\n",
              "      box-shadow: 0px 1px 3px 1px rgba(0, 0, 0, 0.15);\n",
              "      filter: drop-shadow(0px 1px 2px rgba(0, 0, 0, 0.3));\n",
              "      fill: #FFFFFF;\n",
              "    }\n",
              "  </style>\n",
              "\n",
              "    <script>\n",
              "      const buttonEl =\n",
              "        document.querySelector('#df-32501000-bb31-4a74-be3f-ca7aea304998 button.colab-df-convert');\n",
              "      buttonEl.style.display =\n",
              "        google.colab.kernel.accessAllowed ? 'block' : 'none';\n",
              "\n",
              "      async function convertToInteractive(key) {\n",
              "        const element = document.querySelector('#df-32501000-bb31-4a74-be3f-ca7aea304998');\n",
              "        const dataTable =\n",
              "          await google.colab.kernel.invokeFunction('convertToInteractive',\n",
              "                                                    [key], {});\n",
              "        if (!dataTable) return;\n",
              "\n",
              "        const docLinkHtml = 'Like what you see? Visit the ' +\n",
              "          '<a target=\"_blank\" href=https://colab.research.google.com/notebooks/data_table.ipynb>data table notebook</a>'\n",
              "          + ' to learn more about interactive tables.';\n",
              "        element.innerHTML = '';\n",
              "        dataTable['output_type'] = 'display_data';\n",
              "        await google.colab.output.renderOutput(dataTable, element);\n",
              "        const docLink = document.createElement('div');\n",
              "        docLink.innerHTML = docLinkHtml;\n",
              "        element.appendChild(docLink);\n",
              "      }\n",
              "    </script>\n",
              "  </div>\n",
              "\n",
              "\n",
              "<div id=\"df-996b36bd-c4b5-4223-b1ec-8c123134d249\">\n",
              "  <button class=\"colab-df-quickchart\" onclick=\"quickchart('df-996b36bd-c4b5-4223-b1ec-8c123134d249')\"\n",
              "            title=\"Suggest charts\"\n",
              "            style=\"display:none;\">\n",
              "\n",
              "<svg xmlns=\"http://www.w3.org/2000/svg\" height=\"24px\"viewBox=\"0 0 24 24\"\n",
              "     width=\"24px\">\n",
              "    <g>\n",
              "        <path d=\"M19 3H5c-1.1 0-2 .9-2 2v14c0 1.1.9 2 2 2h14c1.1 0 2-.9 2-2V5c0-1.1-.9-2-2-2zM9 17H7v-7h2v7zm4 0h-2V7h2v10zm4 0h-2v-4h2v4z\"/>\n",
              "    </g>\n",
              "</svg>\n",
              "  </button>\n",
              "\n",
              "<style>\n",
              "  .colab-df-quickchart {\n",
              "      --bg-color: #E8F0FE;\n",
              "      --fill-color: #1967D2;\n",
              "      --hover-bg-color: #E2EBFA;\n",
              "      --hover-fill-color: #174EA6;\n",
              "      --disabled-fill-color: #AAA;\n",
              "      --disabled-bg-color: #DDD;\n",
              "  }\n",
              "\n",
              "  [theme=dark] .colab-df-quickchart {\n",
              "      --bg-color: #3B4455;\n",
              "      --fill-color: #D2E3FC;\n",
              "      --hover-bg-color: #434B5C;\n",
              "      --hover-fill-color: #FFFFFF;\n",
              "      --disabled-bg-color: #3B4455;\n",
              "      --disabled-fill-color: #666;\n",
              "  }\n",
              "\n",
              "  .colab-df-quickchart {\n",
              "    background-color: var(--bg-color);\n",
              "    border: none;\n",
              "    border-radius: 50%;\n",
              "    cursor: pointer;\n",
              "    display: none;\n",
              "    fill: var(--fill-color);\n",
              "    height: 32px;\n",
              "    padding: 0;\n",
              "    width: 32px;\n",
              "  }\n",
              "\n",
              "  .colab-df-quickchart:hover {\n",
              "    background-color: var(--hover-bg-color);\n",
              "    box-shadow: 0 1px 2px rgba(60, 64, 67, 0.3), 0 1px 3px 1px rgba(60, 64, 67, 0.15);\n",
              "    fill: var(--button-hover-fill-color);\n",
              "  }\n",
              "\n",
              "  .colab-df-quickchart-complete:disabled,\n",
              "  .colab-df-quickchart-complete:disabled:hover {\n",
              "    background-color: var(--disabled-bg-color);\n",
              "    fill: var(--disabled-fill-color);\n",
              "    box-shadow: none;\n",
              "  }\n",
              "\n",
              "  .colab-df-spinner {\n",
              "    border: 2px solid var(--fill-color);\n",
              "    border-color: transparent;\n",
              "    border-bottom-color: var(--fill-color);\n",
              "    animation:\n",
              "      spin 1s steps(1) infinite;\n",
              "  }\n",
              "\n",
              "  @keyframes spin {\n",
              "    0% {\n",
              "      border-color: transparent;\n",
              "      border-bottom-color: var(--fill-color);\n",
              "      border-left-color: var(--fill-color);\n",
              "    }\n",
              "    20% {\n",
              "      border-color: transparent;\n",
              "      border-left-color: var(--fill-color);\n",
              "      border-top-color: var(--fill-color);\n",
              "    }\n",
              "    30% {\n",
              "      border-color: transparent;\n",
              "      border-left-color: var(--fill-color);\n",
              "      border-top-color: var(--fill-color);\n",
              "      border-right-color: var(--fill-color);\n",
              "    }\n",
              "    40% {\n",
              "      border-color: transparent;\n",
              "      border-right-color: var(--fill-color);\n",
              "      border-top-color: var(--fill-color);\n",
              "    }\n",
              "    60% {\n",
              "      border-color: transparent;\n",
              "      border-right-color: var(--fill-color);\n",
              "    }\n",
              "    80% {\n",
              "      border-color: transparent;\n",
              "      border-right-color: var(--fill-color);\n",
              "      border-bottom-color: var(--fill-color);\n",
              "    }\n",
              "    90% {\n",
              "      border-color: transparent;\n",
              "      border-bottom-color: var(--fill-color);\n",
              "    }\n",
              "  }\n",
              "</style>\n",
              "\n",
              "  <script>\n",
              "    async function quickchart(key) {\n",
              "      const quickchartButtonEl =\n",
              "        document.querySelector('#' + key + ' button');\n",
              "      quickchartButtonEl.disabled = true;  // To prevent multiple clicks.\n",
              "      quickchartButtonEl.classList.add('colab-df-spinner');\n",
              "      try {\n",
              "        const charts = await google.colab.kernel.invokeFunction(\n",
              "            'suggestCharts', [key], {});\n",
              "      } catch (error) {\n",
              "        console.error('Error during call to suggestCharts:', error);\n",
              "      }\n",
              "      quickchartButtonEl.classList.remove('colab-df-spinner');\n",
              "      quickchartButtonEl.classList.add('colab-df-quickchart-complete');\n",
              "    }\n",
              "    (() => {\n",
              "      let quickchartButtonEl =\n",
              "        document.querySelector('#df-996b36bd-c4b5-4223-b1ec-8c123134d249 button');\n",
              "      quickchartButtonEl.style.display =\n",
              "        google.colab.kernel.accessAllowed ? 'block' : 'none';\n",
              "    })();\n",
              "  </script>\n",
              "</div>\n",
              "\n",
              "  <div id=\"id_c9cecb1b-b9cd-4e23-9cc0-2922fe407289\">\n",
              "    <style>\n",
              "      .colab-df-generate {\n",
              "        background-color: #E8F0FE;\n",
              "        border: none;\n",
              "        border-radius: 50%;\n",
              "        cursor: pointer;\n",
              "        display: none;\n",
              "        fill: #1967D2;\n",
              "        height: 32px;\n",
              "        padding: 0 0 0 0;\n",
              "        width: 32px;\n",
              "      }\n",
              "\n",
              "      .colab-df-generate:hover {\n",
              "        background-color: #E2EBFA;\n",
              "        box-shadow: 0px 1px 2px rgba(60, 64, 67, 0.3), 0px 1px 3px 1px rgba(60, 64, 67, 0.15);\n",
              "        fill: #174EA6;\n",
              "      }\n",
              "\n",
              "      [theme=dark] .colab-df-generate {\n",
              "        background-color: #3B4455;\n",
              "        fill: #D2E3FC;\n",
              "      }\n",
              "\n",
              "      [theme=dark] .colab-df-generate:hover {\n",
              "        background-color: #434B5C;\n",
              "        box-shadow: 0px 1px 3px 1px rgba(0, 0, 0, 0.15);\n",
              "        filter: drop-shadow(0px 1px 2px rgba(0, 0, 0, 0.3));\n",
              "        fill: #FFFFFF;\n",
              "      }\n",
              "    </style>\n",
              "    <button class=\"colab-df-generate\" onclick=\"generateWithVariable('average_pay_by_year')\"\n",
              "            title=\"Generate code using this dataframe.\"\n",
              "            style=\"display:none;\">\n",
              "\n",
              "  <svg xmlns=\"http://www.w3.org/2000/svg\" height=\"24px\"viewBox=\"0 0 24 24\"\n",
              "       width=\"24px\">\n",
              "    <path d=\"M7,19H8.4L18.45,9,17,7.55,7,17.6ZM5,21V16.75L18.45,3.32a2,2,0,0,1,2.83,0l1.4,1.43a1.91,1.91,0,0,1,.58,1.4,1.91,1.91,0,0,1-.58,1.4L9.25,21ZM18.45,9,17,7.55Zm-12,3A5.31,5.31,0,0,0,4.9,8.1,5.31,5.31,0,0,0,1,6.5,5.31,5.31,0,0,0,4.9,4.9,5.31,5.31,0,0,0,6.5,1,5.31,5.31,0,0,0,8.1,4.9,5.31,5.31,0,0,0,12,6.5,5.46,5.46,0,0,0,6.5,12Z\"/>\n",
              "  </svg>\n",
              "    </button>\n",
              "    <script>\n",
              "      (() => {\n",
              "      const buttonEl =\n",
              "        document.querySelector('#id_c9cecb1b-b9cd-4e23-9cc0-2922fe407289 button.colab-df-generate');\n",
              "      buttonEl.style.display =\n",
              "        google.colab.kernel.accessAllowed ? 'block' : 'none';\n",
              "\n",
              "      buttonEl.onclick = () => {\n",
              "        google.colab.notebook.generateWithVariable('average_pay_by_year');\n",
              "      }\n",
              "      })();\n",
              "    </script>\n",
              "  </div>\n",
              "\n",
              "    </div>\n",
              "  </div>\n"
            ],
            "application/vnd.google.colaboratory.intrinsic+json": {
              "type": "dataframe",
              "variable_name": "average_pay_by_year",
              "summary": "{\n  \"name\": \"average_pay_by_year\",\n  \"rows\": 4,\n  \"fields\": [\n    {\n      \"column\": \"Year\",\n      \"properties\": {\n        \"dtype\": \"number\",\n        \"std\": 1,\n        \"min\": 2011,\n        \"max\": 2014,\n        \"num_unique_values\": 4,\n        \"samples\": [\n          2012,\n          2014,\n          2011\n        ],\n        \"semantic_type\": \"\",\n        \"description\": \"\"\n      }\n    },\n    {\n      \"column\": \"TotalPayBenefits\",\n      \"properties\": {\n        \"dtype\": \"number\",\n        \"std\": 14510.844066376814,\n        \"min\": 71744.10387123538,\n        \"max\": 101440.51971414135,\n        \"num_unique_values\": 4,\n        \"samples\": [\n          100553.22923244302,\n          100250.91888361356,\n          71744.10387123538\n        ],\n        \"semantic_type\": \"\",\n        \"description\": \"\"\n      }\n    }\n  ]\n}"
            }
          },
          "metadata": {},
          "execution_count": 15
        }
      ],
      "source": [
        "average_pay_by_year = sal.groupby('Year')['TotalPayBenefits'].mean().reset_index()\n",
        "average_pay_by_year"
      ]
    },
    {
      "source": [
        "# @title Year vs TotalPayBenefits\n",
        "\n",
        "from matplotlib import pyplot as plt\n",
        "average_pay_by_year.plot(kind='scatter', x='Year', y='TotalPayBenefits', s=32, alpha=.8)\n",
        "plt.gca().spines[['top', 'right',]].set_visible(False)"
      ],
      "cell_type": "code",
      "execution_count": null,
      "outputs": [
        {
          "output_type": "display_data",
          "data": {
            "text/plain": [
              "<Figure size 640x480 with 1 Axes>"
            ],
            "image/png": "[encoded data removed]"
          },
          "metadata": {}
        }
      ],
      "metadata": {
        "colab": {
          "base_uri": "https://localhost:8080/",
          "height": 449
        },
        "id": "Lr2wXK5HZhJU",
        "outputId": "4237b093-8b1e-4433-8287-58907a575b67"
      },
      "id": "Lr2wXK5HZhJU"
    },
    {
      "cell_type": "markdown",
      "id": "8f2645cc-0f8c-4a12-8311-c411f1ac15b2",
      "metadata": {
        "id": "8f2645cc-0f8c-4a12-8311-c411f1ac15b2"
      },
      "source": [
        "# sql code"
      ]
    },
    {
      "cell_type": "code",
      "execution_count": null,
      "id": "c5636a8f-a05a-49b2-8725-2ecc04ee0353",
      "metadata": {
        "id": "c5636a8f-a05a-49b2-8725-2ecc04ee0353"
      },
      "outputs": [],
      "source": [
        "select avg(TotalPayBenefits), Year from Salaries\n",
        "GROUP by Year\n",
        "ORDER by Year;"
      ]
    },
    {
      "cell_type": "markdown",
      "id": "6f1a9240-ffc0-4f65-aa7d-6472ea6943a1",
      "metadata": {
        "id": "6f1a9240-ffc0-4f65-aa7d-6472ea6943a1"
      },
      "source": [
        "#### Q12: What is the total BasePay for each status (full-time, part-time,etc.)?\n"
      ]
    },
    {
      "cell_type": "markdown",
      "id": "20b26b8c-9315-4bd4-be93-4cf829456238",
      "metadata": {
        "id": "20b26b8c-9315-4bd4-be93-4cf829456238"
      },
      "source": [
        "# PYTHON CODE"
      ]
    },
    {
      "cell_type": "code",
      "execution_count": null,
      "id": "3523334b-2e69-4372-9dcc-e91c79908e26",
      "metadata": {
        "colab": {
          "base_uri": "https://localhost:8080/"
        },
        "id": "3523334b-2e69-4372-9dcc-e91c79908e26",
        "outputId": "af767334-23e7-4311-e077-747810bcda82"
      },
      "outputs": [
        {
          "output_type": "execute_result",
          "data": {
            "text/plain": [
              "Status\n",
              "FT    2.036280e+09\n",
              "PT    5.010892e+08\n",
              "Name: BasePay, dtype: float64"
            ]
          },
          "metadata": {},
          "execution_count": 19
        }
      ],
      "source": [
        "sal.groupby('Status')['BasePay'].sum()"
      ]
    },
    {
      "cell_type": "markdown",
      "id": "c47b2bde-5a2b-4e40-9317-b8634603a81c",
      "metadata": {
        "id": "c47b2bde-5a2b-4e40-9317-b8634603a81c"
      },
      "source": [
        "# sql code"
      ]
    },
    {
      "cell_type": "code",
      "execution_count": null,
      "id": "5a964361-e5d7-4215-a203-13cb0c91a0af",
      "metadata": {
        "id": "5a964361-e5d7-4215-a203-13cb0c91a0af"
      },
      "outputs": [],
      "source": [
        "SELECT Status, SUM(BasePay) as TotalBasePay\n",
        "FROM Salaries\n",
        "GROUP BY Status\n",
        "order by Status;"
      ]
    },
    {
      "cell_type": "markdown",
      "id": "8165f131-8609-401d-8f18-8a9c98b4f576",
      "metadata": {
        "id": "8165f131-8609-401d-8f18-8a9c98b4f576"
      },
      "source": [
        "#### Q13: How many employees are there for each job title in each agency?\n"
      ]
    },
    {
      "cell_type": "markdown",
      "id": "c5ea691d-a0c6-44a4-8dc8-8369f7a694ef",
      "metadata": {
        "id": "c5ea691d-a0c6-44a4-8dc8-8369f7a694ef"
      },
      "source": [
        "# PYTHON CODE"
      ]
    },
    {
      "cell_type": "code",
      "execution_count": 37,
      "id": "80925528-745f-4542-8bdb-da9501347cad",
      "metadata": {
        "colab": {
          "base_uri": "https://localhost:8080/",
          "height": 597
        },
        "id": "80925528-745f-4542-8bdb-da9501347cad",
        "outputId": "f181f618-6b67-48be-ff65-e57e4f957011"
      },
      "outputs": [
        {
          "output_type": "execute_result",
          "data": {
            "text/plain": [
              "             Agency                                        JobTitle  \\\n",
              "0     San Francisco                                   ACCOUNT CLERK   \n",
              "1     San Francisco                                      ACCOUNTANT   \n",
              "2     San Francisco                               ACCOUNTANT INTERN   \n",
              "3     San Francisco                     ACPO,JuvP, Juv Prob (SFERS)   \n",
              "4     San Francisco                                   ACUPUNCTURIST   \n",
              "...             ...                                             ...   \n",
              "2154  San Francisco                           X-RAY LABORATORY AIDE   \n",
              "2155  San Francisco                           X-Ray Laboratory Aide   \n",
              "2156  San Francisco  YOUTH COMMISSION ADVISOR, BOARD OF SUPERVISORS   \n",
              "2157  San Francisco                              Youth Comm Advisor   \n",
              "2158  San Francisco                                     ZOO CURATOR   \n",
              "\n",
              "      EmployeeCount  \n",
              "0                83  \n",
              "1                 5  \n",
              "2                48  \n",
              "3                 1  \n",
              "4                 1  \n",
              "...             ...  \n",
              "2154             26  \n",
              "2155            100  \n",
              "2156              1  \n",
              "2157              4  \n",
              "2158              1  \n",
              "\n",
              "[2159 rows x 3 columns]"
            ],
            "text/html": [
              "\n",
              "  <div id=\"df-8724483a-d428-4d60-b82d-77e808741eb2\" class=\"colab-df-container\">\n",
              "    <div>\n",
              "<style scoped>\n",
              "    .dataframe tbody tr th:only-of-type {\n",
              "        vertical-align: middle;\n",
              "    }\n",
              "\n",
              "    .dataframe tbody tr th {\n",
              "        vertical-align: top;\n",
              "    }\n",
              "\n",
              "    .dataframe thead th {\n",
              "        text-align: right;\n",
              "    }\n",
              "</style>\n",
              "<table border=\"1\" class=\"dataframe\">\n",
              "  <thead>\n",
              "    <tr style=\"text-align: right;\">\n",
              "      <th></th>\n",
              "      <th>Agency</th>\n",
              "      <th>JobTitle</th>\n",
              "      <th>EmployeeCount</th>\n",
              "    </tr>\n",
              "  </thead>\n",
              "  <tbody>\n",
              "    <tr>\n",
              "      <th>0</th>\n",
              "      <td>San Francisco</td>\n",
              "      <td>ACCOUNT CLERK</td>\n",
              "      <td>83</td>\n",
              "    </tr>\n",
              "    <tr>\n",
              "      <th>1</th>\n",
              "      <td>San Francisco</td>\n",
              "      <td>ACCOUNTANT</td>\n",
              "      <td>5</td>\n",
              "    </tr>\n",
              "    <tr>\n",
              "      <th>2</th>\n",
              "      <td>San Francisco</td>\n",
              "      <td>ACCOUNTANT INTERN</td>\n",
              "      <td>48</td>\n",
              "    </tr>\n",
              "    <tr>\n",
              "      <th>3</th>\n",
              "      <td>San Francisco</td>\n",
              "      <td>ACPO,JuvP, Juv Prob (SFERS)</td>\n",
              "      <td>1</td>\n",
              "    </tr>\n",
              "    <tr>\n",
              "      <th>4</th>\n",
              "      <td>San Francisco</td>\n",
              "      <td>ACUPUNCTURIST</td>\n",
              "      <td>1</td>\n",
              "    </tr>\n",
              "    <tr>\n",
              "      <th>...</th>\n",
              "      <td>...</td>\n",
              "      <td>...</td>\n",
              "      <td>...</td>\n",
              "    </tr>\n",
              "    <tr>\n",
              "      <th>2154</th>\n",
              "      <td>San Francisco</td>\n",
              "      <td>X-RAY LABORATORY AIDE</td>\n",
              "      <td>26</td>\n",
              "    </tr>\n",
              "    <tr>\n",
              "      <th>2155</th>\n",
              "      <td>San Francisco</td>\n",
              "      <td>X-Ray Laboratory Aide</td>\n",
              "      <td>100</td>\n",
              "    </tr>\n",
              "    <tr>\n",
              "      <th>2156</th>\n",
              "      <td>San Francisco</td>\n",
              "      <td>YOUTH COMMISSION ADVISOR, BOARD OF SUPERVISORS</td>\n",
              "      <td>1</td>\n",
              "    </tr>\n",
              "    <tr>\n",
              "      <th>2157</th>\n",
              "      <td>San Francisco</td>\n",
              "      <td>Youth Comm Advisor</td>\n",
              "      <td>4</td>\n",
              "    </tr>\n",
              "    <tr>\n",
              "      <th>2158</th>\n",
              "      <td>San Francisco</td>\n",
              "      <td>ZOO CURATOR</td>\n",
              "      <td>1</td>\n",
              "    </tr>\n",
              "  </tbody>\n",
              "</table>\n",
              "<p>2159 rows × 3 columns</p>\n",
              "</div>\n",
              "    <div class=\"colab-df-buttons\">\n",
              "\n",
              "  <div class=\"colab-df-container\">\n",
              "    <button class=\"colab-df-convert\" onclick=\"convertToInteractive('df-8724483a-d428-4d60-b82d-77e808741eb2')\"\n",
              "            title=\"Convert this dataframe to an interactive table.\"\n",
              "            style=\"display:none;\">\n",
              "\n",
              "  <svg xmlns=\"http://www.w3.org/2000/svg\" height=\"24px\" viewBox=\"0 -960 960 960\">\n",
              "    <path d=\"M120-120v-720h720v720H120Zm60-500h600v-160H180v160Zm220 220h160v-160H400v160Zm0 220h160v-160H400v160ZM180-400h160v-160H180v160Zm440 0h160v-160H620v160ZM180-180h160v-160H180v160Zm440 0h160v-160H620v160Z\"/>\n",
              "  </svg>\n",
              "    </button>\n",
              "\n",
              "  <style>\n",
              "    .colab-df-container {\n",
              "      display:flex;\n",
              "      gap: 12px;\n",
              "    }\n",
              "\n",
              "    .colab-df-convert {\n",
              "      background-color: #E8F0FE;\n",
              "      border: none;\n",
              "      border-radius: 50%;\n",
              "      cursor: pointer;\n",
              "      display: none;\n",
              "      fill: #1967D2;\n",
              "      height: 32px;\n",
              "      padding: 0 0 0 0;\n",
              "      width: 32px;\n",
              "    }\n",
              "\n",
              "    .colab-df-convert:hover {\n",
              "      background-color: #E2EBFA;\n",
              "      box-shadow: 0px 1px 2px rgba(60, 64, 67, 0.3), 0px 1px 3px 1px rgba(60, 64, 67, 0.15);\n",
              "      fill: #174EA6;\n",
              "    }\n",
              "\n",
              "    .colab-df-buttons div {\n",
              "      margin-bottom: 4px;\n",
              "    }\n",
              "\n",
              "    [theme=dark] .colab-df-convert {\n",
              "      background-color: #3B4455;\n",
              "      fill: #D2E3FC;\n",
              "    }\n",
              "\n",
              "    [theme=dark] .colab-df-convert:hover {\n",
              "      background-color: #434B5C;\n",
              "      box-shadow: 0px 1px 3px 1px rgba(0, 0, 0, 0.15);\n",
              "      filter: drop-shadow(0px 1px 2px rgba(0, 0, 0, 0.3));\n",
              "      fill: #FFFFFF;\n",
              "    }\n",
              "  </style>\n",
              "\n",
              "    <script>\n",
              "      const buttonEl =\n",
              "        document.querySelector('#df-8724483a-d428-4d60-b82d-77e808741eb2 button.colab-df-convert');\n",
              "      buttonEl.style.display =\n",
              "        google.colab.kernel.accessAllowed ? 'block' : 'none';\n",
              "\n",
              "      async function convertToInteractive(key) {\n",
              "        const element = document.querySelector('#df-8724483a-d428-4d60-b82d-77e808741eb2');\n",
              "        const dataTable =\n",
              "          await google.colab.kernel.invokeFunction('convertToInteractive',\n",
              "                                                    [key], {});\n",
              "        if (!dataTable) return;\n",
              "\n",
              "        const docLinkHtml = 'Like what you see? Visit the ' +\n",
              "          '<a target=\"_blank\" href=https://colab.research.google.com/notebooks/data_table.ipynb>data table notebook</a>'\n",
              "          + ' to learn more about interactive tables.';\n",
              "        element.innerHTML = '';\n",
              "        dataTable['output_type'] = 'display_data';\n",
              "        await google.colab.output.renderOutput(dataTable, element);\n",
              "        const docLink = document.createElement('div');\n",
              "        docLink.innerHTML = docLinkHtml;\n",
              "        element.appendChild(docLink);\n",
              "      }\n",
              "    </script>\n",
              "  </div>\n",
              "\n",
              "\n",
              "<div id=\"df-e6a0fb09-5cc4-4620-bcf9-4f87a8353e7f\">\n",
              "  <button class=\"colab-df-quickchart\" onclick=\"quickchart('df-e6a0fb09-5cc4-4620-bcf9-4f87a8353e7f')\"\n",
              "            title=\"Suggest charts\"\n",
              "            style=\"display:none;\">\n",
              "\n",
              "<svg xmlns=\"http://www.w3.org/2000/svg\" height=\"24px\"viewBox=\"0 0 24 24\"\n",
              "     width=\"24px\">\n",
              "    <g>\n",
              "        <path d=\"M19 3H5c-1.1 0-2 .9-2 2v14c0 1.1.9 2 2 2h14c1.1 0 2-.9 2-2V5c0-1.1-.9-2-2-2zM9 17H7v-7h2v7zm4 0h-2V7h2v10zm4 0h-2v-4h2v4z\"/>\n",
              "    </g>\n",
              "</svg>\n",
              "  </button>\n",
              "\n",
              "<style>\n",
              "  .colab-df-quickchart {\n",
              "      --bg-color: #E8F0FE;\n",
              "      --fill-color: #1967D2;\n",
              "      --hover-bg-color: #E2EBFA;\n",
              "      --hover-fill-color: #174EA6;\n",
              "      --disabled-fill-color: #AAA;\n",
              "      --disabled-bg-color: #DDD;\n",
              "  }\n",
              "\n",
              "  [theme=dark] .colab-df-quickchart {\n",
              "      --bg-color: #3B4455;\n",
              "      --fill-color: #D2E3FC;\n",
              "      --hover-bg-color: #434B5C;\n",
              "      --hover-fill-color: #FFFFFF;\n",
              "      --disabled-bg-color: #3B4455;\n",
              "      --disabled-fill-color: #666;\n",
              "  }\n",
              "\n",
              "  .colab-df-quickchart {\n",
              "    background-color: var(--bg-color);\n",
              "    border: none;\n",
              "    border-radius: 50%;\n",
              "    cursor: pointer;\n",
              "    display: none;\n",
              "    fill: var(--fill-color);\n",
              "    height: 32px;\n",
              "    padding: 0;\n",
              "    width: 32px;\n",
              "  }\n",
              "\n",
              "  .colab-df-quickchart:hover {\n",
              "    background-color: var(--hover-bg-color);\n",
              "    box-shadow: 0 1px 2px rgba(60, 64, 67, 0.3), 0 1px 3px 1px rgba(60, 64, 67, 0.15);\n",
              "    fill: var(--button-hover-fill-color);\n",
              "  }\n",
              "\n",
              "  .colab-df-quickchart-complete:disabled,\n",
              "  .colab-df-quickchart-complete:disabled:hover {\n",
              "    background-color: var(--disabled-bg-color);\n",
              "    fill: var(--disabled-fill-color);\n",
              "    box-shadow: none;\n",
              "  }\n",
              "\n",
              "  .colab-df-spinner {\n",
              "    border: 2px solid var(--fill-color);\n",
              "    border-color: transparent;\n",
              "    border-bottom-color: var(--fill-color);\n",
              "    animation:\n",
              "      spin 1s steps(1) infinite;\n",
              "  }\n",
              "\n",
              "  @keyframes spin {\n",
              "    0% {\n",
              "      border-color: transparent;\n",
              "      border-bottom-color: var(--fill-color);\n",
              "      border-left-color: var(--fill-color);\n",
              "    }\n",
              "    20% {\n",
              "      border-color: transparent;\n",
              "      border-left-color: var(--fill-color);\n",
              "      border-top-color: var(--fill-color);\n",
              "    }\n",
              "    30% {\n",
              "      border-color: transparent;\n",
              "      border-left-color: var(--fill-color);\n",
              "      border-top-color: var(--fill-color);\n",
              "      border-right-color: var(--fill-color);\n",
              "    }\n",
              "    40% {\n",
              "      border-color: transparent;\n",
              "      border-right-color: var(--fill-color);\n",
              "      border-top-color: var(--fill-color);\n",
              "    }\n",
              "    60% {\n",
              "      border-color: transparent;\n",
              "      border-right-color: var(--fill-color);\n",
              "    }\n",
              "    80% {\n",
              "      border-color: transparent;\n",
              "      border-right-color: var(--fill-color);\n",
              "      border-bottom-color: var(--fill-color);\n",
              "    }\n",
              "    90% {\n",
              "      border-color: transparent;\n",
              "      border-bottom-color: var(--fill-color);\n",
              "    }\n",
              "  }\n",
              "</style>\n",
              "\n",
              "  <script>\n",
              "    async function quickchart(key) {\n",
              "      const quickchartButtonEl =\n",
              "        document.querySelector('#' + key + ' button');\n",
              "      quickchartButtonEl.disabled = true;  // To prevent multiple clicks.\n",
              "      quickchartButtonEl.classList.add('colab-df-spinner');\n",
              "      try {\n",
              "        const charts = await google.colab.kernel.invokeFunction(\n",
              "            'suggestCharts', [key], {});\n",
              "      } catch (error) {\n",
              "        console.error('Error during call to suggestCharts:', error);\n",
              "      }\n",
              "      quickchartButtonEl.classList.remove('colab-df-spinner');\n",
              "      quickchartButtonEl.classList.add('colab-df-quickchart-complete');\n",
              "    }\n",
              "    (() => {\n",
              "      let quickchartButtonEl =\n",
              "        document.querySelector('#df-e6a0fb09-5cc4-4620-bcf9-4f87a8353e7f button');\n",
              "      quickchartButtonEl.style.display =\n",
              "        google.colab.kernel.accessAllowed ? 'block' : 'none';\n",
              "    })();\n",
              "  </script>\n",
              "</div>\n",
              "\n",
              "    </div>\n",
              "  </div>\n"
            ],
            "application/vnd.google.colaboratory.intrinsic+json": {
              "type": "dataframe",
              "summary": "{\n  \"name\": \"sal\",\n  \"rows\": 2159,\n  \"fields\": [\n    {\n      \"column\": \"Agency\",\n      \"properties\": {\n        \"dtype\": \"category\",\n        \"num_unique_values\": 1,\n        \"samples\": [\n          \"San Francisco\"\n        ],\n        \"semantic_type\": \"\",\n        \"description\": \"\"\n      }\n    },\n    {\n      \"column\": \"JobTitle\",\n      \"properties\": {\n        \"dtype\": \"string\",\n        \"num_unique_values\": 2159,\n        \"samples\": [\n          \"UTILITY PLUMBER APPRENTICE\"\n        ],\n        \"semantic_type\": \"\",\n        \"description\": \"\"\n      }\n    },\n    {\n      \"column\": \"EmployeeCount\",\n      \"properties\": {\n        \"dtype\": \"number\",\n        \"std\": 268,\n        \"min\": 1,\n        \"max\": 7036,\n        \"num_unique_values\": 294,\n        \"samples\": [\n          38\n        ],\n        \"semantic_type\": \"\",\n        \"description\": \"\"\n      }\n    }\n  ]\n}"
            }
          },
          "metadata": {},
          "execution_count": 37
        }
      ],
      "source": [
        "sal.groupby(['Agency','JobTitle']).size().reset_index(name='EmployeeCount')\n"
      ]
    },
    {
      "cell_type": "markdown",
      "id": "d3931a27-17a8-451d-8f85-99c23a662464",
      "metadata": {
        "id": "d3931a27-17a8-451d-8f85-99c23a662464"
      },
      "source": [
        "# sql code"
      ]
    },
    {
      "cell_type": "code",
      "execution_count": null,
      "id": "3f1d56f7-a61d-416c-82bc-b564907a1048",
      "metadata": {
        "id": "3f1d56f7-a61d-416c-82bc-b564907a1048"
      },
      "outputs": [],
      "source": [
        "SELECT count (EmployeeName), JobTitle, Agency FROM Salaries\n",
        "GROUP by EmployeeName"
      ]
    },
    {
      "cell_type": "markdown",
      "id": "25d10353-8632-465b-b538-64a4edbb049e",
      "metadata": {
        "id": "25d10353-8632-465b-b538-64a4edbb049e"
      },
      "source": [
        "#### Q14: Which job title has the highest average Benefits?\n"
      ]
    },
    {
      "cell_type": "markdown",
      "id": "5d999019-32d2-4201-ac92-7c13fb02bbc2",
      "metadata": {
        "id": "5d999019-32d2-4201-ac92-7c13fb02bbc2"
      },
      "source": [
        "# PYTHON CODE"
      ]
    },
    {
      "cell_type": "code",
      "execution_count": null,
      "id": "37739c65-7451-48ef-b395-5f14a7a0132d",
      "metadata": {
        "colab": {
          "base_uri": "https://localhost:8080/"
        },
        "id": "37739c65-7451-48ef-b395-5f14a7a0132d",
        "outputId": "b5c0afe9-095d-4a15-8893-28318dbec6b8"
      },
      "outputs": [
        {
          "output_type": "execute_result",
          "data": {
            "text/plain": [
              "JobTitle\n",
              "Chief Investment Officer    96570.66\n",
              "Name: Benefits, dtype: float64"
            ]
          },
          "metadata": {},
          "execution_count": 21
        }
      ],
      "source": [
        "sal.groupby('JobTitle')['Benefits'].mean().sort_values(ascending=False).head(1)"
      ]
    },
    {
      "cell_type": "markdown",
      "id": "7d9d5d03-4ad0-4759-98b6-d05eb7496c0b",
      "metadata": {
        "id": "7d9d5d03-4ad0-4759-98b6-d05eb7496c0b"
      },
      "source": [
        "# sql code"
      ]
    },
    {
      "cell_type": "code",
      "execution_count": null,
      "id": "888f7f75-237e-44a0-af31-60376715384f",
      "metadata": {
        "id": "888f7f75-237e-44a0-af31-60376715384f"
      },
      "outputs": [],
      "source": [
        "select JobTitle , avg (Benefits)as ab from Salaries\n",
        "GROUP by JobTitle\n",
        "ORDER by JobTitle DESC\n",
        "LIMIT 1 ;"
      ]
    },
    {
      "cell_type": "markdown",
      "id": "579d78de-96eb-4f01-b460-600b2f1f8c0d",
      "metadata": {
        "id": "579d78de-96eb-4f01-b460-600b2f1f8c0d"
      },
      "source": [
        "#### Q15: What is the ratio of BasePay to TotalPayBenefits for each job title?\n"
      ]
    },
    {
      "cell_type": "markdown",
      "id": "f093fff1-8279-4282-9f53-f3a20abba710",
      "metadata": {
        "id": "f093fff1-8279-4282-9f53-f3a20abba710"
      },
      "source": [
        "# PYTHON CODE"
      ]
    },
    {
      "cell_type": "code",
      "execution_count": null,
      "id": "4fba155a-a033-42ef-bb62-67eb0c690260",
      "metadata": {
        "colab": {
          "base_uri": "https://localhost:8080/"
        },
        "id": "4fba155a-a033-42ef-bb62-67eb0c690260",
        "outputId": "1005e80f-6211-4ed3-fdab-1e51101450d9"
      },
      "outputs": [
        {
          "output_type": "stream",
          "name": "stdout",
          "text": [
            "JobTitle\n",
            "ACCOUNT CLERK                                      0.98449\n",
            "ACCOUNTANT                                        0.787718\n",
            "ACCOUNTANT INTERN                                 0.989457\n",
            "ACPO,JuvP, Juv Prob (SFERS)                       0.776051\n",
            "ACUPUNCTURIST                                     0.981951\n",
            "                                                    ...   \n",
            "X-RAY LABORATORY AIDE                              0.90955\n",
            "X-Ray Laboratory Aide                              0.72661\n",
            "YOUTH COMMISSION ADVISOR, BOARD OF SUPERVISORS    0.980927\n",
            "Youth Comm Advisor                                0.631575\n",
            "ZOO CURATOR                                       0.647027\n",
            "Name: BasePay_TotalPayBenefits_Ratio, Length: 2159, dtype: object\n"
          ]
        }
      ],
      "source": [
        "\n",
        "def calculate_ratio(BasePay,TotalPayBenefits):\n",
        "    return BasePay / TotalPayBenefits.replace(0, pd.NA)\n",
        "\n",
        "sal['BasePay_TotalPayBenefits_Ratio'] = calculate_ratio(sal['BasePay'], sal['TotalPayBenefits'])\n",
        "average_ratios = sal.groupby('JobTitle')['BasePay_TotalPayBenefits_Ratio'].mean()\n",
        "print(average_ratios)\n"
      ]
    },
    {
      "cell_type": "markdown",
      "id": "a4fb5b5f-3c6b-44f0-912e-4047c6301d73",
      "metadata": {
        "id": "a4fb5b5f-3c6b-44f0-912e-4047c6301d73"
      },
      "source": [
        "# sql code"
      ]
    },
    {
      "cell_type": "code",
      "execution_count": null,
      "id": "a51f3e40-6104-4d35-9bc4-8d021fa29aa6",
      "metadata": {
        "id": "a51f3e40-6104-4d35-9bc4-8d021fa29aa6"
      },
      "outputs": [],
      "source": [
        "select sum(BasePay)/sum (TotalPayBenefits)as 'BaseTotalRatio',JobTitle from Salaries\n",
        "GROUP by JobTitle\n",
        "ORDER by JobTitle;"
      ]
    },
    {
      "cell_type": "markdown",
      "id": "0ad8139e-ad18-4f86-8720-d33d970032eb",
      "metadata": {
        "id": "0ad8139e-ad18-4f86-8720-d33d970032eb"
      },
      "source": [
        "#### Q16: Which job title has the highest ratio of BasePay to TotalPayBenefits?\n"
      ]
    },
    {
      "cell_type": "markdown",
      "id": "f8f99bbd-40c7-46bd-be87-6b798fabd302",
      "metadata": {
        "id": "f8f99bbd-40c7-46bd-be87-6b798fabd302"
      },
      "source": [
        "# PYTHON CODE"
      ]
    },
    {
      "cell_type": "code",
      "execution_count": null,
      "id": "82e34f12-1bb8-4644-99ef-b02dde4d92ca",
      "metadata": {
        "colab": {
          "base_uri": "https://localhost:8080/",
          "height": 36
        },
        "id": "82e34f12-1bb8-4644-99ef-b02dde4d92ca",
        "outputId": "28513e0d-2836-4cdf-b721-9eefd5d83c3d"
      },
      "outputs": [
        {
          "output_type": "execute_result",
          "data": {
            "text/plain": [
              "'EXECUTIVE CONTRACT EMPLOYEE'"
            ],
            "application/vnd.google.colaboratory.intrinsic+json": {
              "type": "string"
            }
          },
          "metadata": {},
          "execution_count": 23
        }
      ],
      "source": [
        "highest_ratio_index = (sal['BasePay'] / sal['TotalPayBenefits']).idxmax()\n",
        "sal.loc[highest_ratio_index,'JobTitle']"
      ]
    },
    {
      "cell_type": "markdown",
      "id": "d275a100-3c39-47a8-9c1c-3c5bfed07b7e",
      "metadata": {
        "id": "d275a100-3c39-47a8-9c1c-3c5bfed07b7e"
      },
      "source": [
        "# sql code"
      ]
    },
    {
      "cell_type": "code",
      "execution_count": null,
      "id": "03debe10-cfeb-4f3f-8f1f-66a06e316555",
      "metadata": {
        "id": "03debe10-cfeb-4f3f-8f1f-66a06e316555"
      },
      "outputs": [],
      "source": [
        "select sum(BasePay)/sum (TotalPayBenefits)as 'BaseTotalRatio',JobTitle from Salaries\n",
        "GROUP by JobTitle\n",
        "ORDER by BaseTotalRatio DESC\n",
        "LIMIT 1 ;"
      ]
    },
    {
      "cell_type": "markdown",
      "id": "25251e7e-99a5-44d1-a104-adab83e1c4b5",
      "metadata": {
        "id": "25251e7e-99a5-44d1-a104-adab83e1c4b5"
      },
      "source": [
        "#### Q17: How many years of data are available in the dataset?\n"
      ]
    },
    {
      "cell_type": "markdown",
      "id": "a0f04248-6263-4bf6-b4af-c1c17ec7355f",
      "metadata": {
        "id": "a0f04248-6263-4bf6-b4af-c1c17ec7355f"
      },
      "source": [
        "# PYTHON CODE"
      ]
    },
    {
      "cell_type": "code",
      "execution_count": null,
      "id": "a5974b88-19ee-4d0b-b7ab-4b99e5ff75d5",
      "metadata": {
        "colab": {
          "base_uri": "https://localhost:8080/"
        },
        "id": "a5974b88-19ee-4d0b-b7ab-4b99e5ff75d5",
        "outputId": "d8a3792b-2b68-4188-f501-07d54090eb03"
      },
      "outputs": [
        {
          "output_type": "execute_result",
          "data": {
            "text/plain": [
              "4"
            ]
          },
          "metadata": {},
          "execution_count": 24
        }
      ],
      "source": [
        "sal['Year'].nunique()"
      ]
    },
    {
      "cell_type": "markdown",
      "id": "d738f408-ba4d-4daa-882c-45b7ef48f827",
      "metadata": {
        "id": "d738f408-ba4d-4daa-882c-45b7ef48f827"
      },
      "source": [
        "# sql code"
      ]
    },
    {
      "cell_type": "code",
      "execution_count": null,
      "id": "a4554cd8-fca8-4566-a8c5-2eac230ca9ce",
      "metadata": {
        "id": "a4554cd8-fca8-4566-a8c5-2eac230ca9ce"
      },
      "outputs": [],
      "source": [
        "SELECT count (DISTINCT year) from Salaries\n"
      ]
    },
    {
      "cell_type": "markdown",
      "id": "349df33d-e1f2-4069-a8df-39e0b107ec0a",
      "metadata": {
        "id": "349df33d-e1f2-4069-a8df-39e0b107ec0a"
      },
      "source": [
        "#### Q18: What is the average BasePay for each year and job title combination?\n"
      ]
    },
    {
      "cell_type": "markdown",
      "id": "5e41ee64-dedd-4008-ad0e-510abd747873",
      "metadata": {
        "id": "5e41ee64-dedd-4008-ad0e-510abd747873"
      },
      "source": [
        "# PYTHON CODE"
      ]
    },
    {
      "cell_type": "code",
      "execution_count": null,
      "id": "b4304792-77da-4cdb-aca2-12ee7dbc2d29",
      "metadata": {
        "colab": {
          "base_uri": "https://localhost:8080/",
          "height": 423
        },
        "id": "b4304792-77da-4cdb-aca2-12ee7dbc2d29",
        "outputId": "64450b9b-42b4-404a-8f90-bbf4515625e8"
      },
      "outputs": [
        {
          "output_type": "execute_result",
          "data": {
            "text/plain": [
              "      Year                        JobTitle       BasePay\n",
              "0     2011                   ACCOUNT CLERK  43300.806506\n",
              "1     2011                      ACCOUNTANT  46643.172000\n",
              "2     2011               ACCOUNTANT INTERN  28732.663958\n",
              "3     2011                   ACUPUNCTURIST  66374.400000\n",
              "4     2011          ADMINISTRATIVE ANALYST  63435.628602\n",
              "...    ...                             ...           ...\n",
              "4132  2014      Wire Rope Cable Maint Sprv  93904.720000\n",
              "4133  2014      Worker's Comp Supervisor 1  54505.333333\n",
              "4134  2014  Worker's Compensation Adjuster  69915.985385\n",
              "4135  2014           X-Ray Laboratory Aide  45490.340286\n",
              "4136  2014              Youth Comm Advisor  32417.420000\n",
              "\n",
              "[4137 rows x 3 columns]"
            ],
            "text/html": [
              "\n",
              "  <div id=\"df-65e3acd1-c95a-41c9-801b-0249f6bad8b4\" class=\"colab-df-container\">\n",
              "    <div>\n",
              "<style scoped>\n",
              "    .dataframe tbody tr th:only-of-type {\n",
              "        vertical-align: middle;\n",
              "    }\n",
              "\n",
              "    .dataframe tbody tr th {\n",
              "        vertical-align: top;\n",
              "    }\n",
              "\n",
              "    .dataframe thead th {\n",
              "        text-align: right;\n",
              "    }\n",
              "</style>\n",
              "<table border=\"1\" class=\"dataframe\">\n",
              "  <thead>\n",
              "    <tr style=\"text-align: right;\">\n",
              "      <th></th>\n",
              "      <th>Year</th>\n",
              "      <th>JobTitle</th>\n",
              "      <th>BasePay</th>\n",
              "    </tr>\n",
              "  </thead>\n",
              "  <tbody>\n",
              "    <tr>\n",
              "      <th>0</th>\n",
              "      <td>2011</td>\n",
              "      <td>ACCOUNT CLERK</td>\n",
              "      <td>43300.806506</td>\n",
              "    </tr>\n",
              "    <tr>\n",
              "      <th>1</th>\n",
              "      <td>2011</td>\n",
              "      <td>ACCOUNTANT</td>\n",
              "      <td>46643.172000</td>\n",
              "    </tr>\n",
              "    <tr>\n",
              "      <th>2</th>\n",
              "      <td>2011</td>\n",
              "      <td>ACCOUNTANT INTERN</td>\n",
              "      <td>28732.663958</td>\n",
              "    </tr>\n",
              "    <tr>\n",
              "      <th>3</th>\n",
              "      <td>2011</td>\n",
              "      <td>ACUPUNCTURIST</td>\n",
              "      <td>66374.400000</td>\n",
              "    </tr>\n",
              "    <tr>\n",
              "      <th>4</th>\n",
              "      <td>2011</td>\n",
              "      <td>ADMINISTRATIVE ANALYST</td>\n",
              "      <td>63435.628602</td>\n",
              "    </tr>\n",
              "    <tr>\n",
              "      <th>...</th>\n",
              "      <td>...</td>\n",
              "      <td>...</td>\n",
              "      <td>...</td>\n",
              "    </tr>\n",
              "    <tr>\n",
              "      <th>4132</th>\n",
              "      <td>2014</td>\n",
              "      <td>Wire Rope Cable Maint Sprv</td>\n",
              "      <td>93904.720000</td>\n",
              "    </tr>\n",
              "    <tr>\n",
              "      <th>4133</th>\n",
              "      <td>2014</td>\n",
              "      <td>Worker's Comp Supervisor 1</td>\n",
              "      <td>54505.333333</td>\n",
              "    </tr>\n",
              "    <tr>\n",
              "      <th>4134</th>\n",
              "      <td>2014</td>\n",
              "      <td>Worker's Compensation Adjuster</td>\n",
              "      <td>69915.985385</td>\n",
              "    </tr>\n",
              "    <tr>\n",
              "      <th>4135</th>\n",
              "      <td>2014</td>\n",
              "      <td>X-Ray Laboratory Aide</td>\n",
              "      <td>45490.340286</td>\n",
              "    </tr>\n",
              "    <tr>\n",
              "      <th>4136</th>\n",
              "      <td>2014</td>\n",
              "      <td>Youth Comm Advisor</td>\n",
              "      <td>32417.420000</td>\n",
              "    </tr>\n",
              "  </tbody>\n",
              "</table>\n",
              "<p>4137 rows × 3 columns</p>\n",
              "</div>\n",
              "    <div class=\"colab-df-buttons\">\n",
              "\n",
              "  <div class=\"colab-df-container\">\n",
              "    <button class=\"colab-df-convert\" onclick=\"convertToInteractive('df-65e3acd1-c95a-41c9-801b-0249f6bad8b4')\"\n",
              "            title=\"Convert this dataframe to an interactive table.\"\n",
              "            style=\"display:none;\">\n",
              "\n",
              "  <svg xmlns=\"http://www.w3.org/2000/svg\" height=\"24px\" viewBox=\"0 -960 960 960\">\n",
              "    <path d=\"M120-120v-720h720v720H120Zm60-500h600v-160H180v160Zm220 220h160v-160H400v160Zm0 220h160v-160H400v160ZM180-400h160v-160H180v160Zm440 0h160v-160H620v160ZM180-180h160v-160H180v160Zm440 0h160v-160H620v160Z\"/>\n",
              "  </svg>\n",
              "    </button>\n",
              "\n",
              "  <style>\n",
              "    .colab-df-container {\n",
              "      display:flex;\n",
              "      gap: 12px;\n",
              "    }\n",
              "\n",
              "    .colab-df-convert {\n",
              "      background-color: #E8F0FE;\n",
              "      border: none;\n",
              "      border-radius: 50%;\n",
              "      cursor: pointer;\n",
              "      display: none;\n",
              "      fill: #1967D2;\n",
              "      height: 32px;\n",
              "      padding: 0 0 0 0;\n",
              "      width: 32px;\n",
              "    }\n",
              "\n",
              "    .colab-df-convert:hover {\n",
              "      background-color: #E2EBFA;\n",
              "      box-shadow: 0px 1px 2px rgba(60, 64, 67, 0.3), 0px 1px 3px 1px rgba(60, 64, 67, 0.15);\n",
              "      fill: #174EA6;\n",
              "    }\n",
              "\n",
              "    .colab-df-buttons div {\n",
              "      margin-bottom: 4px;\n",
              "    }\n",
              "\n",
              "    [theme=dark] .colab-df-convert {\n",
              "      background-color: #3B4455;\n",
              "      fill: #D2E3FC;\n",
              "    }\n",
              "\n",
              "    [theme=dark] .colab-df-convert:hover {\n",
              "      background-color: #434B5C;\n",
              "      box-shadow: 0px 1px 3px 1px rgba(0, 0, 0, 0.15);\n",
              "      filter: drop-shadow(0px 1px 2px rgba(0, 0, 0, 0.3));\n",
              "      fill: #FFFFFF;\n",
              "    }\n",
              "  </style>\n",
              "\n",
              "    <script>\n",
              "      const buttonEl =\n",
              "        document.querySelector('#df-65e3acd1-c95a-41c9-801b-0249f6bad8b4 button.colab-df-convert');\n",
              "      buttonEl.style.display =\n",
              "        google.colab.kernel.accessAllowed ? 'block' : 'none';\n",
              "\n",
              "      async function convertToInteractive(key) {\n",
              "        const element = document.querySelector('#df-65e3acd1-c95a-41c9-801b-0249f6bad8b4');\n",
              "        const dataTable =\n",
              "          await google.colab.kernel.invokeFunction('convertToInteractive',\n",
              "                                                    [key], {});\n",
              "        if (!dataTable) return;\n",
              "\n",
              "        const docLinkHtml = 'Like what you see? Visit the ' +\n",
              "          '<a target=\"_blank\" href=https://colab.research.google.com/notebooks/data_table.ipynb>data table notebook</a>'\n",
              "          + ' to learn more about interactive tables.';\n",
              "        element.innerHTML = '';\n",
              "        dataTable['output_type'] = 'display_data';\n",
              "        await google.colab.output.renderOutput(dataTable, element);\n",
              "        const docLink = document.createElement('div');\n",
              "        docLink.innerHTML = docLinkHtml;\n",
              "        element.appendChild(docLink);\n",
              "      }\n",
              "    </script>\n",
              "  </div>\n",
              "\n",
              "\n",
              "<div id=\"df-5db62b78-881b-430c-b820-7787d7661bc4\">\n",
              "  <button class=\"colab-df-quickchart\" onclick=\"quickchart('df-5db62b78-881b-430c-b820-7787d7661bc4')\"\n",
              "            title=\"Suggest charts\"\n",
              "            style=\"display:none;\">\n",
              "\n",
              "<svg xmlns=\"http://www.w3.org/2000/svg\" height=\"24px\"viewBox=\"0 0 24 24\"\n",
              "     width=\"24px\">\n",
              "    <g>\n",
              "        <path d=\"M19 3H5c-1.1 0-2 .9-2 2v14c0 1.1.9 2 2 2h14c1.1 0 2-.9 2-2V5c0-1.1-.9-2-2-2zM9 17H7v-7h2v7zm4 0h-2V7h2v10zm4 0h-2v-4h2v4z\"/>\n",
              "    </g>\n",
              "</svg>\n",
              "  </button>\n",
              "\n",
              "<style>\n",
              "  .colab-df-quickchart {\n",
              "      --bg-color: #E8F0FE;\n",
              "      --fill-color: #1967D2;\n",
              "      --hover-bg-color: #E2EBFA;\n",
              "      --hover-fill-color: #174EA6;\n",
              "      --disabled-fill-color: #AAA;\n",
              "      --disabled-bg-color: #DDD;\n",
              "  }\n",
              "\n",
              "  [theme=dark] .colab-df-quickchart {\n",
              "      --bg-color: #3B4455;\n",
              "      --fill-color: #D2E3FC;\n",
              "      --hover-bg-color: #434B5C;\n",
              "      --hover-fill-color: #FFFFFF;\n",
              "      --disabled-bg-color: #3B4455;\n",
              "      --disabled-fill-color: #666;\n",
              "  }\n",
              "\n",
              "  .colab-df-quickchart {\n",
              "    background-color: var(--bg-color);\n",
              "    border: none;\n",
              "    border-radius: 50%;\n",
              "    cursor: pointer;\n",
              "    display: none;\n",
              "    fill: var(--fill-color);\n",
              "    height: 32px;\n",
              "    padding: 0;\n",
              "    width: 32px;\n",
              "  }\n",
              "\n",
              "  .colab-df-quickchart:hover {\n",
              "    background-color: var(--hover-bg-color);\n",
              "    box-shadow: 0 1px 2px rgba(60, 64, 67, 0.3), 0 1px 3px 1px rgba(60, 64, 67, 0.15);\n",
              "    fill: var(--button-hover-fill-color);\n",
              "  }\n",
              "\n",
              "  .colab-df-quickchart-complete:disabled,\n",
              "  .colab-df-quickchart-complete:disabled:hover {\n",
              "    background-color: var(--disabled-bg-color);\n",
              "    fill: var(--disabled-fill-color);\n",
              "    box-shadow: none;\n",
              "  }\n",
              "\n",
              "  .colab-df-spinner {\n",
              "    border: 2px solid var(--fill-color);\n",
              "    border-color: transparent;\n",
              "    border-bottom-color: var(--fill-color);\n",
              "    animation:\n",
              "      spin 1s steps(1) infinite;\n",
              "  }\n",
              "\n",
              "  @keyframes spin {\n",
              "    0% {\n",
              "      border-color: transparent;\n",
              "      border-bottom-color: var(--fill-color);\n",
              "      border-left-color: var(--fill-color);\n",
              "    }\n",
              "    20% {\n",
              "      border-color: transparent;\n",
              "      border-left-color: var(--fill-color);\n",
              "      border-top-color: var(--fill-color);\n",
              "    }\n",
              "    30% {\n",
              "      border-color: transparent;\n",
              "      border-left-color: var(--fill-color);\n",
              "      border-top-color: var(--fill-color);\n",
              "      border-right-color: var(--fill-color);\n",
              "    }\n",
              "    40% {\n",
              "      border-color: transparent;\n",
              "      border-right-color: var(--fill-color);\n",
              "      border-top-color: var(--fill-color);\n",
              "    }\n",
              "    60% {\n",
              "      border-color: transparent;\n",
              "      border-right-color: var(--fill-color);\n",
              "    }\n",
              "    80% {\n",
              "      border-color: transparent;\n",
              "      border-right-color: var(--fill-color);\n",
              "      border-bottom-color: var(--fill-color);\n",
              "    }\n",
              "    90% {\n",
              "      border-color: transparent;\n",
              "      border-bottom-color: var(--fill-color);\n",
              "    }\n",
              "  }\n",
              "</style>\n",
              "\n",
              "  <script>\n",
              "    async function quickchart(key) {\n",
              "      const quickchartButtonEl =\n",
              "        document.querySelector('#' + key + ' button');\n",
              "      quickchartButtonEl.disabled = true;  // To prevent multiple clicks.\n",
              "      quickchartButtonEl.classList.add('colab-df-spinner');\n",
              "      try {\n",
              "        const charts = await google.colab.kernel.invokeFunction(\n",
              "            'suggestCharts', [key], {});\n",
              "      } catch (error) {\n",
              "        console.error('Error during call to suggestCharts:', error);\n",
              "      }\n",
              "      quickchartButtonEl.classList.remove('colab-df-spinner');\n",
              "      quickchartButtonEl.classList.add('colab-df-quickchart-complete');\n",
              "    }\n",
              "    (() => {\n",
              "      let quickchartButtonEl =\n",
              "        document.querySelector('#df-5db62b78-881b-430c-b820-7787d7661bc4 button');\n",
              "      quickchartButtonEl.style.display =\n",
              "        google.colab.kernel.accessAllowed ? 'block' : 'none';\n",
              "    })();\n",
              "  </script>\n",
              "</div>\n",
              "\n",
              "    </div>\n",
              "  </div>\n"
            ],
            "application/vnd.google.colaboratory.intrinsic+json": {
              "type": "dataframe",
              "summary": "{\n  \"name\": \"sal\",\n  \"rows\": 4137,\n  \"fields\": [\n    {\n      \"column\": \"Year\",\n      \"properties\": {\n        \"dtype\": \"number\",\n        \"std\": 1,\n        \"min\": 2011,\n        \"max\": 2014,\n        \"num_unique_values\": 4,\n        \"samples\": [\n          2012,\n          2014,\n          2011\n        ],\n        \"semantic_type\": \"\",\n        \"description\": \"\"\n      }\n    },\n    {\n      \"column\": \"JobTitle\",\n      \"properties\": {\n        \"dtype\": \"string\",\n        \"num_unique_values\": 2159,\n        \"samples\": [\n          \"Welfare Fraud Investigator\",\n          \"PLANNER TECHNICIAN\",\n          \"Water Service Inspector\"\n        ],\n        \"semantic_type\": \"\",\n        \"description\": \"\"\n      }\n    },\n    {\n      \"column\": \"BasePay\",\n      \"properties\": {\n        \"dtype\": \"number\",\n        \"std\": 42837.33717060084,\n        \"min\": 0.0,\n        \"max\": 319275.01,\n        \"num_unique_values\": 4104,\n        \"samples\": [\n          65722.77,\n          51823.147647058824,\n          87663.76999999999\n        ],\n        \"semantic_type\": \"\",\n        \"description\": \"\"\n      }\n    }\n  ]\n}"
            }
          },
          "metadata": {},
          "execution_count": 25
        }
      ],
      "source": [
        "sal.groupby(['Year', 'JobTitle'])['BasePay'].mean().reset_index()"
      ]
    },
    {
      "cell_type": "markdown",
      "id": "838edd30-285c-46d0-859b-958050822a3a",
      "metadata": {
        "id": "838edd30-285c-46d0-859b-958050822a3a"
      },
      "source": [
        "# sql code"
      ]
    },
    {
      "cell_type": "code",
      "execution_count": null,
      "id": "790ade2b-6a5c-4049-a496-30f4b570933d",
      "metadata": {
        "id": "790ade2b-6a5c-4049-a496-30f4b570933d"
      },
      "outputs": [],
      "source": [
        "SELECT Year, JobTitle, AVG(BasePay) as AverageBasePay\n",
        "FROM Salaries\n",
        "GROUP BY Year, JobTitle\n"
      ]
    },
    {
      "cell_type": "markdown",
      "id": "2a438762-fc7f-471c-93cb-f26ff5015cef",
      "metadata": {
        "id": "2a438762-fc7f-471c-93cb-f26ff5015cef"
      },
      "source": [
        "#### Q19: How many employees have a TotalPayBenefits greater than $326373.19??\n"
      ]
    },
    {
      "cell_type": "markdown",
      "id": "5e4d3c56-39fb-47c9-be74-b28fe034c6f1",
      "metadata": {
        "id": "5e4d3c56-39fb-47c9-be74-b28fe034c6f1"
      },
      "source": [
        "# PYTHON CODE"
      ]
    },
    {
      "source": [
        "(sal['TotalPayBenefits'] > 326373.19).sum()"
      ],
      "cell_type": "code",
      "metadata": {
        "colab": {
          "base_uri": "https://localhost:8080/"
        },
        "id": "fU2MvOz6TYmP",
        "outputId": "0939e745-742e-422d-c04e-3eff95ab1e05"
      },
      "id": "fU2MvOz6TYmP",
      "execution_count": null,
      "outputs": [
        {
          "output_type": "execute_result",
          "data": {
            "text/plain": [
              "144"
            ]
          },
          "metadata": {},
          "execution_count": 26
        }
      ]
    },
    {
      "cell_type": "markdown",
      "id": "17f786b0-9b1e-4fe9-b422-891756185877",
      "metadata": {
        "id": "17f786b0-9b1e-4fe9-b422-891756185877"
      },
      "source": [
        "# sql code"
      ]
    },
    {
      "cell_type": "code",
      "execution_count": null,
      "id": "bbe24e15-5dd0-4ea1-b63a-d2d35be6d7a2",
      "metadata": {
        "id": "bbe24e15-5dd0-4ea1-b63a-d2d35be6d7a2"
      },
      "outputs": [],
      "source": [
        "SELECT COUNT(*)FROM Salaries\n",
        "WHERE TotalPayBenefits > 326373.19"
      ]
    },
    {
      "cell_type": "markdown",
      "id": "e0e5537a-c058-41c5-a3b1-c006ef7baeff",
      "metadata": {
        "id": "e0e5537a-c058-41c5-a3b1-c006ef7baeff"
      },
      "source": [
        "#### Q20: Which agency has the highest average TotalPayBenefits?\n"
      ]
    },
    {
      "cell_type": "markdown",
      "id": "119996b3-3603-4ac6-ae2a-d39de9e6fccb",
      "metadata": {
        "id": "119996b3-3603-4ac6-ae2a-d39de9e6fccb"
      },
      "source": [
        "# PYTHON CODE"
      ]
    },
    {
      "cell_type": "code",
      "execution_count": null,
      "id": "c6fda1eb-e15b-43d5-b7af-ba6452206992",
      "metadata": {
        "colab": {
          "base_uri": "https://localhost:8080/"
        },
        "id": "c6fda1eb-e15b-43d5-b7af-ba6452206992",
        "outputId": "587964eb-5db4-494d-9586-a419c8debd7e"
      },
      "outputs": [
        {
          "output_type": "stream",
          "name": "stdout",
          "text": [
            "The agency with the highest average is San Francisco with the highest avg TotalPayBenefits of : 93692.55481056681\n"
          ]
        }
      ],
      "source": [
        "sal['TotalPayBenefits'] = pd.to_numeric(sal['TotalPayBenefits'])\n",
        "agency_with_highest_avg = sal.groupby('Agency')['TotalPayBenefits'].mean().idxmax()\n",
        "HighestAvg=sal.groupby('Agency')['TotalPayBenefits'].mean().max()\n",
        "print(\"The agency with the highest average is\", agency_with_highest_avg, \"with the highest avg TotalPayBenefits of :\", HighestAvg)"
      ]
    },
    {
      "cell_type": "markdown",
      "id": "8c11f6a8-cd53-461a-8b95-4380fab4df9c",
      "metadata": {
        "id": "8c11f6a8-cd53-461a-8b95-4380fab4df9c"
      },
      "source": [
        "# sql code"
      ]
    },
    {
      "cell_type": "code",
      "execution_count": null,
      "id": "73724a43-bc18-4633-a179-dbc7d5655438",
      "metadata": {
        "id": "73724a43-bc18-4633-a179-dbc7d5655438"
      },
      "outputs": [],
      "source": [
        "select avg( TotalPayBenefits) ,Agency from Salaries\n",
        "GROUP by Agency\n",
        "order by agency DESC\n",
        "limit 1 ;"
      ]
    },
    {
      "cell_type": "markdown",
      "source": [
        " * **Data cleaning** *if needed*"
      ],
      "metadata": {
        "id": "jQc-mUM1sova"
      },
      "id": "jQc-mUM1sova"
    },
    {
      "cell_type": "code",
      "source": [
        "sal.info()\n",
        "sal.drop(['Notes'], axis=1, inplace=True)\n",
        "sal.reset_index(drop=True, inplace=True)#if needed\n",
        "\n",
        "sal['Status'].fillna(sal['Status'].mean())"
      ],
      "metadata": {
        "id": "DJGSgpKsrloX"
      },
      "id": "DJGSgpKsrloX",
      "execution_count": null,
      "outputs": []
    },
    {
      "cell_type": "code",
      "source": [
        "sal['Status'].fillna('unknown', inplace = True)"
      ],
      "metadata": {
        "id": "6rtbwLIQtr-C"
      },
      "id": "6rtbwLIQtr-C",
      "execution_count": null,
      "outputs": []
    },
    {
      "cell_type": "code",
      "source": [
        "sal['Status']"
      ],
      "metadata": {
        "colab": {
          "base_uri": "https://localhost:8080/"
        },
        "id": "Jm1KHnsLt4pT",
        "outputId": "b7d69a4b-a57b-4457-afe5-ca54674e80a2"
      },
      "id": "Jm1KHnsLt4pT",
      "execution_count": null,
      "outputs": [
        {
          "output_type": "execute_result",
          "data": {
            "text/plain": [
              "0         unknown\n",
              "1         unknown\n",
              "2         unknown\n",
              "3         unknown\n",
              "4         unknown\n",
              "           ...   \n",
              "148649         PT\n",
              "148650    unknown\n",
              "148651    unknown\n",
              "148652    unknown\n",
              "148653         PT\n",
              "Name: Status, Length: 148654, dtype: object"
            ]
          },
          "metadata": {},
          "execution_count": 58
        }
      ]
    },
    {
      "cell_type": "code",
      "source": [
        "sal = sal[sal['Status'] != 'unknown']\n"
      ],
      "metadata": {
        "id": "l5Xc5d2GuSbK"
      },
      "id": "l5Xc5d2GuSbK",
      "execution_count": null,
      "outputs": []
    },
    {
      "cell_type": "code",
      "source": [
        "sal['Status']"
      ],
      "metadata": {
        "colab": {
          "base_uri": "https://localhost:8080/"
        },
        "id": "x5rgA_zoucIe",
        "outputId": "63f7697b-f20f-449f-f4b7-81b5a08f021c"
      },
      "id": "x5rgA_zoucIe",
      "execution_count": null,
      "outputs": [
        {
          "output_type": "execute_result",
          "data": {
            "text/plain": [
              "110531    PT\n",
              "110532    FT\n",
              "110533    PT\n",
              "110534    FT\n",
              "110535    FT\n",
              "          ..\n",
              "148645    PT\n",
              "148647    PT\n",
              "148648    PT\n",
              "148649    PT\n",
              "148653    PT\n",
              "Name: Status, Length: 38119, dtype: object"
            ]
          },
          "metadata": {},
          "execution_count": 60
        }
      ]
    }
  ],
  "metadata": {
    "kernelspec": {
      "display_name": "Python 3 (ipykernel)",
      "language": "python",
      "name": "python3"
    },
    "language_info": {
      "codemirror_mode": {
        "name": "ipython",
        "version": 3
      },
      "file_extension": ".py",
      "mimetype": "text/x-python",
      "name": "python",
      "nbconvert_exporter": "python",
      "pygments_lexer": "ipython3",
      "version": "3.11.7"
    },
    "colab": {
      "provenance": [],
      "include_colab_link": true
    }
  },
  "nbformat": 4,
  "nbformat_minor": 5
}