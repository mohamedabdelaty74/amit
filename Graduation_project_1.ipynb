{
  "cells": [
    {
      "cell_type": "markdown",
      "metadata": {
        "id": "view-in-github",
        "colab_type": "text"
      },
      "source": [
        "<a href=\"https://colab.research.google.com/github/mohamedabdelaty74/amit/blob/main/Graduation_project_1.ipynb\" target=\"_parent\"><img src=\"https://colab.research.google.com/assets/colab-badge.svg\" alt=\"Open In Colab\"/></a>"
      ]
    },
    {
      "cell_type": "markdown",
      "id": "05332683-9553-489b-871d-1c6203ba6312",
      "metadata": {
        "id": "05332683-9553-489b-871d-1c6203ba6312"
      },
      "source": [
        "# dataset link\n",
        "\n",
        "https://www.kaggle.com/datasets/kaggle/sf-salaries"
      ]
    },
    {
      "cell_type": "markdown",
      "id": "eff890f0-afa0-4617-ba86-092a4e0fe1af",
      "metadata": {
        "id": "eff890f0-afa0-4617-ba86-092a4e0fe1af"
      },
      "source": [
        "# Q1:  What is the average BasePay across all job titles?"
      ]
    },
    {
      "cell_type": "markdown",
      "id": "807a5fe7-8c72-475b-a159-4df4f20ee018",
      "metadata": {
        "id": "807a5fe7-8c72-475b-a159-4df4f20ee018"
      },
      "source": [
        "# PYTHON CODE"
      ]
    },
    {
      "cell_type": "code",
      "execution_count": null,
      "id": "c440d0a8-8b44-4df8-9cd3-53080816d86d",
      "metadata": {
        "colab": {
          "base_uri": "https://localhost:8080/"
        },
        "id": "c440d0a8-8b44-4df8-9cd3-53080816d86d",
        "outputId": "76900c07-d5a7-4a30-d071-458b95076b81"
      },
      "outputs": [
        {
          "output_type": "stream",
          "name": "stderr",
          "text": [
            "<ipython-input-1-391a5bbcabe8>:3: DtypeWarning: Columns (3,4,5,6,12) have mixed types. Specify dtype option on import or set low_memory=False.\n",
            "  sal= pd.read_csv(\"Salaries.csv\")\n"
          ]
        },
        {
          "output_type": "execute_result",
          "data": {
            "text/plain": [
              "66325.4488404877"
            ]
          },
          "metadata": {},
          "execution_count": 1
        }
      ],
      "source": [
        "import pandas as pd\n",
        "\n",
        "sal= pd.read_csv(\"Salaries.csv\")\n",
        "\n",
        "sal['BasePay'] = pd.to_numeric(sal['BasePay'], errors='coerce')\n",
        "sal['BasePay'].mean()\n",
        "\n"
      ]
    },
    {
      "cell_type": "code",
      "source": [
        "sal.dropna(inplace=True)\n"
      ],
      "metadata": {
        "id": "tWVLLrYw31Nq"
      },
      "id": "tWVLLrYw31Nq",
      "execution_count": null,
      "outputs": []
    },
    {
      "cell_type": "markdown",
      "id": "394de29b-e298-4a13-9e22-6a0aa4d098e7",
      "metadata": {
        "id": "394de29b-e298-4a13-9e22-6a0aa4d098e7"
      },
      "source": [
        "# sql code"
      ]
    },
    {
      "cell_type": "code",
      "source": [
        "DELETE FROM Salaries\n",
        "WHERE BasePay = '';\n",
        "\n",
        "SELECT avg (BasePay) From Salaries\n"
      ],
      "metadata": {
        "id": "-2fiyF54v4yp"
      },
      "id": "-2fiyF54v4yp",
      "execution_count": null,
      "outputs": []
    },
    {
      "cell_type": "markdown",
      "id": "22a1af66-9bd1-405d-bbf1-63c529d14b21",
      "metadata": {
        "id": "22a1af66-9bd1-405d-bbf1-63c529d14b21"
      },
      "source": [
        "# Q2: Which job title has the highest BasePay?\n"
      ]
    },
    {
      "cell_type": "markdown",
      "id": "99f12855-1bd4-4710-bc9e-67a7b8d9f5f6",
      "metadata": {
        "id": "99f12855-1bd4-4710-bc9e-67a7b8d9f5f6"
      },
      "source": [
        "# PYTHON CODE"
      ]
    },
    {
      "cell_type": "code",
      "execution_count": null,
      "id": "097846cd-b927-4a37-bdc5-79adfcd4b0b2",
      "metadata": {
        "colab": {
          "base_uri": "https://localhost:8080/"
        },
        "id": "097846cd-b927-4a37-bdc5-79adfcd4b0b2",
        "outputId": "9ff075b7-7dc2-4c8b-c752-f7f7bed6c7da"
      },
      "outputs": [
        {
          "output_type": "stream",
          "name": "stdout",
          "text": [
            "Chief of Police\n",
            "319275.01\n"
          ]
        }
      ],
      "source": [
        "highest_basepay_job = sal.loc[sal['BasePay'].idxmax()]\n",
        "print(highest_basepay_job['JobTitle'])\n",
        "print(highest_basepay_job['BasePay'])\n"
      ]
    },
    {
      "cell_type": "markdown",
      "id": "9e04064d-b52e-458d-a78e-dc30c9acccb3",
      "metadata": {
        "id": "9e04064d-b52e-458d-a78e-dc30c9acccb3"
      },
      "source": [
        "# sql code"
      ]
    },
    {
      "cell_type": "code",
      "execution_count": null,
      "id": "8f66f072-ad6a-4a07-a654-6555077d84d3",
      "metadata": {
        "id": "8f66f072-ad6a-4a07-a654-6555077d84d3"
      },
      "outputs": [],
      "source": [
        "SELECT max(Basepay) FROM Salaries\n"
      ]
    },
    {
      "cell_type": "markdown",
      "id": "f483122c-55a0-40b0-9923-1c85efe49a4e",
      "metadata": {
        "id": "f483122c-55a0-40b0-9923-1c85efe49a4e"
      },
      "source": [
        "# Q3: How many unique job titles are there in the dataset?\n"
      ]
    },
    {
      "cell_type": "markdown",
      "id": "4dfa40d8-7692-45b4-8bc6-7705f460f3c4",
      "metadata": {
        "id": "4dfa40d8-7692-45b4-8bc6-7705f460f3c4"
      },
      "source": [
        "# PYTHON CODE"
      ]
    },
    {
      "cell_type": "code",
      "execution_count": null,
      "id": "13bea464-18c6-4292-a41d-84cf7bfd33fe",
      "metadata": {
        "colab": {
          "base_uri": "https://localhost:8080/"
        },
        "id": "13bea464-18c6-4292-a41d-84cf7bfd33fe",
        "outputId": "d62aabb2-7861-4bea-d650-67fe430a59d2"
      },
      "outputs": [
        {
          "output_type": "stream",
          "name": "stdout",
          "text": [
            "2159\n"
          ]
        }
      ],
      "source": [
        "unique_job_title=sal['JobTitle'].nunique()\n",
        "print(unique_job_title)"
      ]
    },
    {
      "cell_type": "markdown",
      "id": "86ffe2bc-3621-4cbe-be0f-47b129a2b3c9",
      "metadata": {
        "id": "86ffe2bc-3621-4cbe-be0f-47b129a2b3c9"
      },
      "source": [
        "# sql code"
      ]
    },
    {
      "cell_type": "code",
      "execution_count": null,
      "id": "e1a0da7a-d713-4955-9350-cdcc1065a389",
      "metadata": {
        "id": "e1a0da7a-d713-4955-9350-cdcc1065a389"
      },
      "outputs": [],
      "source": [
        "SELECT COUNT(DISTINCT JobTitle)\n",
        "FROM salaries;"
      ]
    },
    {
      "cell_type": "markdown",
      "id": "f34cdc8a-9374-4dbe-b2f0-9e5831abe142",
      "metadata": {
        "id": "f34cdc8a-9374-4dbe-b2f0-9e5831abe142"
      },
      "source": [
        "#### Q4: What is the total OvertimePay for each year?\n"
      ]
    },
    {
      "cell_type": "markdown",
      "id": "f87e5b8b-c6ad-4b56-890e-0237a6067167",
      "metadata": {
        "id": "f87e5b8b-c6ad-4b56-890e-0237a6067167"
      },
      "source": [
        "# PYTHON CODE"
      ]
    },
    {
      "cell_type": "code",
      "execution_count": null,
      "id": "5431b6e8-53a0-4b0f-805d-4095f1df9f15",
      "metadata": {
        "colab": {
          "base_uri": "https://localhost:8080/"
        },
        "id": "5431b6e8-53a0-4b0f-805d-4095f1df9f15",
        "outputId": "36b2d601-b015-42d0-eb66-e3efc15aef22"
      },
      "outputs": [
        {
          "output_type": "execute_result",
          "data": {
            "text/plain": [
              "Year\n",
              "2011    1.638388e+08\n",
              "2012    1.846910e+08\n",
              "2013    1.986214e+08\n",
              "2014    2.059186e+08\n",
              "Name: OvertimePay, dtype: float64"
            ]
          },
          "metadata": {},
          "execution_count": 3
        }
      ],
      "source": [
        "sal['OvertimePay']=pd.to_numeric(sal['OvertimePay'],errors='coerce')\n",
        "total_overtime_by_year = sal.groupby('Year')['OvertimePay'].sum()\n",
        "total_overtime_by_year\n"
      ]
    },
    {
      "cell_type": "markdown",
      "id": "4c1f6cba-de43-41f7-8f02-800730c33b5a",
      "metadata": {
        "id": "4c1f6cba-de43-41f7-8f02-800730c33b5a"
      },
      "source": [
        "# sql code"
      ]
    },
    {
      "cell_type": "code",
      "execution_count": null,
      "id": "5f2353ae-221a-427e-96f3-aac434992363",
      "metadata": {
        "id": "5f2353ae-221a-427e-96f3-aac434992363"
      },
      "outputs": [],
      "source": [
        "select Year, sum(OvertimePay) from Salaries\n",
        "GROUP BY Year"
      ]
    },
    {
      "cell_type": "markdown",
      "id": "664886ef-8e66-4ea1-8071-879daf1d9f30",
      "metadata": {
        "id": "664886ef-8e66-4ea1-8071-879daf1d9f30"
      },
      "source": [
        "#### Q5: Which year had the highest average OtherPay?\n"
      ]
    },
    {
      "cell_type": "markdown",
      "id": "ded89aed-27b8-417a-8b9d-f4b7bbb3fbef",
      "metadata": {
        "id": "ded89aed-27b8-417a-8b9d-f4b7bbb3fbef"
      },
      "source": [
        "# PYTHON CODE"
      ]
    },
    {
      "cell_type": "code",
      "execution_count": null,
      "id": "91cf1f38-1b16-498b-8e78-443defff4ef5",
      "metadata": {
        "colab": {
          "base_uri": "https://localhost:8080/"
        },
        "id": "91cf1f38-1b16-498b-8e78-443defff4ef5",
        "outputId": "bb665262-0116-4ea8-e8f2-edb24f58682f"
      },
      "outputs": [
        {
          "output_type": "execute_result",
          "data": {
            "text/plain": [
              "2013"
            ]
          },
          "metadata": {},
          "execution_count": 17
        }
      ],
      "source": [
        "sal['OtherPay']=pd.to_numeric(sal['OtherPay'], errors='coerce')\n",
        "sal.groupby('Year')['OtherPay'].mean().idxmax()\n",
        "\n"
      ]
    },
    {
      "cell_type": "markdown",
      "id": "8810d02e-87b9-4205-99c8-1eb02b29b371",
      "metadata": {
        "id": "8810d02e-87b9-4205-99c8-1eb02b29b371"
      },
      "source": [
        "# sql code"
      ]
    },
    {
      "cell_type": "code",
      "execution_count": null,
      "id": "b773e41d-bfac-44fe-8d80-3edfaa8593db",
      "metadata": {
        "id": "b773e41d-bfac-44fe-8d80-3edfaa8593db"
      },
      "outputs": [],
      "source": [
        "SELECT Year, AVG(OtherPay) AS AverageOtherPay\n",
        "FROM salaries\n",
        "GROUP BY Year\n",
        "ORDER BY AverageOtherPay DESC\n",
        "LIMIT 1;"
      ]
    },
    {
      "cell_type": "markdown",
      "id": "7f41d533-bcb3-4d73-ad18-c102ee71e160",
      "metadata": {
        "id": "7f41d533-bcb3-4d73-ad18-c102ee71e160"
      },
      "source": [
        "#### Q6: What is the median TotalPay for each job title?\n"
      ]
    },
    {
      "cell_type": "markdown",
      "id": "b31fa7ef-d7f1-431c-aab7-57b68654eead",
      "metadata": {
        "id": "b31fa7ef-d7f1-431c-aab7-57b68654eead"
      },
      "source": [
        "# PYTHON CODE"
      ]
    },
    {
      "cell_type": "code",
      "execution_count": null,
      "id": "a559eaf1-8219-4ac2-b68e-120fd0429bc2",
      "metadata": {
        "colab": {
          "base_uri": "https://localhost:8080/"
        },
        "id": "a559eaf1-8219-4ac2-b68e-120fd0429bc2",
        "outputId": "026ad9b5-b356-4e69-f095-0d7cace2d4d7"
      },
      "outputs": [
        {
          "output_type": "stream",
          "name": "stdout",
          "text": [
            "JobTitle\n",
            "ACCOUNT CLERK                                     49777.820\n",
            "ACCOUNTANT                                        60076.240\n",
            "ACCOUNTANT INTERN                                 17658.505\n",
            "ACPO,JuvP, Juv Prob (SFERS)                       62290.780\n",
            "ACUPUNCTURIST                                     67594.400\n",
            "                                                    ...    \n",
            "X-RAY LABORATORY AIDE                             60333.125\n",
            "X-Ray Laboratory Aide                             60047.290\n",
            "YOUTH COMMISSION ADVISOR, BOARD OF SUPERVISORS    53632.870\n",
            "Youth Comm Advisor                                44449.895\n",
            "ZOO CURATOR                                       66686.560\n",
            "Name: TotalPay, Length: 2159, dtype: float64\n"
          ]
        }
      ],
      "source": [
        "median_totalpay_by_jobtitle = sal.groupby('JobTitle')['TotalPay'].median()\n",
        "print(median_totalpay_by_jobtitle)"
      ]
    },
    {
      "cell_type": "markdown",
      "id": "a6f8219d-4610-4615-9f4c-f35b184eab39",
      "metadata": {
        "id": "a6f8219d-4610-4615-9f4c-f35b184eab39"
      },
      "source": [
        "# sql code"
      ]
    },
    {
      "cell_type": "code",
      "execution_count": null,
      "id": "cc061126-ca6b-4f37-b78b-1121ec9144ba",
      "metadata": {
        "id": "cc061126-ca6b-4f37-b78b-1121ec9144ba"
      },
      "outputs": [],
      "source": [
        "SELECT JobTitle, AVG(TotalPay) AS median_TotalPay\n",
        "FROM (\n",
        "    SELECT TotalPay, JobTitle,\n",
        "           ROW_NUMBER() OVER (PARTITION BY JobTitle ORDER BY TotalPay) AS RowAsc,\n",
        "           ROW_NUMBER() OVER (PARTITION BY JobTitle ORDER BY TotalPay DESC) AS RowDesc\n",
        "    FROM Salaries\n",
        ") AS OrderedData\n",
        "WHERE RowAsc IN (RowDesc, RowDesc + 1, RowDesc - 1)\n",
        "GROUP BY JobTitle\n"
      ]
    },
    {
      "cell_type": "markdown",
      "id": "1235b678-d6f3-4b50-accb-d8d7cb7c67aa",
      "metadata": {
        "id": "1235b678-d6f3-4b50-accb-d8d7cb7c67aa"
      },
      "source": [
        "#### Q7: How many employees are there in each agency?\n"
      ]
    },
    {
      "cell_type": "markdown",
      "id": "030bc2a1-bb58-461e-896c-895bf56a11a9",
      "metadata": {
        "id": "030bc2a1-bb58-461e-896c-895bf56a11a9"
      },
      "source": [
        "# PYTHON CODE"
      ]
    },
    {
      "cell_type": "code",
      "execution_count": null,
      "id": "96929c35-ca82-49a7-89a0-bd2af8891760",
      "metadata": {
        "colab": {
          "base_uri": "https://localhost:8080/"
        },
        "id": "96929c35-ca82-49a7-89a0-bd2af8891760",
        "outputId": "b6cc5890-9b66-4e01-d101-7e7e72f610c6"
      },
      "outputs": [
        {
          "output_type": "stream",
          "name": "stdout",
          "text": [
            "Agency\n",
            "San Francisco    148654\n",
            "Name: count, dtype: int64\n"
          ]
        }
      ],
      "source": [
        "employee_count_per_agency = sal.groupby('Agency')['Agency'].value_counts()\n",
        "print(employee_count_per_agency)"
      ]
    },
    {
      "cell_type": "markdown",
      "id": "0c055c6f-b0d8-44af-a380-1ded806644b7",
      "metadata": {
        "id": "0c055c6f-b0d8-44af-a380-1ded806644b7"
      },
      "source": [
        "# sql code"
      ]
    },
    {
      "cell_type": "code",
      "execution_count": null,
      "id": "f1b63667-a68a-4290-b936-2fa3ada2e66c",
      "metadata": {
        "id": "f1b63667-a68a-4290-b936-2fa3ada2e66c"
      },
      "outputs": [],
      "source": [
        "SELECT agency, COUNT(id)\n",
        "FROM Salaries"
      ]
    },
    {
      "cell_type": "markdown",
      "id": "266151b2-5c72-4030-8554-20b62128cc23",
      "metadata": {
        "id": "266151b2-5c72-4030-8554-20b62128cc23"
      },
      "source": [
        "#### Q8: What is the maximum Benefits offered by any agency?\n"
      ]
    },
    {
      "cell_type": "markdown",
      "id": "e1459ce9-31c8-4d81-84ba-2a86131770e5",
      "metadata": {
        "id": "e1459ce9-31c8-4d81-84ba-2a86131770e5"
      },
      "source": [
        "# PYTHON CODE"
      ]
    },
    {
      "cell_type": "code",
      "execution_count": null,
      "id": "7a4e2375-be69-4de8-b58a-e8f14ddf3362",
      "metadata": {
        "colab": {
          "base_uri": "https://localhost:8080/"
        },
        "id": "7a4e2375-be69-4de8-b58a-e8f14ddf3362",
        "outputId": "7c033fea-3efd-4cf5-a155-741c18474b82"
      },
      "outputs": [
        {
          "output_type": "stream",
          "name": "stdout",
          "text": [
            "96570.66\n",
            "110533    San Francisco\n",
            "Name: Agency, dtype: object\n"
          ]
        }
      ],
      "source": [
        "sal['Benefits'] = pd.to_numeric(sal['Benefits'], errors='coerce')\n",
        "max_benefits = sal['Benefits'].max()\n",
        "max_benefits_agency = sal.loc[sal['Benefits'] == max_benefits, 'Agency']\n",
        "\n",
        "print(max_benefits)\n",
        "print(max_benefits_agency)"
      ]
    },
    {
      "cell_type": "code",
      "source": [
        "sal['Benefits'].head()"
      ],
      "metadata": {
        "colab": {
          "base_uri": "https://localhost:8080/"
        },
        "id": "WA-Pb4sIdzBP",
        "outputId": "ee3e34ea-5116-4f63-be89-3d674a9e9696"
      },
      "id": "WA-Pb4sIdzBP",
      "execution_count": null,
      "outputs": [
        {
          "output_type": "execute_result",
          "data": {
            "text/plain": [
              "0   NaN\n",
              "1   NaN\n",
              "2   NaN\n",
              "3   NaN\n",
              "4   NaN\n",
              "Name: Benefits, dtype: float64"
            ]
          },
          "metadata": {},
          "execution_count": 21
        }
      ]
    },
    {
      "cell_type": "markdown",
      "id": "fce862a1-83de-4e30-b37d-9f4a618e7c9f",
      "metadata": {
        "id": "fce862a1-83de-4e30-b37d-9f4a618e7c9f"
      },
      "source": [
        "# sql code"
      ]
    },
    {
      "cell_type": "code",
      "execution_count": null,
      "id": "87d7c757-2b50-420f-8d7f-edd0eabd35ee",
      "metadata": {
        "id": "87d7c757-2b50-420f-8d7f-edd0eabd35ee"
      },
      "outputs": [],
      "source": [
        "DELETE FROM Salaries\n",
        "WHERE Benefits = '';\n",
        "select Agency, max(benefits) from Salaries"
      ]
    },
    {
      "cell_type": "markdown",
      "id": "8a2a0bd1-8f66-4ea0-bd9e-5e9a5d750c9f",
      "metadata": {
        "id": "8a2a0bd1-8f66-4ea0-bd9e-5e9a5d750c9f"
      },
      "source": [
        "#### Q9: What is the total BasePay, OvertimePay, and OtherPay for each employee?\n"
      ]
    },
    {
      "cell_type": "markdown",
      "id": "e460920a-69ca-443b-8fdf-67d4a7a59f86",
      "metadata": {
        "id": "e460920a-69ca-443b-8fdf-67d4a7a59f86"
      },
      "source": [
        "# PYTHON CODE"
      ]
    },
    {
      "cell_type": "code",
      "execution_count": null,
      "id": "a8aeffa2-9f01-4ad4-9099-7f32d104235b",
      "metadata": {
        "colab": {
          "base_uri": "https://localhost:8080/"
        },
        "id": "a8aeffa2-9f01-4ad4-9099-7f32d104235b",
        "outputId": "fd6d3a37-7e48-46c5-b56a-7fbff4e98a76"
      },
      "outputs": [
        {
          "output_type": "stream",
          "name": "stdout",
          "text": [
            "<class 'pandas.core.frame.DataFrame'>\n",
            "RangeIndex: 148654 entries, 0 to 148653\n",
            "Data columns (total 13 columns):\n",
            " #   Column            Non-Null Count   Dtype  \n",
            "---  ------            --------------   -----  \n",
            " 0   Id                148654 non-null  int64  \n",
            " 1   EmployeeName      148654 non-null  object \n",
            " 2   JobTitle          148654 non-null  object \n",
            " 3   BasePay           148045 non-null  float64\n",
            " 4   OvertimePay       148650 non-null  float64\n",
            " 5   OtherPay          148650 non-null  float64\n",
            " 6   Benefits          112491 non-null  float64\n",
            " 7   TotalPay          148654 non-null  float64\n",
            " 8   TotalPayBenefits  148654 non-null  float64\n",
            " 9   Year              148654 non-null  int64  \n",
            " 10  Notes             0 non-null       float64\n",
            " 11  Agency            148654 non-null  object \n",
            " 12  Status            38119 non-null   object \n",
            "dtypes: float64(7), int64(2), object(4)\n",
            "memory usage: 14.7+ MB\n"
          ]
        }
      ],
      "source": [
        "sal.info()\n"
      ]
    },
    {
      "cell_type": "code",
      "source": [
        "comparison_result = sal['TotalPay'] == (sal['BasePay'] + sal['OvertimePay'] + sal['OtherPay'])\n",
        "true_count = comparison_result.sum()\n",
        "false_count = len(comparison_result) - true_count\n",
        "print(\"True:\", true_count)\n",
        "print(\"False:\", false_count)"
      ],
      "metadata": {
        "colab": {
          "base_uri": "https://localhost:8080/"
        },
        "id": "N4W4hqy7UJ0N",
        "outputId": "66d7d1e9-8540-4b8e-822b-edf97c2357a5"
      },
      "id": "N4W4hqy7UJ0N",
      "execution_count": null,
      "outputs": [
        {
          "output_type": "stream",
          "name": "stdout",
          "text": [
            "True: 120934\n",
            "False: 27720\n"
          ]
        }
      ]
    },
    {
      "cell_type": "code",
      "source": [
        "sal['tot'] = sal['BasePay'] + sal['OvertimePay'] + sal['OtherPay']\n",
        "print(sal[['EmployeeName', 'tot']])\n"
      ],
      "metadata": {
        "colab": {
          "base_uri": "https://localhost:8080/"
        },
        "id": "Luw5fDZsUZMy",
        "outputId": "84cbe94e-39b0-4095-9274-b8a96ef86833"
      },
      "id": "Luw5fDZsUZMy",
      "execution_count": null,
      "outputs": [
        {
          "output_type": "stream",
          "name": "stdout",
          "text": [
            "             EmployeeName        tot\n",
            "0          NATHANIEL FORD  567595.43\n",
            "1            GARY JIMENEZ  538909.28\n",
            "2          ALBERT PARDINI  335279.91\n",
            "3       CHRISTOPHER CHONG  332343.61\n",
            "4         PATRICK GARDNER  326373.19\n",
            "...                   ...        ...\n",
            "148649      Roy I Tillery       0.00\n",
            "148650       Not provided        NaN\n",
            "148651       Not provided        NaN\n",
            "148652       Not provided        NaN\n",
            "148653          Joe Lopez    -618.13\n",
            "\n",
            "[148654 rows x 2 columns]\n"
          ]
        }
      ]
    },
    {
      "cell_type": "markdown",
      "id": "01284115-6eb2-4544-bc07-b95c69b05ec3",
      "metadata": {
        "id": "01284115-6eb2-4544-bc07-b95c69b05ec3"
      },
      "source": [
        "# sql code"
      ]
    },
    {
      "cell_type": "code",
      "execution_count": null,
      "id": "1cf3e5dd-daab-47ff-a154-785b592385f2",
      "metadata": {
        "id": "1cf3e5dd-daab-47ff-a154-785b592385f2"
      },
      "outputs": [],
      "source": [
        "select EmployeeName , sum(BasePay), sum(OvertimePay), sum(OtherPay)\n",
        "from Salaries\n",
        "group by id"
      ]
    },
    {
      "cell_type": "markdown",
      "id": "51cab719-13e5-4520-b554-766a0993f68a",
      "metadata": {
        "id": "51cab719-13e5-4520-b554-766a0993f68a"
      },
      "source": [
        "#### Q10: Which employee has the highest TotalPayBenefits?\n"
      ]
    },
    {
      "cell_type": "markdown",
      "id": "643f4a2b-647c-4fdf-85de-1e8f0026b8a1",
      "metadata": {
        "id": "643f4a2b-647c-4fdf-85de-1e8f0026b8a1"
      },
      "source": [
        "# PYTHON CODE"
      ]
    },
    {
      "cell_type": "code",
      "execution_count": null,
      "id": "789d289a-13b9-46a6-8e6f-69f13562e1ac",
      "metadata": {
        "colab": {
          "base_uri": "https://localhost:8080/"
        },
        "id": "789d289a-13b9-46a6-8e6f-69f13562e1ac",
        "outputId": "8f2b8d8e-4733-4a05-fa79-89b8648c5e7c"
      },
      "outputs": [
        {
          "output_type": "stream",
          "name": "stdout",
          "text": [
            "NATHANIEL FORD 567595.43\n"
          ]
        }
      ],
      "source": [
        "sal['TotalPayBenefits'] = pd.to_numeric(sal['TotalPayBenefits'], errors='coerce')\n",
        "highest_paid_employee = sal.loc[sal['TotalPayBenefits'].idxmax()]['EmployeeName']\n",
        "print(highest_paid_employee,sal['TotalPayBenefits'].max())"
      ]
    },
    {
      "cell_type": "markdown",
      "id": "5f49a2f1-3596-4430-890e-e6f1e11d8410",
      "metadata": {
        "id": "5f49a2f1-3596-4430-890e-e6f1e11d8410"
      },
      "source": [
        "# sql code"
      ]
    },
    {
      "cell_type": "code",
      "execution_count": null,
      "id": "5c9d4755-2c63-48cd-a945-6192817f5c78",
      "metadata": {
        "id": "5c9d4755-2c63-48cd-a945-6192817f5c78"
      },
      "outputs": [],
      "source": [
        "SELECT EmployeeName, TotalPayBenefits\n",
        "FROM Salaries\n",
        "ORDER BY TotalPayBenefits DESC\n",
        "LIMIT 1;"
      ]
    },
    {
      "cell_type": "markdown",
      "id": "249a27c0-9bbc-49ae-b7e5-e7a4cec509e8",
      "metadata": {
        "id": "249a27c0-9bbc-49ae-b7e5-e7a4cec509e8"
      },
      "source": [
        "#### Q11: How does the average TotalPayBenefits vary across years?\n"
      ]
    },
    {
      "cell_type": "markdown",
      "id": "f2629638-d6a7-484a-ba03-55436f556a30",
      "metadata": {
        "id": "f2629638-d6a7-484a-ba03-55436f556a30"
      },
      "source": [
        "# PYTHON CODE"
      ]
    },
    {
      "cell_type": "code",
      "execution_count": null,
      "id": "d8930f87-395b-448a-ada1-4b0decec0345",
      "metadata": {
        "colab": {
          "base_uri": "https://localhost:8080/",
          "height": 175
        },
        "id": "d8930f87-395b-448a-ada1-4b0decec0345",
        "outputId": "66d17c42-7431-49fa-ae21-38bdcdfe8456"
      },
      "outputs": [
        {
          "output_type": "execute_result",
          "data": {
            "text/plain": [
              "   Year  TotalPayBenefits\n",
              "0  2011      71744.103871\n",
              "1  2012     100553.229232\n",
              "2  2013     101440.519714\n",
              "3  2014     100250.918884"
            ],
            "text/html": [
              "\n",
              "  <div id=\"df-32501000-bb31-4a74-be3f-ca7aea304998\" class=\"colab-df-container\">\n",
              "    <div>\n",
              "<style scoped>\n",
              "    .dataframe tbody tr th:only-of-type {\n",
              "        vertical-align: middle;\n",
              "    }\n",
              "\n",
              "    .dataframe tbody tr th {\n",
              "        vertical-align: top;\n",
              "    }\n",
              "\n",
              "    .dataframe thead th {\n",
              "        text-align: right;\n",
              "    }\n",
              "</style>\n",
              "<table border=\"1\" class=\"dataframe\">\n",
              "  <thead>\n",
              "    <tr style=\"text-align: right;\">\n",
              "      <th></th>\n",
              "      <th>Year</th>\n",
              "      <th>TotalPayBenefits</th>\n",
              "    </tr>\n",
              "  </thead>\n",
              "  <tbody>\n",
              "    <tr>\n",
              "      <th>0</th>\n",
              "      <td>2011</td>\n",
              "      <td>71744.103871</td>\n",
              "    </tr>\n",
              "    <tr>\n",
              "      <th>1</th>\n",
              "      <td>2012</td>\n",
              "      <td>100553.229232</td>\n",
              "    </tr>\n",
              "    <tr>\n",
              "      <th>2</th>\n",
              "      <td>2013</td>\n",
              "      <td>101440.519714</td>\n",
              "    </tr>\n",
              "    <tr>\n",
              "      <th>3</th>\n",
              "      <td>2014</td>\n",
              "      <td>100250.918884</td>\n",
              "    </tr>\n",
              "  </tbody>\n",
              "</table>\n",
              "</div>\n",
              "    <div class=\"colab-df-buttons\">\n",
              "\n",
              "  <div class=\"colab-df-container\">\n",
              "    <button class=\"colab-df-convert\" onclick=\"convertToInteractive('df-32501000-bb31-4a74-be3f-ca7aea304998')\"\n",
              "            title=\"Convert this dataframe to an interactive table.\"\n",
              "            style=\"display:none;\">\n",
              "\n",
              "  <svg xmlns=\"http://www.w3.org/2000/svg\" height=\"24px\" viewBox=\"0 -960 960 960\">\n",
              "    <path d=\"M120-120v-720h720v720H120Zm60-500h600v-160H180v160Zm220 220h160v-160H400v160Zm0 220h160v-160H400v160ZM180-400h160v-160H180v160Zm440 0h160v-160H620v160ZM180-180h160v-160H180v160Zm440 0h160v-160H620v160Z\"/>\n",
              "  </svg>\n",
              "    </button>\n",
              "\n",
              "  <style>\n",
              "    .colab-df-container {\n",
              "      display:flex;\n",
              "      gap: 12px;\n",
              "    }\n",
              "\n",
              "    .colab-df-convert {\n",
              "      background-color: #E8F0FE;\n",
              "      border: none;\n",
              "      border-radius: 50%;\n",
              "      cursor: pointer;\n",
              "      display: none;\n",
              "      fill: #1967D2;\n",
              "      height: 32px;\n",
              "      padding: 0 0 0 0;\n",
              "      width: 32px;\n",
              "    }\n",
              "\n",
              "    .colab-df-convert:hover {\n",
              "      background-color: #E2EBFA;\n",
              "      box-shadow: 0px 1px 2px rgba(60, 64, 67, 0.3), 0px 1px 3px 1px rgba(60, 64, 67, 0.15);\n",
              "      fill: #174EA6;\n",
              "    }\n",
              "\n",
              "    .colab-df-buttons div {\n",
              "      margin-bottom: 4px;\n",
              "    }\n",
              "\n",
              "    [theme=dark] .colab-df-convert {\n",
              "      background-color: #3B4455;\n",
              "      fill: #D2E3FC;\n",
              "    }\n",
              "\n",
              "    [theme=dark] .colab-df-convert:hover {\n",
              "      background-color: #434B5C;\n",
              "      box-shadow: 0px 1px 3px 1px rgba(0, 0, 0, 0.15);\n",
              "      filter: drop-shadow(0px 1px 2px rgba(0, 0, 0, 0.3));\n",
              "      fill: #FFFFFF;\n",
              "    }\n",
              "  </style>\n",
              "\n",
              "    <script>\n",
              "      const buttonEl =\n",
              "        document.querySelector('#df-32501000-bb31-4a74-be3f-ca7aea304998 button.colab-df-convert');\n",
              "      buttonEl.style.display =\n",
              "        google.colab.kernel.accessAllowed ? 'block' : 'none';\n",
              "\n",
              "      async function convertToInteractive(key) {\n",
              "        const element = document.querySelector('#df-32501000-bb31-4a74-be3f-ca7aea304998');\n",
              "        const dataTable =\n",
              "          await google.colab.kernel.invokeFunction('convertToInteractive',\n",
              "                                                    [key], {});\n",
              "        if (!dataTable) return;\n",
              "\n",
              "        const docLinkHtml = 'Like what you see? Visit the ' +\n",
              "          '<a target=\"_blank\" href=https://colab.research.google.com/notebooks/data_table.ipynb>data table notebook</a>'\n",
              "          + ' to learn more about interactive tables.';\n",
              "        element.innerHTML = '';\n",
              "        dataTable['output_type'] = 'display_data';\n",
              "        await google.colab.output.renderOutput(dataTable, element);\n",
              "        const docLink = document.createElement('div');\n",
              "        docLink.innerHTML = docLinkHtml;\n",
              "        element.appendChild(docLink);\n",
              "      }\n",
              "    </script>\n",
              "  </div>\n",
              "\n",
              "\n",
              "<div id=\"df-996b36bd-c4b5-4223-b1ec-8c123134d249\">\n",
              "  <button class=\"colab-df-quickchart\" onclick=\"quickchart('df-996b36bd-c4b5-4223-b1ec-8c123134d249')\"\n",
              "            title=\"Suggest charts\"\n",
              "            style=\"display:none;\">\n",
              "\n",
              "<svg xmlns=\"http://www.w3.org/2000/svg\" height=\"24px\"viewBox=\"0 0 24 24\"\n",
              "     width=\"24px\">\n",
              "    <g>\n",
              "        <path d=\"M19 3H5c-1.1 0-2 .9-2 2v14c0 1.1.9 2 2 2h14c1.1 0 2-.9 2-2V5c0-1.1-.9-2-2-2zM9 17H7v-7h2v7zm4 0h-2V7h2v10zm4 0h-2v-4h2v4z\"/>\n",
              "    </g>\n",
              "</svg>\n",
              "  </button>\n",
              "\n",
              "<style>\n",
              "  .colab-df-quickchart {\n",
              "      --bg-color: #E8F0FE;\n",
              "      --fill-color: #1967D2;\n",
              "      --hover-bg-color: #E2EBFA;\n",
              "      --hover-fill-color: #174EA6;\n",
              "      --disabled-fill-color: #AAA;\n",
              "      --disabled-bg-color: #DDD;\n",
              "  }\n",
              "\n",
              "  [theme=dark] .colab-df-quickchart {\n",
              "      --bg-color: #3B4455;\n",
              "      --fill-color: #D2E3FC;\n",
              "      --hover-bg-color: #434B5C;\n",
              "      --hover-fill-color: #FFFFFF;\n",
              "      --disabled-bg-color: #3B4455;\n",
              "      --disabled-fill-color: #666;\n",
              "  }\n",
              "\n",
              "  .colab-df-quickchart {\n",
              "    background-color: var(--bg-color);\n",
              "    border: none;\n",
              "    border-radius: 50%;\n",
              "    cursor: pointer;\n",
              "    display: none;\n",
              "    fill: var(--fill-color);\n",
              "    height: 32px;\n",
              "    padding: 0;\n",
              "    width: 32px;\n",
              "  }\n",
              "\n",
              "  .colab-df-quickchart:hover {\n",
              "    background-color: var(--hover-bg-color);\n",
              "    box-shadow: 0 1px 2px rgba(60, 64, 67, 0.3), 0 1px 3px 1px rgba(60, 64, 67, 0.15);\n",
              "    fill: var(--button-hover-fill-color);\n",
              "  }\n",
              "\n",
              "  .colab-df-quickchart-complete:disabled,\n",
              "  .colab-df-quickchart-complete:disabled:hover {\n",
              "    background-color: var(--disabled-bg-color);\n",
              "    fill: var(--disabled-fill-color);\n",
              "    box-shadow: none;\n",
              "  }\n",
              "\n",
              "  .colab-df-spinner {\n",
              "    border: 2px solid var(--fill-color);\n",
              "    border-color: transparent;\n",
              "    border-bottom-color: var(--fill-color);\n",
              "    animation:\n",
              "      spin 1s steps(1) infinite;\n",
              "  }\n",
              "\n",
              "  @keyframes spin {\n",
              "    0% {\n",
              "      border-color: transparent;\n",
              "      border-bottom-color: var(--fill-color);\n",
              "      border-left-color: var(--fill-color);\n",
              "    }\n",
              "    20% {\n",
              "      border-color: transparent;\n",
              "      border-left-color: var(--fill-color);\n",
              "      border-top-color: var(--fill-color);\n",
              "    }\n",
              "    30% {\n",
              "      border-color: transparent;\n",
              "      border-left-color: var(--fill-color);\n",
              "      border-top-color: var(--fill-color);\n",
              "      border-right-color: var(--fill-color);\n",
              "    }\n",
              "    40% {\n",
              "      border-color: transparent;\n",
              "      border-right-color: var(--fill-color);\n",
              "      border-top-color: var(--fill-color);\n",
              "    }\n",
              "    60% {\n",
              "      border-color: transparent;\n",
              "      border-right-color: var(--fill-color);\n",
              "    }\n",
              "    80% {\n",
              "      border-color: transparent;\n",
              "      border-right-color: var(--fill-color);\n",
              "      border-bottom-color: var(--fill-color);\n",
              "    }\n",
              "    90% {\n",
              "      border-color: transparent;\n",
              "      border-bottom-color: var(--fill-color);\n",
              "    }\n",
              "  }\n",
              "</style>\n",
              "\n",
              "  <script>\n",
              "    async function quickchart(key) {\n",
              "      const quickchartButtonEl =\n",
              "        document.querySelector('#' + key + ' button');\n",
              "      quickchartButtonEl.disabled = true;  // To prevent multiple clicks.\n",
              "      quickchartButtonEl.classList.add('colab-df-spinner');\n",
              "      try {\n",
              "        const charts = await google.colab.kernel.invokeFunction(\n",
              "            'suggestCharts', [key], {});\n",
              "      } catch (error) {\n",
              "        console.error('Error during call to suggestCharts:', error);\n",
              "      }\n",
              "      quickchartButtonEl.classList.remove('colab-df-spinner');\n",
              "      quickchartButtonEl.classList.add('colab-df-quickchart-complete');\n",
              "    }\n",
              "    (() => {\n",
              "      let quickchartButtonEl =\n",
              "        document.querySelector('#df-996b36bd-c4b5-4223-b1ec-8c123134d249 button');\n",
              "      quickchartButtonEl.style.display =\n",
              "        google.colab.kernel.accessAllowed ? 'block' : 'none';\n",
              "    })();\n",
              "  </script>\n",
              "</div>\n",
              "\n",
              "  <div id=\"id_c9cecb1b-b9cd-4e23-9cc0-2922fe407289\">\n",
              "    <style>\n",
              "      .colab-df-generate {\n",
              "        background-color: #E8F0FE;\n",
              "        border: none;\n",
              "        border-radius: 50%;\n",
              "        cursor: pointer;\n",
              "        display: none;\n",
              "        fill: #1967D2;\n",
              "        height: 32px;\n",
              "        padding: 0 0 0 0;\n",
              "        width: 32px;\n",
              "      }\n",
              "\n",
              "      .colab-df-generate:hover {\n",
              "        background-color: #E2EBFA;\n",
              "        box-shadow: 0px 1px 2px rgba(60, 64, 67, 0.3), 0px 1px 3px 1px rgba(60, 64, 67, 0.15);\n",
              "        fill: #174EA6;\n",
              "      }\n",
              "\n",
              "      [theme=dark] .colab-df-generate {\n",
              "        background-color: #3B4455;\n",
              "        fill: #D2E3FC;\n",
              "      }\n",
              "\n",
              "      [theme=dark] .colab-df-generate:hover {\n",
              "        background-color: #434B5C;\n",
              "        box-shadow: 0px 1px 3px 1px rgba(0, 0, 0, 0.15);\n",
              "        filter: drop-shadow(0px 1px 2px rgba(0, 0, 0, 0.3));\n",
              "        fill: #FFFFFF;\n",
              "      }\n",
              "    </style>\n",
              "    <button class=\"colab-df-generate\" onclick=\"generateWithVariable('average_pay_by_year')\"\n",
              "            title=\"Generate code using this dataframe.\"\n",
              "            style=\"display:none;\">\n",
              "\n",
              "  <svg xmlns=\"http://www.w3.org/2000/svg\" height=\"24px\"viewBox=\"0 0 24 24\"\n",
              "       width=\"24px\">\n",
              "    <path d=\"M7,19H8.4L18.45,9,17,7.55,7,17.6ZM5,21V16.75L18.45,3.32a2,2,0,0,1,2.83,0l1.4,1.43a1.91,1.91,0,0,1,.58,1.4,1.91,1.91,0,0,1-.58,1.4L9.25,21ZM18.45,9,17,7.55Zm-12,3A5.31,5.31,0,0,0,4.9,8.1,5.31,5.31,0,0,0,1,6.5,5.31,5.31,0,0,0,4.9,4.9,5.31,5.31,0,0,0,6.5,1,5.31,5.31,0,0,0,8.1,4.9,5.31,5.31,0,0,0,12,6.5,5.46,5.46,0,0,0,6.5,12Z\"/>\n",
              "  </svg>\n",
              "    </button>\n",
              "    <script>\n",
              "      (() => {\n",
              "      const buttonEl =\n",
              "        document.querySelector('#id_c9cecb1b-b9cd-4e23-9cc0-2922fe407289 button.colab-df-generate');\n",
              "      buttonEl.style.display =\n",
              "        google.colab.kernel.accessAllowed ? 'block' : 'none';\n",
              "\n",
              "      buttonEl.onclick = () => {\n",
              "        google.colab.notebook.generateWithVariable('average_pay_by_year');\n",
              "      }\n",
              "      })();\n",
              "    </script>\n",
              "  </div>\n",
              "\n",
              "    </div>\n",
              "  </div>\n"
            ],
            "application/vnd.google.colaboratory.intrinsic+json": {
              "type": "dataframe",
              "variable_name": "average_pay_by_year",
              "summary": "{\n  \"name\": \"average_pay_by_year\",\n  \"rows\": 4,\n  \"fields\": [\n    {\n      \"column\": \"Year\",\n      \"properties\": {\n        \"dtype\": \"number\",\n        \"std\": 1,\n        \"min\": 2011,\n        \"max\": 2014,\n        \"num_unique_values\": 4,\n        \"samples\": [\n          2012,\n          2014,\n          2011\n        ],\n        \"semantic_type\": \"\",\n        \"description\": \"\"\n      }\n    },\n    {\n      \"column\": \"TotalPayBenefits\",\n      \"properties\": {\n        \"dtype\": \"number\",\n        \"std\": 14510.844066376814,\n        \"min\": 71744.10387123538,\n        \"max\": 101440.51971414135,\n        \"num_unique_values\": 4,\n        \"samples\": [\n          100553.22923244302,\n          100250.91888361356,\n          71744.10387123538\n        ],\n        \"semantic_type\": \"\",\n        \"description\": \"\"\n      }\n    }\n  ]\n}"
            }
          },
          "metadata": {},
          "execution_count": 15
        }
      ],
      "source": [
        "average_pay_by_year = sal.groupby('Year')['TotalPayBenefits'].mean().reset_index()\n",
        "average_pay_by_year"
      ]
    },
    {
      "source": [
        "# @title Year vs TotalPayBenefits\n",
        "\n",
        "from matplotlib import pyplot as plt\n",
        "average_pay_by_year.plot(kind='scatter', x='Year', y='TotalPayBenefits', s=32, alpha=.8)\n",
        "plt.gca().spines[['top', 'right',]].set_visible(False)"
      ],
      "cell_type": "code",
      "execution_count": null,
      "outputs": [
        {
          "output_type": "display_data",
          "data": {
            "text/plain": [
              "<Figure size 640x480 with 1 Axes>"
            ],
            "image/png": "[encoded data removed]"
          },
          "metadata": {}
        }
      ],
      "metadata": {
        "colab": {
          "base_uri": "https://localhost:8080/",
          "height": 449
        },
        "id": "Lr2wXK5HZhJU",
        "outputId": "4237b093-8b1e-4433-8287-58907a575b67"
      },
      "id": "Lr2wXK5HZhJU"
    },
    {
      "cell_type": "markdown",
      "id": "8f2645cc-0f8c-4a12-8311-c411f1ac15b2",
      "metadata": {
        "id": "8f2645cc-0f8c-4a12-8311-c411f1ac15b2"
      },
      "source": [
        "# sql code"
      ]
    },
    {
      "cell_type": "code",
      "execution_count": null,
      "id": "c5636a8f-a05a-49b2-8725-2ecc04ee0353",
      "metadata": {
        "id": "c5636a8f-a05a-49b2-8725-2ecc04ee0353"
      },
      "outputs": [],
      "source": [
        "select avg(TotalPayBenefits), Year from Salaries\n",
        "GROUP by Year\n",
        "ORDER by Year;"
      ]
    },
    {
      "cell_type": "markdown",
      "id": "6f1a9240-ffc0-4f65-aa7d-6472ea6943a1",
      "metadata": {
        "id": "6f1a9240-ffc0-4f65-aa7d-6472ea6943a1"
      },
      "source": [
        "#### Q12: What is the total BasePay for each status (full-time, part-time,etc.)?\n"
      ]
    },
    {
      "cell_type": "markdown",
      "id": "20b26b8c-9315-4bd4-be93-4cf829456238",
      "metadata": {
        "id": "20b26b8c-9315-4bd4-be93-4cf829456238"
      },
      "source": [
        "# PYTHON CODE"
      ]
    },
    {
      "cell_type": "code",
      "execution_count": null,
      "id": "3523334b-2e69-4372-9dcc-e91c79908e26",
      "metadata": {
        "colab": {
          "base_uri": "https://localhost:8080/"
        },
        "id": "3523334b-2e69-4372-9dcc-e91c79908e26",
        "outputId": "af767334-23e7-4311-e077-747810bcda82"
      },
      "outputs": [
        {
          "output_type": "execute_result",
          "data": {
            "text/plain": [
              "Status\n",
              "FT    2.036280e+09\n",
              "PT    5.010892e+08\n",
              "Name: BasePay, dtype: float64"
            ]
          },
          "metadata": {},
          "execution_count": 19
        }
      ],
      "source": [
        "sal.groupby('Status')['BasePay'].sum()"
      ]
    },
    {
      "cell_type": "markdown",
      "id": "c47b2bde-5a2b-4e40-9317-b8634603a81c",
      "metadata": {
        "id": "c47b2bde-5a2b-4e40-9317-b8634603a81c"
      },
      "source": [
        "# sql code"
      ]
    },
    {
      "cell_type": "code",
      "execution_count": null,
      "id": "5a964361-e5d7-4215-a203-13cb0c91a0af",
      "metadata": {
        "id": "5a964361-e5d7-4215-a203-13cb0c91a0af"
      },
      "outputs": [],
      "source": [
        "SELECT Status, SUM(BasePay) as TotalBasePay\n",
        "FROM Salaries\n",
        "GROUP BY Status\n",
        "order by Status;"
      ]
    },
    {
      "cell_type": "markdown",
      "id": "8165f131-8609-401d-8f18-8a9c98b4f576",
      "metadata": {
        "id": "8165f131-8609-401d-8f18-8a9c98b4f576"
      },
      "source": [
        "#### Q13: How many employees are there for each job title in each agency?\n"
      ]
    },
    {
      "cell_type": "markdown",
      "id": "c5ea691d-a0c6-44a4-8dc8-8369f7a694ef",
      "metadata": {
        "id": "c5ea691d-a0c6-44a4-8dc8-8369f7a694ef"
      },
      "source": [
        "# PYTHON CODE"
      ]
    },
    {
      "cell_type": "code",
      "execution_count": null,
      "id": "80925528-745f-4542-8bdb-da9501347cad",
      "metadata": {
        "colab": {
          "base_uri": "https://localhost:8080/",
          "height": 597
        },
        "id": "80925528-745f-4542-8bdb-da9501347cad",
        "outputId": "f181f618-6b67-48be-ff65-e57e4f957011"
      },
      "outputs": [
        {
          "output_type": "execute_result",
          "data": {
            "text/plain": [
              "             Agency                                        JobTitle  \\\n",
              "0     San Francisco                                   ACCOUNT CLERK   \n",
              "1     San Francisco                                      ACCOUNTANT   \n",
              "2     San Francisco                               ACCOUNTANT INTERN   \n",
              "3     San Francisco                     ACPO,JuvP, Juv Prob (SFERS)   \n",
              "4     San Francisco                                   ACUPUNCTURIST   \n",
              "...             ...                                             ...   \n",
              "2154  San Francisco                           X-RAY LABORATORY AIDE   \n",
              "2155  San Francisco                           X-Ray Laboratory Aide   \n",
              "2156  San Francisco  YOUTH COMMISSION ADVISOR, BOARD OF SUPERVISORS   \n",
              "2157  San Francisco                              Youth Comm Advisor   \n",
              "2158  San Francisco                                     ZOO CURATOR   \n",
              "\n",
              "      EmployeeCount  \n",
              "0                83  \n",
              "1                 5  \n",
              "2                48  \n",
              "3                 1  \n",
              "4                 1  \n",
              "...             ...  \n",
              "2154             26  \n",
              "2155            100  \n",
              "2156              1  \n",
              "2157              4  \n",
              "2158              1  \n",
              "\n",
              "[2159 rows x 3 columns]"
            ],
            "text/html": [
              "\n",
              "  <div id=\"df-8724483a-d428-4d60-b82d-77e808741eb2\" class=\"colab-df-container\">\n",
              "    <div>\n",
              "<style scoped>\n",
              "    .dataframe tbody tr th:only-of-type {\n",
              "        vertical-align: middle;\n",
              "    }\n",
              "\n",
              "    .dataframe tbody tr th {\n",
              "        vertical-align: top;\n",
              "    }\n",
              "\n",
              "    .dataframe thead th {\n",
              "        text-align: right;\n",
              "    }\n",
              "</style>\n",
              "<table border=\"1\" class=\"dataframe\">\n",
              "  <thead>\n",
              "    <tr style=\"text-align: right;\">\n",
              "      <th></th>\n",
              "      <th>Agency</th>\n",
              "      <th>JobTitle</th>\n",
              "      <th>EmployeeCount</th>\n",
              "    </tr>\n",
              "  </thead>\n",
              "  <tbody>\n",
              "    <tr>\n",
              "      <th>0</th>\n",
              "      <td>San Francisco</td>\n",
              "      <td>ACCOUNT CLERK</td>\n",
              "      <td>83</td>\n",
              "    </tr>\n",
              "    <tr>\n",
              "      <th>1</th>\n",
              "      <td>San Francisco</td>\n",
              "      <td>ACCOUNTANT</td>\n",
              "      <td>5</td>\n",
              "    </tr>\n",
              "    <tr>\n",
              "      <th>2</th>\n",
              "      <td>San Francisco</td>\n",
              "      <td>ACCOUNTANT INTERN</td>\n",
              "      <td>48</td>\n",
              "    </tr>\n",
              "    <tr>\n",
              "      <th>3</th>\n",
              "      <td>San Francisco</td>\n",
              "      <td>ACPO,JuvP, Juv Prob (SFERS)</td>\n",
              "      <td>1</td>\n",
              "    </tr>\n",
              "    <tr>\n",
              "      <th>4</th>\n",
              "      <td>San Francisco</td>\n",
              "      <td>ACUPUNCTURIST</td>\n",
              "      <td>1</td>\n",
              "    </tr>\n",
              "    <tr>\n",
              "      <th>...</th>\n",
              "      <td>...</td>\n",
              "      <td>...</td>\n",
              "      <td>...</td>\n",
              "    </tr>\n",
              "    <tr>\n",
              "      <th>2154</th>\n",
              "      <td>San Francisco</td>\n",
              "      <td>X-RAY LABORATORY AIDE</td>\n",
              "      <td>26</td>\n",
              "    </tr>\n",
              "    <tr>\n",
              "      <th>2155</th>\n",
              "      <td>San Francisco</td>\n",
              "      <td>X-Ray Laboratory Aide</td>\n",
              "      <td>100</td>\n",
              "    </tr>\n",
              "    <tr>\n",
              "      <th>2156</th>\n",
              "      <td>San Francisco</td>\n",
              "      <td>YOUTH COMMISSION ADVISOR, BOARD OF SUPERVISORS</td>\n",
              "      <td>1</td>\n",
              "    </tr>\n",
              "    <tr>\n",
              "      <th>2157</th>\n",
              "      <td>San Francisco</td>\n",
              "      <td>Youth Comm Advisor</td>\n",
              "      <td>4</td>\n",
              "    </tr>\n",
              "    <tr>\n",
              "      <th>2158</th>\n",
              "      <td>San Francisco</td>\n",
              "      <td>ZOO CURATOR</td>\n",
              "      <td>1</td>\n",
              "    </tr>\n",
              "  </tbody>\n",
              "</table>\n",
              "<p>2159 rows × 3 columns</p>\n",
              "</div>\n",
              "    <div class=\"colab-df-buttons\">\n",
              "\n",
              "  <div class=\"colab-df-container\">\n",
              "    <button class=\"colab-df-convert\" onclick=\"convertToInteractive('df-8724483a-d428-4d60-b82d-77e808741eb2')\"\n",
              "            title=\"Convert this dataframe to an interactive table.\"\n",
              "            style=\"display:none;\">\n",
              "\n",
              "  <svg xmlns=\"http://www.w3.org/2000/svg\" height=\"24px\" viewBox=\"0 -960 960 960\">\n",
              "    <path d=\"M120-120v-720h720v720H120Zm60-500h600v-160H180v160Zm220 220h160v-160H400v160Zm0 220h160v-160H400v160ZM180-400h160v-160H180v160Zm440 0h160v-160H620v160ZM180-180h160v-160H180v160Zm440 0h160v-160H620v160Z\"/>\n",
              "  </svg>\n",
              "    </button>\n",
              "\n",
              "  <style>\n",
              "    .colab-df-container {\n",
              "      display:flex;\n",
              "      gap: 12px;\n",
              "    }\n",
              "\n",
              "    .colab-df-convert {\n",
              "      background-color: #E8F0FE;\n",
              "      border: none;\n",
              "      border-radius: 50%;\n",
              "      cursor: pointer;\n",
              "      display: none;\n",
              "      fill: #1967D2;\n",
              "      height: 32px;\n",
              "      padding: 0 0 0 0;\n",
              "      width: 32px;\n",
              "    }\n",
              "\n",
              "    .colab-df-convert:hover {\n",
              "      background-color: #E2EBFA;\n",
              "      box-shadow: 0px 1px 2px rgba(60, 64, 67, 0.3), 0px 1px 3px 1px rgba(60, 64, 67, 0.15);\n",
              "      fill: #174EA6;\n",
              "    }\n",
              "\n",
              "    .colab-df-buttons div {\n",
              "      margin-bottom: 4px;\n",
              "    }\n",
              "\n",
              "    [theme=dark] .colab-df-convert {\n",
              "      background-color: #3B4455;\n",
              "      fill: #D2E3FC;\n",
              "    }\n",
              "\n",
              "    [theme=dark] .colab-df-convert:hover {\n",
              "      background-color: #434B5C;\n",
              "      box-shadow: 0px 1px 3px 1px rgba(0, 0, 0, 0.15);\n",
              "      filter: drop-shadow(0px 1px 2px rgba(0, 0, 0, 0.3));\n",
              "      fill: #FFFFFF;\n",
              "    }\n",
              "  </style>\n",
              "\n",
              "    <script>\n",
              "      const buttonEl =\n",
              "        document.querySelector('#df-8724483a-d428-4d60-b82d-77e808741eb2 button.colab-df-convert');\n",
              "      buttonEl.style.display =\n",
              "        google.colab.kernel.accessAllowed ? 'block' : 'none';\n",
              "\n",
              "      async function convertToInteractive(key) {\n",
              "        const element = document.querySelector('#df-8724483a-d428-4d60-b82d-77e808741eb2');\n",
              "        const dataTable =\n",
              "          await google.colab.kernel.invokeFunction('convertToInteractive',\n",
              "                                                    [key], {});\n",
              "        if (!dataTable) return;\n",
              "\n",
              "        const docLinkHtml = 'Like what you see? Visit the ' +\n",
              "          '<a target=\"_blank\" href=https://colab.research.google.com/notebooks/data_table.ipynb>data table notebook</a>'\n",
              "          + ' to learn more about interactive tables.';\n",
              "        element.innerHTML = '';\n",
              "        dataTable['output_type'] = 'display_data';\n",
              "        await google.colab.output.renderOutput(dataTable, element);\n",
              "        const docLink = document.createElement('div');\n",
              "        docLink.innerHTML = docLinkHtml;\n",
              "        element.appendChild(docLink);\n",
              "      }\n",
              "    </script>\n",
              "  </div>\n",
              "\n",
              "\n",
              "<div id=\"df-e6a0fb09-5cc4-4620-bcf9-4f87a8353e7f\">\n",
              "  <button class=\"colab-df-quickchart\" onclick=\"quickchart('df-e6a0fb09-5cc4-4620-bcf9-4f87a8353e7f')\"\n",
              "            title=\"Suggest charts\"\n",
              "            style=\"display:none;\">\n",
              "\n",
              "<svg xmlns=\"http://www.w3.org/2000/svg\" height=\"24px\"viewBox=\"0 0 24 24\"\n",
              "     width=\"24px\">\n",
              "    <g>\n",
              "        <path d=\"M19 3H5c-1.1 0-2 .9-2 2v14c0 1.1.9 2 2 2h14c1.1 0 2-.9 2-2V5c0-1.1-.9-2-2-2zM9 17H7v-7h2v7zm4 0h-2V7h2v10zm4 0h-2v-4h2v4z\"/>\n",
              "    </g>\n",
              "</svg>\n",
              "  </button>\n",
              "\n",
              "<style>\n",
              "  .colab-df-quickchart {\n",
              "      --bg-color: #E8F0FE;\n",
              "      --fill-color: #1967D2;\n",
              "      --hover-bg-color: #E2EBFA;\n",
              "      --hover-fill-color: #174EA6;\n",
              "      --disabled-fill-color: #AAA;\n",
              "      --disabled-bg-color: #DDD;\n",
              "  }\n",
              "\n",
              "  [theme=dark] .colab-df-quickchart {\n",
              "      --bg-color: #3B4455;\n",
              "      --fill-color: #D2E3FC;\n",
              "      --hover-bg-color: #434B5C;\n",
              "      --hover-fill-color: #FFFFFF;\n",
              "      --disabled-bg-color: #3B4455;\n",
              "      --disabled-fill-color: #666;\n",
              "  }\n",
              "\n",
              "  .colab-df-quickchart {\n",
              "    background-color: var(--bg-color);\n",
              "    border: none;\n",
              "    border-radius: 50%;\n",
              "    cursor: pointer;\n",
              "    display: none;\n",
              "    fill: var(--fill-color);\n",
              "    height: 32px;\n",
              "    padding: 0;\n",
              "    width: 32px;\n",
              "  }\n",
              "\n",
              "  .colab-df-quickchart:hover {\n",
              "    background-color: var(--hover-bg-color);\n",
              "    box-shadow: 0 1px 2px rgba(60, 64, 67, 0.3), 0 1px 3px 1px rgba(60, 64, 67, 0.15);\n",
              "    fill: var(--button-hover-fill-color);\n",
              "  }\n",
              "\n",
              "  .colab-df-quickchart-complete:disabled,\n",
              "  .colab-df-quickchart-complete:disabled:hover {\n",
              "    background-color: var(--disabled-bg-color);\n",
              "    fill: var(--disabled-fill-color);\n",
              "    box-shadow: none;\n",
              "  }\n",
              "\n",
              "  .colab-df-spinner {\n",
              "    border: 2px solid var(--fill-color);\n",
              "    border-color: transparent;\n",
              "    border-bottom-color: var(--fill-color);\n",
              "    animation:\n",
              "      spin 1s steps(1) infinite;\n",
              "  }\n",
              "\n",
              "  @keyframes spin {\n",
              "    0% {\n",
              "      border-color: transparent;\n",
              "      border-bottom-color: var(--fill-color);\n",
              "      border-left-color: var(--fill-color);\n",
              "    }\n",
              "    20% {\n",
              "      border-color: transparent;\n",
              "      border-left-color: var(--fill-color);\n",
              "      border-top-color: var(--fill-color);\n",
              "    }\n",
              "    30% {\n",
              "      border-color: transparent;\n",
              "      border-left-color: var(--fill-color);\n",
              "      border-top-color: var(--fill-color);\n",
              "      border-right-color: var(--fill-color);\n",
              "    }\n",
              "    40% {\n",
              "      border-color: transparent;\n",
              "      border-right-color: var(--fill-color);\n",
              "      border-top-color: var(--fill-color);\n",
              "    }\n",
              "    60% {\n",
              "      border-color: transparent;\n",
              "      border-right-color: var(--fill-color);\n",
              "    }\n",
              "    80% {\n",
              "      border-color: transparent;\n",
              "      border-right-color: var(--fill-color);\n",
              "      border-bottom-color: var(--fill-color);\n",
              "    }\n",
              "    90% {\n",
              "      border-color: transparent;\n",
              "      border-bottom-color: var(--fill-color);\n",
              "    }\n",
              "  }\n",
              "</style>\n",
              "\n",
              "  <script>\n",
              "    async function quickchart(key) {\n",
              "      const quickchartButtonEl =\n",
              "        document.querySelector('#' + key + ' button');\n",
              "      quickchartButtonEl.disabled = true;  // To prevent multiple clicks.\n",
              "      quickchartButtonEl.classList.add('colab-df-spinner');\n",
              "      try {\n",
              "        const charts = await google.colab.kernel.invokeFunction(\n",
              "            'suggestCharts', [key], {});\n",
              "      } catch (error) {\n",
              "        console.error('Error during call to suggestCharts:', error);\n",
              "      }\n",
              "      quickchartButtonEl.classList.remove('colab-df-spinner');\n",
              "      quickchartButtonEl.classList.add('colab-df-quickchart-complete');\n",
              "    }\n",
              "    (() => {\n",
              "      let quickchartButtonEl =\n",
              "        document.querySelector('#df-e6a0fb09-5cc4-4620-bcf9-4f87a8353e7f button');\n",
              "      quickchartButtonEl.style.display =\n",
              "        google.colab.kernel.accessAllowed ? 'block' : 'none';\n",
              "    })();\n",
              "  </script>\n",
              "</div>\n",
              "\n",
              "    </div>\n",
              "  </div>\n"
            ],
            "application/vnd.google.colaboratory.intrinsic+json": {
              "type": "dataframe",
              "summary": "{\n  \"name\": \"sal\",\n  \"rows\": 2159,\n  \"fields\": [\n    {\n      \"column\": \"Agency\",\n      \"properties\": {\n        \"dtype\": \"category\",\n        \"num_unique_values\": 1,\n        \"samples\": [\n          \"San Francisco\"\n        ],\n        \"semantic_type\": \"\",\n        \"description\": \"\"\n      }\n    },\n    {\n      \"column\": \"JobTitle\",\n      \"properties\": {\n        \"dtype\": \"string\",\n        \"num_unique_values\": 2159,\n        \"samples\": [\n          \"UTILITY PLUMBER APPRENTICE\"\n        ],\n        \"semantic_type\": \"\",\n        \"description\": \"\"\n      }\n    },\n    {\n      \"column\": \"EmployeeCount\",\n      \"properties\": {\n        \"dtype\": \"number\",\n        \"std\": 268,\n        \"min\": 1,\n        \"max\": 7036,\n        \"num_unique_values\": 294,\n        \"samples\": [\n          38\n        ],\n        \"semantic_type\": \"\",\n        \"description\": \"\"\n      }\n    }\n  ]\n}"
            }
          },
          "metadata": {},
          "execution_count": 37
        }
      ],
      "source": [
        "sal.groupby(['Agency','JobTitle']).size().reset_index(name='EmployeeCount')\n"
      ]
    },
    {
      "cell_type": "markdown",
      "id": "d3931a27-17a8-451d-8f85-99c23a662464",
      "metadata": {
        "id": "d3931a27-17a8-451d-8f85-99c23a662464"
      },
      "source": [
        "# sql code"
      ]
    },
    {
      "cell_type": "code",
      "execution_count": null,
      "id": "3f1d56f7-a61d-416c-82bc-b564907a1048",
      "metadata": {
        "id": "3f1d56f7-a61d-416c-82bc-b564907a1048"
      },
      "outputs": [],
      "source": [
        "SELECT count (EmployeeName), JobTitle, Agency FROM Salaries\n",
        "GROUP by EmployeeName"
      ]
    },
    {
      "cell_type": "markdown",
      "id": "25d10353-8632-465b-b538-64a4edbb049e",
      "metadata": {
        "id": "25d10353-8632-465b-b538-64a4edbb049e"
      },
      "source": [
        "#### Q14: Which job title has the highest average Benefits?\n"
      ]
    },
    {
      "cell_type": "markdown",
      "id": "5d999019-32d2-4201-ac92-7c13fb02bbc2",
      "metadata": {
        "id": "5d999019-32d2-4201-ac92-7c13fb02bbc2"
      },
      "source": [
        "# PYTHON CODE"
      ]
    },
    {
      "cell_type": "code",
      "execution_count": null,
      "id": "37739c65-7451-48ef-b395-5f14a7a0132d",
      "metadata": {
        "colab": {
          "base_uri": "https://localhost:8080/"
        },
        "id": "37739c65-7451-48ef-b395-5f14a7a0132d",
        "outputId": "b5c0afe9-095d-4a15-8893-28318dbec6b8"
      },
      "outputs": [
        {
          "output_type": "execute_result",
          "data": {
            "text/plain": [
              "JobTitle\n",
              "Chief Investment Officer    96570.66\n",
              "Name: Benefits, dtype: float64"
            ]
          },
          "metadata": {},
          "execution_count": 21
        }
      ],
      "source": [
        "sal.groupby('JobTitle')['Benefits'].mean().sort_values(ascending=False).head(1)"
      ]
    },
    {
      "cell_type": "markdown",
      "id": "7d9d5d03-4ad0-4759-98b6-d05eb7496c0b",
      "metadata": {
        "id": "7d9d5d03-4ad0-4759-98b6-d05eb7496c0b"
      },
      "source": [
        "# sql code"
      ]
    },
    {
      "cell_type": "code",
      "execution_count": null,
      "id": "888f7f75-237e-44a0-af31-60376715384f",
      "metadata": {
        "id": "888f7f75-237e-44a0-af31-60376715384f"
      },
      "outputs": [],
      "source": [
        "select JobTitle , avg (Benefits)as ab from Salaries\n",
        "GROUP by JobTitle\n",
        "ORDER by JobTitle DESC\n",
        "LIMIT 1 ;"
      ]
    },
    {
      "cell_type": "markdown",
      "id": "579d78de-96eb-4f01-b460-600b2f1f8c0d",
      "metadata": {
        "id": "579d78de-96eb-4f01-b460-600b2f1f8c0d"
      },
      "source": [
        "#### Q15: What is the ratio of BasePay to TotalPayBenefits for each job title?\n"
      ]
    },
    {
      "cell_type": "markdown",
      "id": "f093fff1-8279-4282-9f53-f3a20abba710",
      "metadata": {
        "id": "f093fff1-8279-4282-9f53-f3a20abba710"
      },
      "source": [
        "# PYTHON CODE"
      ]
    },
    {
      "cell_type": "code",
      "execution_count": null,
      "id": "4fba155a-a033-42ef-bb62-67eb0c690260",
      "metadata": {
        "colab": {
          "base_uri": "https://localhost:8080/"
        },
        "id": "4fba155a-a033-42ef-bb62-67eb0c690260",
        "outputId": "1005e80f-6211-4ed3-fdab-1e51101450d9"
      },
      "outputs": [
        {
          "output_type": "stream",
          "name": "stdout",
          "text": [
            "JobTitle\n",
            "ACCOUNT CLERK                                      0.98449\n",
            "ACCOUNTANT                                        0.787718\n",
            "ACCOUNTANT INTERN                                 0.989457\n",
            "ACPO,JuvP, Juv Prob (SFERS)                       0.776051\n",
            "ACUPUNCTURIST                                     0.981951\n",
            "                                                    ...   \n",
            "X-RAY LABORATORY AIDE                              0.90955\n",
            "X-Ray Laboratory Aide                              0.72661\n",
            "YOUTH COMMISSION ADVISOR, BOARD OF SUPERVISORS    0.980927\n",
            "Youth Comm Advisor                                0.631575\n",
            "ZOO CURATOR                                       0.647027\n",
            "Name: BasePay_TotalPayBenefits_Ratio, Length: 2159, dtype: object\n"
          ]
        }
      ],
      "source": [
        "\n",
        "def calculate_ratio(BasePay,TotalPayBenefits):\n",
        "    return BasePay / TotalPayBenefits.replace(0, pd.NA)\n",
        "\n",
        "sal['BasePay_TotalPayBenefits_Ratio'] = calculate_ratio(sal['BasePay'], sal['TotalPayBenefits'])\n",
        "average_ratios = sal.groupby('JobTitle')['BasePay_TotalPayBenefits_Ratio'].mean()\n",
        "print(average_ratios)\n"
      ]
    },
    {
      "cell_type": "markdown",
      "id": "a4fb5b5f-3c6b-44f0-912e-4047c6301d73",
      "metadata": {
        "id": "a4fb5b5f-3c6b-44f0-912e-4047c6301d73"
      },
      "source": [
        "# sql code"
      ]
    },
    {
      "cell_type": "code",
      "execution_count": null,
      "id": "a51f3e40-6104-4d35-9bc4-8d021fa29aa6",
      "metadata": {
        "id": "a51f3e40-6104-4d35-9bc4-8d021fa29aa6"
      },
      "outputs": [],
      "source": [
        "select sum(BasePay)/sum (TotalPayBenefits)as 'BaseTotalRatio',JobTitle from Salaries\n",
        "GROUP by JobTitle\n",
        "ORDER by JobTitle;"
      ]
    },
    {
      "cell_type": "markdown",
      "id": "0ad8139e-ad18-4f86-8720-d33d970032eb",
      "metadata": {
        "id": "0ad8139e-ad18-4f86-8720-d33d970032eb"
      },
      "source": [
        "#### Q16: Which job title has the highest ratio of BasePay to TotalPayBenefits?\n"
      ]
    },
    {
      "cell_type": "markdown",
      "id": "f8f99bbd-40c7-46bd-be87-6b798fabd302",
      "metadata": {
        "id": "f8f99bbd-40c7-46bd-be87-6b798fabd302"
      },
      "source": [
        "# PYTHON CODE"
      ]
    },
    {
      "cell_type": "code",
      "execution_count": null,
      "id": "82e34f12-1bb8-4644-99ef-b02dde4d92ca",
      "metadata": {
        "colab": {
          "base_uri": "https://localhost:8080/",
          "height": 36
        },
        "id": "82e34f12-1bb8-4644-99ef-b02dde4d92ca",
        "outputId": "28513e0d-2836-4cdf-b721-9eefd5d83c3d"
      },
      "outputs": [
        {
          "output_type": "execute_result",
          "data": {
            "text/plain": [
              "'EXECUTIVE CONTRACT EMPLOYEE'"
            ],
            "application/vnd.google.colaboratory.intrinsic+json": {
              "type": "string"
            }
          },
          "metadata": {},
          "execution_count": 23
        }
      ],
      "source": [
        "highest_ratio_index = (sal['BasePay'] / sal['TotalPayBenefits']).idxmax()\n",
        "sal.loc[highest_ratio_index,'JobTitle']"
      ]
    },
    {
      "cell_type": "markdown",
      "id": "d275a100-3c39-47a8-9c1c-3c5bfed07b7e",
      "metadata": {
        "id": "d275a100-3c39-47a8-9c1c-3c5bfed07b7e"
      },
      "source": [
        "# sql code"
      ]
    },
    {
      "cell_type": "code",
      "execution_count": null,
      "id": "03debe10-cfeb-4f3f-8f1f-66a06e316555",
      "metadata": {
        "id": "03debe10-cfeb-4f3f-8f1f-66a06e316555"
      },
      "outputs": [],
      "source": [
        "select sum(BasePay)/sum (TotalPayBenefits)as 'BaseTotalRatio',JobTitle from Salaries\n",
        "GROUP by JobTitle\n",
        "ORDER by BaseTotalRatio DESC\n",
        "LIMIT 1 ;"
      ]
    },
    {
      "cell_type": "markdown",
      "id": "25251e7e-99a5-44d1-a104-adab83e1c4b5",
      "metadata": {
        "id": "25251e7e-99a5-44d1-a104-adab83e1c4b5"
      },
      "source": [
        "#### Q17: How many years of data are available in the dataset?\n"
      ]
    },
    {
      "cell_type": "markdown",
      "id": "a0f04248-6263-4bf6-b4af-c1c17ec7355f",
      "metadata": {
        "id": "a0f04248-6263-4bf6-b4af-c1c17ec7355f"
      },
      "source": [
        "# PYTHON CODE"
      ]
    },
    {
      "cell_type": "code",
      "execution_count": null,
      "id": "a5974b88-19ee-4d0b-b7ab-4b99e5ff75d5",
      "metadata": {
        "colab": {
          "base_uri": "https://localhost:8080/"
        },
        "id": "a5974b88-19ee-4d0b-b7ab-4b99e5ff75d5",
        "outputId": "d8a3792b-2b68-4188-f501-07d54090eb03"
      },
      "outputs": [
        {
          "output_type": "execute_result",
          "data": {
            "text/plain": [
              "4"
            ]
          },
          "metadata": {},
          "execution_count": 24
        }
      ],
      "source": [
        "sal['Year'].nunique()"
      ]
    },
    {
      "cell_type": "markdown",
      "id": "d738f408-ba4d-4daa-882c-45b7ef48f827",
      "metadata": {
        "id": "d738f408-ba4d-4daa-882c-45b7ef48f827"
      },
      "source": [
        "# sql code"
      ]
    },
    {
      "cell_type": "code",
      "execution_count": null,
      "id": "a4554cd8-fca8-4566-a8c5-2eac230ca9ce",
      "metadata": {
        "id": "a4554cd8-fca8-4566-a8c5-2eac230ca9ce"
      },
      "outputs": [],
      "source": [
        "SELECT count (DISTINCT year) from Salaries\n"
      ]
    },
    {
      "cell_type": "markdown",
      "id": "349df33d-e1f2-4069-a8df-39e0b107ec0a",
      "metadata": {
        "id": "349df33d-e1f2-4069-a8df-39e0b107ec0a"
      },
      "source": [
        "#### Q18: What is the average BasePay for each year and job title combination?\n"
      ]
    },
    {
      "cell_type": "markdown",
      "id": "5e41ee64-dedd-4008-ad0e-510abd747873",
      "metadata": {
        "id": "5e41ee64-dedd-4008-ad0e-510abd747873"
      },
      "source": [
        "# PYTHON CODE"
      ]
    },
    {
      "cell_type": "code",
      "execution_count": null,
      "id": "b4304792-77da-4cdb-aca2-12ee7dbc2d29",
      "metadata": {
        "colab": {
          "base_uri": "https://localhost:8080/",
          "height": 423
        },
        "id": "b4304792-77da-4cdb-aca2-12ee7dbc2d29",
        "outputId": "64450b9b-42b4-404a-8f90-bbf4515625e8"
      },
      "outputs": [
        {
          "output_type": "execute_result",
          "data": {
            "text/plain": [
              "      Year                        JobTitle       BasePay\n",
              "0     2011                   ACCOUNT CLERK  43300.806506\n",
              "1     2011                      ACCOUNTANT  46643.172000\n",
              "2     2011               ACCOUNTANT INTERN  28732.663958\n",
              "3     2011                   ACUPUNCTURIST  66374.400000\n",
              "4     2011          ADMINISTRATIVE ANALYST  63435.628602\n",
              "...    ...                             ...           ...\n",
              "4132  2014      Wire Rope Cable Maint Sprv  93904.720000\n",
              "4133  2014      Worker's Comp Supervisor 1  54505.333333\n",
              "4134  2014  Worker's Compensation Adjuster  69915.985385\n",
              "4135  2014           X-Ray Laboratory Aide  45490.340286\n",
              "4136  2014              Youth Comm Advisor  32417.420000\n",
              "\n",
              "[4137 rows x 3 columns]"
            ],
            "text/html": [
              "\n",
              "  <div id=\"df-65e3acd1-c95a-41c9-801b-0249f6bad8b4\" class=\"colab-df-container\">\n",
              "    <div>\n",
              "<style scoped>\n",
              "    .dataframe tbody tr th:only-of-type {\n",
              "        vertical-align: middle;\n",
              "    }\n",
              "\n",
              "    .dataframe tbody tr th {\n",
              "        vertical-align: top;\n",
              "    }\n",
              "\n",
              "    .dataframe thead th {\n",
              "        text-align: right;\n",
              "    }\n",
              "</style>\n",
              "<table border=\"1\" class=\"dataframe\">\n",
              "  <thead>\n",
              "    <tr style=\"text-align: right;\">\n",
              "      <th></th>\n",
              "      <th>Year</th>\n",
              "      <th>JobTitle</th>\n",
              "      <th>BasePay</th>\n",
              "    </tr>\n",
              "  </thead>\n",
              "  <tbody>\n",
              "    <tr>\n",
              "      <th>0</th>\n",
              "      <td>2011</td>\n",
              "      <td>ACCOUNT CLERK</td>\n",
              "      <td>43300.806506</td>\n",
              "    </tr>\n",
              "    <tr>\n",
              "      <th>1</th>\n",
              "      <td>2011</td>\n",
              "      <td>ACCOUNTANT</td>\n",
              "      <td>46643.172000</td>\n",
              "    </tr>\n",
              "    <tr>\n",
              "      <th>2</th>\n",
              "      <td>2011</td>\n",
              "      <td>ACCOUNTANT INTERN</td>\n",
              "      <td>28732.663958</td>\n",
              "    </tr>\n",
              "    <tr>\n",
              "      <th>3</th>\n",
              "      <td>2011</td>\n",
              "      <td>ACUPUNCTURIST</td>\n",
              "      <td>66374.400000</td>\n",
              "    </tr>\n",
              "    <tr>\n",
              "      <th>4</th>\n",
              "      <td>2011</td>\n",
              "      <td>ADMINISTRATIVE ANALYST</td>\n",
              "      <td>63435.628602</td>\n",
              "    </tr>\n",
              "    <tr>\n",
              "      <th>...</th>\n",
              "      <td>...</td>\n",
              "      <td>...</td>\n",
              "      <td>...</td>\n",
              "    </tr>\n",
              "    <tr>\n",
              "      <th>4132</th>\n",
              "      <td>2014</td>\n",
              "      <td>Wire Rope Cable Maint Sprv</td>\n",
              "      <td>93904.720000</td>\n",
              "    </tr>\n",
              "    <tr>\n",
              "      <th>4133</th>\n",
              "      <td>2014</td>\n",
              "      <td>Worker's Comp Supervisor 1</td>\n",
              "      <td>54505.333333</td>\n",
              "    </tr>\n",
              "    <tr>\n",
              "      <th>4134</th>\n",
              "      <td>2014</td>\n",
              "      <td>Worker's Compensation Adjuster</td>\n",
              "      <td>69915.985385</td>\n",
              "    </tr>\n",
              "    <tr>\n",
              "      <th>4135</th>\n",
              "      <td>2014</td>\n",
              "      <td>X-Ray Laboratory Aide</td>\n",
              "      <td>45490.340286</td>\n",
              "    </tr>\n",
              "    <tr>\n",
              "      <th>4136</th>\n",
              "      <td>2014</td>\n",
              "      <td>Youth Comm Advisor</td>\n",
              "      <td>32417.420000</td>\n",
              "    </tr>\n",
              "  </tbody>\n",
              "</table>\n",
              "<p>4137 rows × 3 columns</p>\n",
              "</div>\n",
              "    <div class=\"colab-df-buttons\">\n",
              "\n",
              "  <div class=\"colab-df-container\">\n",
              "    <button class=\"colab-df-convert\" onclick=\"convertToInteractive('df-65e3acd1-c95a-41c9-801b-0249f6bad8b4')\"\n",
              "            title=\"Convert this dataframe to an interactive table.\"\n",
              "            style=\"display:none;\">\n",
              "\n",
              "  <svg xmlns=\"http://www.w3.org/2000/svg\" height=\"24px\" viewBox=\"0 -960 960 960\">\n",
              "    <path d=\"M120-120v-720h720v720H120Zm60-500h600v-160H180v160Zm220 220h160v-160H400v160Zm0 220h160v-160H400v160ZM180-400h160v-160H180v160Zm440 0h160v-160H620v160ZM180-180h160v-160H180v160Zm440 0h160v-160H620v160Z\"/>\n",
              "  </svg>\n",
              "    </button>\n",
              "\n",
              "  <style>\n",
              "    .colab-df-container {\n",
              "      display:flex;\n",
              "      gap: 12px;\n",
              "    }\n",
              "\n",
              "    .colab-df-convert {\n",
              "      background-color: #E8F0FE;\n",
              "      border: none;\n",
              "      border-radius: 50%;\n",
              "      cursor: pointer;\n",
              "      display: none;\n",
              "      fill: #1967D2;\n",
              "      height: 32px;\n",
              "      padding: 0 0 0 0;\n",
              "      width: 32px;\n",
              "    }\n",
              "\n",
              "    .colab-df-convert:hover {\n",
              "      background-color: #E2EBFA;\n",
              "      box-shadow: 0px 1px 2px rgba(60, 64, 67, 0.3), 0px 1px 3px 1px rgba(60, 64, 67, 0.15);\n",
              "      fill: #174EA6;\n",
              "    }\n",
              "\n",
              "    .colab-df-buttons div {\n",
              "      margin-bottom: 4px;\n",
              "    }\n",
              "\n",
              "    [theme=dark] .colab-df-convert {\n",
              "      background-color: #3B4455;\n",
              "      fill: #D2E3FC;\n",
              "    }\n",
              "\n",
              "    [theme=dark] .colab-df-convert:hover {\n",
              "      background-color: #434B5C;\n",
              "      box-shadow: 0px 1px 3px 1px rgba(0, 0, 0, 0.15);\n",
              "      filter: drop-shadow(0px 1px 2px rgba(0, 0, 0, 0.3));\n",
              "      fill: #FFFFFF;\n",
              "    }\n",
              "  </style>\n",
              "\n",
              "    <script>\n",
              "      const buttonEl =\n",
              "        document.querySelector('#df-65e3acd1-c95a-41c9-801b-0249f6bad8b4 button.colab-df-convert');\n",
              "      buttonEl.style.display =\n",
              "        google.colab.kernel.accessAllowed ? 'block' : 'none';\n",
              "\n",
              "      async function convertToInteractive(key) {\n",
              "        const element = document.querySelector('#df-65e3acd1-c95a-41c9-801b-0249f6bad8b4');\n",
              "        const dataTable =\n",
              "          await google.colab.kernel.invokeFunction('convertToInteractive',\n",
              "                                                    [key], {});\n",
              "        if (!dataTable) return;\n",
              "\n",
              "        const docLinkHtml = 'Like what you see? Visit the ' +\n",
              "          '<a target=\"_blank\" href=https://colab.research.google.com/notebooks/data_table.ipynb>data table notebook</a>'\n",
              "          + ' to learn more about interactive tables.';\n",
              "        element.innerHTML = '';\n",
              "        dataTable['output_type'] = 'display_data';\n",
              "        await google.colab.output.renderOutput(dataTable, element);\n",
              "        const docLink = document.createElement('div');\n",
              "        docLink.innerHTML = docLinkHtml;\n",
              "        element.appendChild(docLink);\n",
              "      }\n",
              "    </script>\n",
              "  </div>\n",
              "\n",
              "\n",
              "<div id=\"df-5db62b78-881b-430c-b820-7787d7661bc4\">\n",
              "  <button class=\"colab-df-quickchart\" onclick=\"quickchart('df-5db62b78-881b-430c-b820-7787d7661bc4')\"\n",
              "            title=\"Suggest charts\"\n",
              "            style=\"display:none;\">\n",
              "\n",
              "<svg xmlns=\"http://www.w3.org/2000/svg\" height=\"24px\"viewBox=\"0 0 24 24\"\n",
              "     width=\"24px\">\n",
              "    <g>\n",
              "        <path d=\"M19 3H5c-1.1 0-2 .9-2 2v14c0 1.1.9 2 2 2h14c1.1 0 2-.9 2-2V5c0-1.1-.9-2-2-2zM9 17H7v-7h2v7zm4 0h-2V7h2v10zm4 0h-2v-4h2v4z\"/>\n",
              "    </g>\n",
              "</svg>\n",
              "  </button>\n",
              "\n",
              "<style>\n",
              "  .colab-df-quickchart {\n",
              "      --bg-color: #E8F0FE;\n",
              "      --fill-color: #1967D2;\n",
              "      --hover-bg-color: #E2EBFA;\n",
              "      --hover-fill-color: #174EA6;\n",
              "      --disabled-fill-color: #AAA;\n",
              "      --disabled-bg-color: #DDD;\n",
              "  }\n",
              "\n",
              "  [theme=dark] .colab-df-quickchart {\n",
              "      --bg-color: #3B4455;\n",
              "      --fill-color: #D2E3FC;\n",
              "      --hover-bg-color: #434B5C;\n",
              "      --hover-fill-color: #FFFFFF;\n",
              "      --disabled-bg-color: #3B4455;\n",
              "      --disabled-fill-color: #666;\n",
              "  }\n",
              "\n",
              "  .colab-df-quickchart {\n",
              "    background-color: var(--bg-color);\n",
              "    border: none;\n",
              "    border-radius: 50%;\n",
              "    cursor: pointer;\n",
              "    display: none;\n",
              "    fill: var(--fill-color);\n",
              "    height: 32px;\n",
              "    padding: 0;\n",
              "    width: 32px;\n",
              "  }\n",
              "\n",
              "  .colab-df-quickchart:hover {\n",
              "    background-color: var(--hover-bg-color);\n",
              "    box-shadow: 0 1px 2px rgba(60, 64, 67, 0.3), 0 1px 3px 1px rgba(60, 64, 67, 0.15);\n",
              "    fill: var(--button-hover-fill-color);\n",
              "  }\n",
              "\n",
              "  .colab-df-quickchart-complete:disabled,\n",
              "  .colab-df-quickchart-complete:disabled:hover {\n",
              "    background-color: var(--disabled-bg-color);\n",
              "    fill: var(--disabled-fill-color);\n",
              "    box-shadow: none;\n",
              "  }\n",
              "\n",
              "  .colab-df-spinner {\n",
              "    border: 2px solid var(--fill-color);\n",
              "    border-color: transparent;\n",
              "    border-bottom-color: var(--fill-color);\n",
              "    animation:\n",
              "      spin 1s steps(1) infinite;\n",
              "  }\n",
              "\n",
              "  @keyframes spin {\n",
              "    0% {\n",
              "      border-color: transparent;\n",
              "      border-bottom-color: var(--fill-color);\n",
              "      border-left-color: var(--fill-color);\n",
              "    }\n",
              "    20% {\n",
              "      border-color: transparent;\n",
              "      border-left-color: var(--fill-color);\n",
              "      border-top-color: var(--fill-color);\n",
              "    }\n",
              "    30% {\n",
              "      border-color: transparent;\n",
              "      border-left-color: var(--fill-color);\n",
              "      border-top-color: var(--fill-color);\n",
              "      border-right-color: var(--fill-color);\n",
              "    }\n",
              "    40% {\n",
              "      border-color: transparent;\n",
              "      border-right-color: var(--fill-color);\n",
              "      border-top-color: var(--fill-color);\n",
              "    }\n",
              "    60% {\n",
              "      border-color: transparent;\n",
              "      border-right-color: var(--fill-color);\n",
              "    }\n",
              "    80% {\n",
              "      border-color: transparent;\n",
              "      border-right-color: var(--fill-color);\n",
              "      border-bottom-color: var(--fill-color);\n",
              "    }\n",
              "    90% {\n",
              "      border-color: transparent;\n",
              "      border-bottom-color: var(--fill-color);\n",
              "    }\n",
              "  }\n",
              "</style>\n",
              "\n",
              "  <script>\n",
              "    async function quickchart(key) {\n",
              "      const quickchartButtonEl =\n",
              "        document.querySelector('#' + key + ' button');\n",
              "      quickchartButtonEl.disabled = true;  // To prevent multiple clicks.\n",
              "      quickchartButtonEl.classList.add('colab-df-spinner');\n",
              "      try {\n",
              "        const charts = await google.colab.kernel.invokeFunction(\n",
              "            'suggestCharts', [key], {});\n",
              "      } catch (error) {\n",
              "        console.error('Error during call to suggestCharts:', error);\n",
              "      }\n",
              "      quickchartButtonEl.classList.remove('colab-df-spinner');\n",
              "      quickchartButtonEl.classList.add('colab-df-quickchart-complete');\n",
              "    }\n",
              "    (() => {\n",
              "      let quickchartButtonEl =\n",
              "        document.querySelector('#df-5db62b78-881b-430c-b820-7787d7661bc4 button');\n",
              "      quickchartButtonEl.style.display =\n",
              "        google.colab.kernel.accessAllowed ? 'block' : 'none';\n",
              "    })();\n",
              "  </script>\n",
              "</div>\n",
              "\n",
              "    </div>\n",
              "  </div>\n"
            ],
            "application/vnd.google.colaboratory.intrinsic+json": {
              "type": "dataframe",
              "summary": "{\n  \"name\": \"sal\",\n  \"rows\": 4137,\n  \"fields\": [\n    {\n      \"column\": \"Year\",\n      \"properties\": {\n        \"dtype\": \"number\",\n        \"std\": 1,\n        \"min\": 2011,\n        \"max\": 2014,\n        \"num_unique_values\": 4,\n        \"samples\": [\n          2012,\n          2014,\n          2011\n        ],\n        \"semantic_type\": \"\",\n        \"description\": \"\"\n      }\n    },\n    {\n      \"column\": \"JobTitle\",\n      \"properties\": {\n        \"dtype\": \"string\",\n        \"num_unique_values\": 2159,\n        \"samples\": [\n          \"Welfare Fraud Investigator\",\n          \"PLANNER TECHNICIAN\",\n          \"Water Service Inspector\"\n        ],\n        \"semantic_type\": \"\",\n        \"description\": \"\"\n      }\n    },\n    {\n      \"column\": \"BasePay\",\n      \"properties\": {\n        \"dtype\": \"number\",\n        \"std\": 42837.33717060084,\n        \"min\": 0.0,\n        \"max\": 319275.01,\n        \"num_unique_values\": 4104,\n        \"samples\": [\n          65722.77,\n          51823.147647058824,\n          87663.76999999999\n        ],\n        \"semantic_type\": \"\",\n        \"description\": \"\"\n      }\n    }\n  ]\n}"
            }
          },
          "metadata": {},
          "execution_count": 25
        }
      ],
      "source": [
        "sal.groupby(['Year', 'JobTitle'])['BasePay'].mean().reset_index()"
      ]
    },
    {
      "cell_type": "markdown",
      "id": "838edd30-285c-46d0-859b-958050822a3a",
      "metadata": {
        "id": "838edd30-285c-46d0-859b-958050822a3a"
      },
      "source": [
        "# sql code"
      ]
    },
    {
      "cell_type": "code",
      "execution_count": null,
      "id": "790ade2b-6a5c-4049-a496-30f4b570933d",
      "metadata": {
        "id": "790ade2b-6a5c-4049-a496-30f4b570933d"
      },
      "outputs": [],
      "source": [
        "SELECT Year, JobTitle, AVG(BasePay) as AverageBasePay\n",
        "FROM Salaries\n",
        "GROUP BY Year, JobTitle\n"
      ]
    },
    {
      "cell_type": "markdown",
      "id": "2a438762-fc7f-471c-93cb-f26ff5015cef",
      "metadata": {
        "id": "2a438762-fc7f-471c-93cb-f26ff5015cef"
      },
      "source": [
        "#### Q19: How many employees have a TotalPayBenefits greater than $326373.19??\n"
      ]
    },
    {
      "cell_type": "markdown",
      "id": "5e4d3c56-39fb-47c9-be74-b28fe034c6f1",
      "metadata": {
        "id": "5e4d3c56-39fb-47c9-be74-b28fe034c6f1"
      },
      "source": [
        "# PYTHON CODE"
      ]
    },
    {
      "source": [
        "(sal['TotalPayBenefits'] > 326373.19).sum()"
      ],
      "cell_type": "code",
      "metadata": {
        "colab": {
          "base_uri": "https://localhost:8080/"
        },
        "id": "fU2MvOz6TYmP",
        "outputId": "0939e745-742e-422d-c04e-3eff95ab1e05"
      },
      "id": "fU2MvOz6TYmP",
      "execution_count": null,
      "outputs": [
        {
          "output_type": "execute_result",
          "data": {
            "text/plain": [
              "144"
            ]
          },
          "metadata": {},
          "execution_count": 26
        }
      ]
    },
    {
      "cell_type": "markdown",
      "id": "17f786b0-9b1e-4fe9-b422-891756185877",
      "metadata": {
        "id": "17f786b0-9b1e-4fe9-b422-891756185877"
      },
      "source": [
        "# sql code"
      ]
    },
    {
      "cell_type": "code",
      "execution_count": null,
      "id": "bbe24e15-5dd0-4ea1-b63a-d2d35be6d7a2",
      "metadata": {
        "id": "bbe24e15-5dd0-4ea1-b63a-d2d35be6d7a2"
      },
      "outputs": [],
      "source": [
        "SELECT COUNT(*)FROM Salaries\n",
        "WHERE TotalPayBenefits > 326373.19"
      ]
    },
    {
      "cell_type": "markdown",
      "id": "e0e5537a-c058-41c5-a3b1-c006ef7baeff",
      "metadata": {
        "id": "e0e5537a-c058-41c5-a3b1-c006ef7baeff"
      },
      "source": [
        "#### Q20: Which agency has the highest average TotalPayBenefits?\n"
      ]
    },
    {
      "cell_type": "markdown",
      "id": "119996b3-3603-4ac6-ae2a-d39de9e6fccb",
      "metadata": {
        "id": "119996b3-3603-4ac6-ae2a-d39de9e6fccb"
      },
      "source": [
        "# PYTHON CODE"
      ]
    },
    {
      "cell_type": "code",
      "execution_count": null,
      "id": "c6fda1eb-e15b-43d5-b7af-ba6452206992",
      "metadata": {
        "colab": {
          "base_uri": "https://localhost:8080/"
        },
        "id": "c6fda1eb-e15b-43d5-b7af-ba6452206992",
        "outputId": "587964eb-5db4-494d-9586-a419c8debd7e"
      },
      "outputs": [
        {
          "output_type": "stream",
          "name": "stdout",
          "text": [
            "The agency with the highest average is San Francisco with the highest avg TotalPayBenefits of : 93692.55481056681\n"
          ]
        }
      ],
      "source": [
        "sal['TotalPayBenefits'] = pd.to_numeric(sal['TotalPayBenefits'])\n",
        "agency_with_highest_avg = sal.groupby('Agency')['TotalPayBenefits'].mean().idxmax()\n",
        "HighestAvg=sal.groupby('Agency')['TotalPayBenefits'].mean().max()\n",
        "print(\"The agency with the highest average is\", agency_with_highest_avg, \"with the highest avg TotalPayBenefits of :\", HighestAvg)"
      ]
    },
    {
      "cell_type": "markdown",
      "id": "8c11f6a8-cd53-461a-8b95-4380fab4df9c",
      "metadata": {
        "id": "8c11f6a8-cd53-461a-8b95-4380fab4df9c"
      },
      "source": [
        "# sql code"
      ]
    },
    {
      "cell_type": "code",
      "execution_count": null,
      "id": "73724a43-bc18-4633-a179-dbc7d5655438",
      "metadata": {
        "id": "73724a43-bc18-4633-a179-dbc7d5655438"
      },
      "outputs": [],
      "source": [
        "select avg( TotalPayBenefits) ,Agency from Salaries\n",
        "GROUP by Agency\n",
        "order by agency DESC\n",
        "limit 1 ;"
      ]
    },
    {
      "cell_type": "markdown",
      "source": [
        " * **Data cleaning** *if needed*"
      ],
      "metadata": {
        "id": "jQc-mUM1sova"
      },
      "id": "jQc-mUM1sova"
    },
    {
      "cell_type": "code",
      "source": [
        "sal.info()\n",
        "sal.drop(['Notes'], axis=1, inplace=True)\n",
        "sal.reset_index(drop=True, inplace=True)#if needed\n",
        "\n",
        "sal['Status'].fillna(sal['Status'].mean())"
      ],
      "metadata": {
        "id": "DJGSgpKsrloX"
      },
      "id": "DJGSgpKsrloX",
      "execution_count": null,
      "outputs": []
    },
    {
      "cell_type": "code",
      "source": [
        "sal['Status'].fillna('unknown', inplace = True)"
      ],
      "metadata": {
        "id": "6rtbwLIQtr-C"
      },
      "id": "6rtbwLIQtr-C",
      "execution_count": null,
      "outputs": []
    },
    {
      "cell_type": "code",
      "source": [
        "sal['Status']"
      ],
      "metadata": {
        "colab": {
          "base_uri": "https://localhost:8080/"
        },
        "id": "Jm1KHnsLt4pT",
        "outputId": "b7d69a4b-a57b-4457-afe5-ca54674e80a2"
      },
      "id": "Jm1KHnsLt4pT",
      "execution_count": null,
      "outputs": [
        {
          "output_type": "execute_result",
          "data": {
            "text/plain": [
              "0         unknown\n",
              "1         unknown\n",
              "2         unknown\n",
              "3         unknown\n",
              "4         unknown\n",
              "           ...   \n",
              "148649         PT\n",
              "148650    unknown\n",
              "148651    unknown\n",
              "148652    unknown\n",
              "148653         PT\n",
              "Name: Status, Length: 148654, dtype: object"
            ]
          },
          "metadata": {},
          "execution_count": 58
        }
      ]
    },
    {
      "cell_type": "code",
      "source": [
        "sal = sal[sal['Status'] != 'unknown']\n"
      ],
      "metadata": {
        "id": "l5Xc5d2GuSbK"
      },
      "id": "l5Xc5d2GuSbK",
      "execution_count": null,
      "outputs": []
    },
    {
      "cell_type": "code",
      "source": [
        "sal['Status']"
      ],
      "metadata": {
        "colab": {
          "base_uri": "https://localhost:8080/"
        },
        "id": "x5rgA_zoucIe",
        "outputId": "63f7697b-f20f-449f-f4b7-81b5a08f021c"
      },
      "id": "x5rgA_zoucIe",
      "execution_count": null,
      "outputs": [
        {
          "output_type": "execute_result",
          "data": {
            "text/plain": [
              "110531    PT\n",
              "110532    FT\n",
              "110533    PT\n",
              "110534    FT\n",
              "110535    FT\n",
              "          ..\n",
              "148645    PT\n",
              "148647    PT\n",
              "148648    PT\n",
              "148649    PT\n",
              "148653    PT\n",
              "Name: Status, Length: 38119, dtype: object"
            ]
          },
          "metadata": {},
          "execution_count": 60
        }
      ]
    },
    {
      "cell_type": "markdown",
      "source": [
        "**Excel Dashboard**"
      ],
      "metadata": {
        "id": "EFO93cbPBbSQ"
      },
      "id": "EFO93cbPBbSQ"
    },
    {
      "cell_type": "markdown",
      "source": [
        "![Screenshot 2024-06-03 150937.png](data:image/png;base64,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)"
      ],
      "metadata": {
        "id": "s3y76QKXBRUK"
      },
      "id": "s3y76QKXBRUK"
    },
    {
      "cell_type": "markdown",
      "source": [
        "**Power Bi dashboard**"
      ],
      "metadata": {
        "id": "dVw2RR25Bkqv"
      },
      "id": "dVw2RR25Bkqv"
    },
    {
      "cell_type": "markdown",
      "source": [
        "https://github.com/mohamedabdelaty74/amit/blob/main/salaries.pbix"
      ],
      "metadata": {
        "id": "6bv9-sEpBrvz"
      },
      "id": "6bv9-sEpBrvz"
    },
    {
      "cell_type": "code",
      "source": [],
      "metadata": {
        "id": "34cx-1iHDRoB"
      },
      "id": "34cx-1iHDRoB",
      "execution_count": null,
      "outputs": []
    }
  ],
  "metadata": {
    "kernelspec": {
      "display_name": "Python 3 (ipykernel)",
      "language": "python",
      "name": "python3"
    },
    "language_info": {
      "codemirror_mode": {
        "name": "ipython",
        "version": 3
      },
      "file_extension": ".py",
      "mimetype": "text/x-python",
      "name": "python",
      "nbconvert_exporter": "python",
      "pygments_lexer": "ipython3",
      "version": "3.11.7"
    },
    "colab": {
      "provenance": [],
      "include_colab_link": true
    }
  },
  "nbformat": 4,
  "nbformat_minor": 5
}